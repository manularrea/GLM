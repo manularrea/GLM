{
 "cells": [
  {
   "cell_type": "markdown",
   "metadata": {},
   "source": [
    "<h1>Modelos de regresión generalizados - Práctica: Predicción de morosidad + inferencia de rechazados </h1>\n",
    "\n",
    "`Autor: Manuela Larrea Gómez`"
   ]
  },
  {
   "cell_type": "markdown",
   "metadata": {},
   "source": [
    "<hr>\n",
    "\n",
    "# 💼 Descripción del problema\n",
    "\n"
   ]
  },
  {
   "cell_type": "markdown",
   "metadata": {},
   "source": [
    "\n",
    "<p>\n",
    "Las instituciones bancarias tienen un conjunto de pautas mediante las cuales deciden si ofrecen o no préstamos personales a los potenciales consumidores que los buscan. Como resultado, la información incluida en sus sistemas no siempre es completa.\n",
    "\n",
    "Como resultado, los modelos que ayudan al banco a descubrir tendencias morosas son de naturaleza semisupervisada.\n",
    "</p>\n",
    "\n",
    "## Objetivo\n",
    "\n",
    "Ajustar un modelo que **prediga** la probabilidad de ser **moroso** de un cliente que solicita un crédito"
   ]
  },
  {
   "cell_type": "markdown",
   "metadata": {},
   "source": [
    "\n",
    "## Modelo planteado para la resolución del problema:\n",
    "\n",
    "Dada la naturaleza binaria de la variable de respuesta (morosidad), la **regresión logística** es una opción natural y efectiva para modelar y predecir el riesgo de morosidad en el contexto de la concesión de préstamos personales. Específicamente, se plantea el uso de un modelo de regresión logística binaria."
   ]
  },
  {
   "cell_type": "markdown",
   "metadata": {},
   "source": [
    "### Supuestos de Regresión Logística\n",
    "\n",
    "El modelo de regresión logística requiere varios supuestos clave. Estos son los siguientes: -\n",
    "\n",
    "1. El modelo de regresión logística requiere que la variable dependiente sea de naturaleza binaria, multinomial u ordinal.\n",
    "\n",
    "2. Requiere que las observaciones sean independientes entre sí. Por tanto, las observaciones no deberían provenir de mediciones repetidas.\n",
    "\n",
    "3. El algoritmo de regresión logística requiere poca o ninguna multicolinealidad entre las variables independientes. Significa que las variables independientes no deben estar demasiado correlacionadas entre sí.\n",
    "\n",
    "4. El modelo de regresión logística supone linealidad de variables independientes y probabilidades logarítmicas.\n",
    "\n",
    "5. El éxito del modelo de regresión logística depende del tamaño de la muestra. Normalmente, se requiere un tamaño de muestra grande para lograr una alta precisión.\n",
    "\n",
    "Por lo tanto, es necesario garantizar que los datos cumplen estos supuestos"
   ]
  },
  {
   "cell_type": "markdown",
   "metadata": {},
   "source": [
    "## Descripción del **dataset**\n",
    "\n",
    "-   ACEPTADOS_TRAIN/TEST.- contiene las solicitudes de crédito que han sido aceptadas y para las cuales se conoce si el cliente terminó devolviéndolo (0) o no (1, fue moroso). Para dichas solicitudes se dispone del valor de las variables explicativas en el momento de hacer la solicitud. En ambas tablas se ha hecho un balanceo de clases 50-50 (la tasa real es del 5%).\n",
    "\n",
    "-   RECHAZADOS.- contiene las solicitudes de crédito que fueron rechazadas y para las cuales no se conoce por tanto si el cliente fue o no moroso. Para dichas solicitudes solo se dispone del valor de las variables explicativas en el momento de hacer la solicitud.\n",
    "\n",
    "Cada dataset tiene los siguientes variables:\n",
    "\n",
    "-   AGE: Edad\n",
    "\n",
    "-   BUREAU: Clase de riesgo de la Oficina de crédito\n",
    "\n",
    "-   CAR: Tipo de vehículo\n",
    "\n",
    "-   CARDS: Tipo de tarjeta de crédito (Visa, MasterCard, ...)\n",
    "\n",
    "-   CASH: Dinero en efectivo solicitado\n",
    "\n",
    "-   CHILDREN: Número de niños\n",
    "\n",
    "-   DIV: Región grande (1) o no (0)\n",
    "\n",
    "-   EC_CARD: Titular de tarjetas EC\n",
    "\n",
    "-   FINLOAN: Número de préstamos terminaados\n",
    "\n",
    "-   GB: Si ha pagado (Good = 0) o no (Bad = 1)\n",
    "\n",
    "-   INC: Salario\n",
    "\n",
    "-   INC1: Salario + EC Card\n",
    "\n",
    "-   INCOME: Ingresos\n",
    "\n",
    "-   LOANS: Número de préstamos en curso\n",
    "\n",
    "-   LOCATION: Oficina de crédito con localización física (1) o no (0)\n",
    "\n",
    "-   NAT: Nacionalidad\n",
    "\n",
    "-   NMBLOAN: Número de prestamos Mybank\n",
    "\n",
    "-   PERS_H: Número de habitantes en el hogar\n",
    "\n",
    "-   PRODUCT: Tipo de neogcio\n",
    "\n",
    "-   PROF: Profesión\n",
    "\n",
    "-   REGN: Región\n",
    "\n",
    "-   RESID: Tipo de residencia\n",
    "\n",
    "-   STATUS: Estado\n",
    "\n",
    "-   TEL: Teléfono\n",
    "\n",
    "-   TITLTE: Título\n",
    "\n",
    "-   TMADD: Tiempo en casa\n",
    "\n",
    "-   TMJOB1: Tiempo en el trabajo"
   ]
  },
  {
   "cell_type": "markdown",
   "metadata": {},
   "source": [
    "<img src=\"https://miro.medium.com/v2/0*3TunSOJZ__L70jxN.jpg\" style=\"display: block; margin: 0 auto; max-width: 20%; height: auto;\">"
   ]
  },
  {
   "cell_type": "markdown",
   "metadata": {},
   "source": [
    "Ahora bien, despues de haber hecho esta revisión teórica de la regresión logística y revisado las necesidades del proyecto, podemos poner manos a la obra.\n",
    "\n",
    "\n"
   ]
  },
  {
   "cell_type": "markdown",
   "metadata": {},
   "source": [
    "# 🗂️ Procesamiento de los datos\n",
    "\n"
   ]
  },
  {
   "cell_type": "markdown",
   "metadata": {},
   "source": [
    "## 📚 Importación de librarias "
   ]
  },
  {
   "cell_type": "code",
   "execution_count": 2,
   "metadata": {},
   "outputs": [],
   "source": [
    "import pprint\n",
    "import numpy as np \n",
    "import pandas as pd \n",
    "import matplotlib.pyplot as plt \n",
    "import seaborn as sns \n",
    "import math\n",
    "import warnings\n",
    "import category_encoders as ce\n",
    "\n",
    "from sklearn.model_selection import train_test_split\n",
    "from sklearn.preprocessing import MinMaxScaler\n",
    "from sklearn.linear_model import LogisticRegression\n",
    "from sklearn.metrics import accuracy_score\n",
    "from sklearn.metrics import confusion_matrix\n",
    "from sklearn.metrics import classification_report\n",
    "from sklearn.preprocessing import binarize\n",
    "from sklearn.metrics import roc_curve\n",
    "from sklearn.metrics import roc_auc_score\n",
    "from sklearn.model_selection import cross_val_score\n",
    "from sklearn.model_selection import GridSearchCV\n",
    "\n",
    "\n",
    "\n",
    "warnings.filterwarnings(\"ignore\")\n",
    "\n",
    "%matplotlib inline"
   ]
  },
  {
   "cell_type": "markdown",
   "metadata": {},
   "source": [
    "## 💾 Carga de los datos "
   ]
  },
  {
   "cell_type": "markdown",
   "metadata": {},
   "source": [
    "El primer paso es la lectura de los datos:"
   ]
  },
  {
   "cell_type": "code",
   "execution_count": 3,
   "metadata": {},
   "outputs": [],
   "source": [
    "# Leer el archivo CSV\n",
    "df_train = pd.read_csv(\"../data/aceptados_train.csv\", header=0, sep=\";\", decimal=\".\")\n",
    "df_test = pd.read_csv('../data/aceptados_test.csv', header=0, sep=\";\", decimal=\".\")\n",
    "df= pd.concat([df_train, df_test], axis=0)"
   ]
  },
  {
   "cell_type": "code",
   "execution_count": 4,
   "metadata": {},
   "outputs": [
    {
     "name": "stdout",
     "output_type": "stream",
     "text": [
      "(3000, 28)\n"
     ]
    }
   ],
   "source": [
    "# Verificar las dimensiones del dataframe\n",
    "pprint.pprint(df.shape)"
   ]
  },
  {
   "cell_type": "code",
   "execution_count": 5,
   "metadata": {},
   "outputs": [],
   "source": [
    "# Se eilimin la columna adicional de test (_freq_) dado que no corresponde a los objetivos de este proyecto\n",
    "df = df.drop(columns=['_freq_'])"
   ]
  },
  {
   "cell_type": "code",
   "execution_count": 6,
   "metadata": {},
   "outputs": [
    {
     "name": "stdout",
     "output_type": "stream",
     "text": [
      "(3000, 27)\n"
     ]
    }
   ],
   "source": [
    "# Verificar las dimensiones del dataframe\n",
    "pprint.pprint(df.shape)"
   ]
  },
  {
   "cell_type": "code",
   "execution_count": 7,
   "metadata": {},
   "outputs": [
    {
     "data": {
      "text/html": [
       "<div>\n",
       "<style scoped>\n",
       "    .dataframe tbody tr th:only-of-type {\n",
       "        vertical-align: middle;\n",
       "    }\n",
       "\n",
       "    .dataframe tbody tr th {\n",
       "        vertical-align: top;\n",
       "    }\n",
       "\n",
       "    .dataframe thead th {\n",
       "        text-align: right;\n",
       "    }\n",
       "</style>\n",
       "<table border=\"1\" class=\"dataframe\">\n",
       "  <thead>\n",
       "    <tr style=\"text-align: right;\">\n",
       "      <th></th>\n",
       "      <th>TITLE</th>\n",
       "      <th>CHILDREN</th>\n",
       "      <th>PERS_H</th>\n",
       "      <th>AGE</th>\n",
       "      <th>TMADD</th>\n",
       "      <th>TMJOB1</th>\n",
       "      <th>TEL</th>\n",
       "      <th>NMBLOAN</th>\n",
       "      <th>FINLOAN</th>\n",
       "      <th>INCOME</th>\n",
       "      <th>...</th>\n",
       "      <th>REGN</th>\n",
       "      <th>DIV</th>\n",
       "      <th>CASH</th>\n",
       "      <th>PRODUCT</th>\n",
       "      <th>RESID</th>\n",
       "      <th>NAT</th>\n",
       "      <th>PROF</th>\n",
       "      <th>CAR</th>\n",
       "      <th>CARDS</th>\n",
       "      <th>GB</th>\n",
       "    </tr>\n",
       "  </thead>\n",
       "  <tbody>\n",
       "    <tr>\n",
       "      <th>0</th>\n",
       "      <td>R</td>\n",
       "      <td>0</td>\n",
       "      <td>2</td>\n",
       "      <td>46</td>\n",
       "      <td>1500</td>\n",
       "      <td>3300</td>\n",
       "      <td>200</td>\n",
       "      <td>0</td>\n",
       "      <td>0</td>\n",
       "      <td>0</td>\n",
       "      <td>...</td>\n",
       "      <td>0</td>\n",
       "      <td>0</td>\n",
       "      <td>200000</td>\n",
       "      <td>Radio, TV, Hifi</td>\n",
       "      <td>Lease</td>\n",
       "      <td>German</td>\n",
       "      <td>Others</td>\n",
       "      <td>Car</td>\n",
       "      <td>Cheque card</td>\n",
       "      <td>0</td>\n",
       "    </tr>\n",
       "    <tr>\n",
       "      <th>1</th>\n",
       "      <td>R</td>\n",
       "      <td>0</td>\n",
       "      <td>1</td>\n",
       "      <td>39</td>\n",
       "      <td>19200</td>\n",
       "      <td>600</td>\n",
       "      <td>100</td>\n",
       "      <td>0</td>\n",
       "      <td>0</td>\n",
       "      <td>150000</td>\n",
       "      <td>...</td>\n",
       "      <td>0</td>\n",
       "      <td>0</td>\n",
       "      <td>250000</td>\n",
       "      <td>Furniture,Carpet</td>\n",
       "      <td>Lease</td>\n",
       "      <td>German</td>\n",
       "      <td>Others</td>\n",
       "      <td>Without Vehicle</td>\n",
       "      <td>no credit cards</td>\n",
       "      <td>1</td>\n",
       "    </tr>\n",
       "    <tr>\n",
       "      <th>2</th>\n",
       "      <td>H</td>\n",
       "      <td>3</td>\n",
       "      <td>5</td>\n",
       "      <td>32</td>\n",
       "      <td>4800</td>\n",
       "      <td>10800</td>\n",
       "      <td>200</td>\n",
       "      <td>200</td>\n",
       "      <td>100</td>\n",
       "      <td>0</td>\n",
       "      <td>...</td>\n",
       "      <td>0</td>\n",
       "      <td>0</td>\n",
       "      <td>250000</td>\n",
       "      <td>Furniture,Carpet</td>\n",
       "      <td>Lease</td>\n",
       "      <td>German</td>\n",
       "      <td>Civil Service, M</td>\n",
       "      <td>Car</td>\n",
       "      <td>Cheque card</td>\n",
       "      <td>0</td>\n",
       "    </tr>\n",
       "    <tr>\n",
       "      <th>3</th>\n",
       "      <td>R</td>\n",
       "      <td>0</td>\n",
       "      <td>2</td>\n",
       "      <td>42</td>\n",
       "      <td>14400</td>\n",
       "      <td>3000</td>\n",
       "      <td>200</td>\n",
       "      <td>0</td>\n",
       "      <td>0</td>\n",
       "      <td>190000</td>\n",
       "      <td>...</td>\n",
       "      <td>0</td>\n",
       "      <td>0</td>\n",
       "      <td>900000</td>\n",
       "      <td>Furniture,Carpet</td>\n",
       "      <td>Lease</td>\n",
       "      <td>German</td>\n",
       "      <td>Others</td>\n",
       "      <td>Car</td>\n",
       "      <td>no credit cards</td>\n",
       "      <td>0</td>\n",
       "    </tr>\n",
       "    <tr>\n",
       "      <th>4</th>\n",
       "      <td>R</td>\n",
       "      <td>0</td>\n",
       "      <td>1</td>\n",
       "      <td>20</td>\n",
       "      <td>24000</td>\n",
       "      <td>900</td>\n",
       "      <td>200</td>\n",
       "      <td>0</td>\n",
       "      <td>0</td>\n",
       "      <td>0</td>\n",
       "      <td>...</td>\n",
       "      <td>0</td>\n",
       "      <td>0</td>\n",
       "      <td>400000</td>\n",
       "      <td>Furniture,Carpet</td>\n",
       "      <td>Lease</td>\n",
       "      <td>German</td>\n",
       "      <td>Civil Service, M</td>\n",
       "      <td>Without Vehicle</td>\n",
       "      <td>Cheque card</td>\n",
       "      <td>0</td>\n",
       "    </tr>\n",
       "  </tbody>\n",
       "</table>\n",
       "<p>5 rows × 27 columns</p>\n",
       "</div>"
      ],
      "text/plain": [
       "  TITLE  CHILDREN  PERS_H  AGE  TMADD  TMJOB1  TEL  NMBLOAN  FINLOAN  INCOME  \\\n",
       "0     R         0       2   46   1500    3300  200        0        0       0   \n",
       "1     R         0       1   39  19200     600  100        0        0  150000   \n",
       "2     H         3       5   32   4800   10800  200      200      100       0   \n",
       "3     R         0       2   42  14400    3000  200        0        0  190000   \n",
       "4     R         0       1   20  24000     900  200        0        0       0   \n",
       "\n",
       "   ...  REGN  DIV    CASH           PRODUCT  RESID     NAT              PROF  \\\n",
       "0  ...     0    0  200000   Radio, TV, Hifi  Lease  German            Others   \n",
       "1  ...     0    0  250000  Furniture,Carpet  Lease  German            Others   \n",
       "2  ...     0    0  250000  Furniture,Carpet  Lease  German  Civil Service, M   \n",
       "3  ...     0    0  900000  Furniture,Carpet  Lease  German            Others   \n",
       "4  ...     0    0  400000  Furniture,Carpet  Lease  German  Civil Service, M   \n",
       "\n",
       "               CAR            CARDS  GB  \n",
       "0              Car      Cheque card   0  \n",
       "1  Without Vehicle  no credit cards   1  \n",
       "2              Car      Cheque card   0  \n",
       "3              Car  no credit cards   0  \n",
       "4  Without Vehicle      Cheque card   0  \n",
       "\n",
       "[5 rows x 27 columns]"
      ]
     },
     "execution_count": 7,
     "metadata": {},
     "output_type": "execute_result"
    }
   ],
   "source": [
    "# Mostrar las primeras filas del dataframe\n",
    "df.head()"
   ]
  },
  {
   "cell_type": "code",
   "execution_count": 8,
   "metadata": {},
   "outputs": [
    {
     "data": {
      "text/html": [
       "<div>\n",
       "<style scoped>\n",
       "    .dataframe tbody tr th:only-of-type {\n",
       "        vertical-align: middle;\n",
       "    }\n",
       "\n",
       "    .dataframe tbody tr th {\n",
       "        vertical-align: top;\n",
       "    }\n",
       "\n",
       "    .dataframe thead th {\n",
       "        text-align: right;\n",
       "    }\n",
       "</style>\n",
       "<table border=\"1\" class=\"dataframe\">\n",
       "  <thead>\n",
       "    <tr style=\"text-align: right;\">\n",
       "      <th></th>\n",
       "      <th>TITLE</th>\n",
       "      <th>CHILDREN</th>\n",
       "      <th>PERS_H</th>\n",
       "      <th>AGE</th>\n",
       "      <th>TMADD</th>\n",
       "      <th>TMJOB1</th>\n",
       "      <th>TEL</th>\n",
       "      <th>NMBLOAN</th>\n",
       "      <th>FINLOAN</th>\n",
       "      <th>INCOME</th>\n",
       "      <th>...</th>\n",
       "      <th>REGN</th>\n",
       "      <th>DIV</th>\n",
       "      <th>CASH</th>\n",
       "      <th>PRODUCT</th>\n",
       "      <th>RESID</th>\n",
       "      <th>NAT</th>\n",
       "      <th>PROF</th>\n",
       "      <th>CAR</th>\n",
       "      <th>CARDS</th>\n",
       "      <th>GB</th>\n",
       "    </tr>\n",
       "  </thead>\n",
       "  <tbody>\n",
       "    <tr>\n",
       "      <th>1022</th>\n",
       "      <td>H</td>\n",
       "      <td>0</td>\n",
       "      <td>1</td>\n",
       "      <td>27</td>\n",
       "      <td>2100</td>\n",
       "      <td>6600</td>\n",
       "      <td>200</td>\n",
       "      <td>200</td>\n",
       "      <td>100</td>\n",
       "      <td>220000</td>\n",
       "      <td>...</td>\n",
       "      <td>4</td>\n",
       "      <td>100</td>\n",
       "      <td>60000</td>\n",
       "      <td>Radio, TV, Hifi</td>\n",
       "      <td>Lease</td>\n",
       "      <td>German</td>\n",
       "      <td>Others</td>\n",
       "      <td>Car</td>\n",
       "      <td>no credit cards</td>\n",
       "      <td>1</td>\n",
       "    </tr>\n",
       "    <tr>\n",
       "      <th>1023</th>\n",
       "      <td>H</td>\n",
       "      <td>0</td>\n",
       "      <td>1</td>\n",
       "      <td>56</td>\n",
       "      <td>99900</td>\n",
       "      <td>99900</td>\n",
       "      <td>100</td>\n",
       "      <td>200</td>\n",
       "      <td>100</td>\n",
       "      <td>220000</td>\n",
       "      <td>...</td>\n",
       "      <td>4</td>\n",
       "      <td>100</td>\n",
       "      <td>300000</td>\n",
       "      <td>Radio, TV, Hifi</td>\n",
       "      <td>Lease</td>\n",
       "      <td>German</td>\n",
       "      <td>Civil Service, M</td>\n",
       "      <td>Without Vehicle</td>\n",
       "      <td>no credit cards</td>\n",
       "      <td>1</td>\n",
       "    </tr>\n",
       "    <tr>\n",
       "      <th>1024</th>\n",
       "      <td>H</td>\n",
       "      <td>2</td>\n",
       "      <td>4</td>\n",
       "      <td>35</td>\n",
       "      <td>16800</td>\n",
       "      <td>19200</td>\n",
       "      <td>200</td>\n",
       "      <td>200</td>\n",
       "      <td>100</td>\n",
       "      <td>350000</td>\n",
       "      <td>...</td>\n",
       "      <td>4</td>\n",
       "      <td>100</td>\n",
       "      <td>120000</td>\n",
       "      <td>Dept. Store,Mail</td>\n",
       "      <td>Lease</td>\n",
       "      <td>German</td>\n",
       "      <td>Others</td>\n",
       "      <td>Without Vehicle</td>\n",
       "      <td>no credit cards</td>\n",
       "      <td>0</td>\n",
       "    </tr>\n",
       "    <tr>\n",
       "      <th>1025</th>\n",
       "      <td>H</td>\n",
       "      <td>0</td>\n",
       "      <td>2</td>\n",
       "      <td>29</td>\n",
       "      <td>2100</td>\n",
       "      <td>2100</td>\n",
       "      <td>200</td>\n",
       "      <td>200</td>\n",
       "      <td>100</td>\n",
       "      <td>260000</td>\n",
       "      <td>...</td>\n",
       "      <td>5</td>\n",
       "      <td>100</td>\n",
       "      <td>100000</td>\n",
       "      <td>Radio, TV, Hifi</td>\n",
       "      <td>NaN</td>\n",
       "      <td>German</td>\n",
       "      <td>Others</td>\n",
       "      <td>Car</td>\n",
       "      <td>no credit cards</td>\n",
       "      <td>0</td>\n",
       "    </tr>\n",
       "    <tr>\n",
       "      <th>1026</th>\n",
       "      <td>H</td>\n",
       "      <td>0</td>\n",
       "      <td>1</td>\n",
       "      <td>32</td>\n",
       "      <td>900</td>\n",
       "      <td>2400</td>\n",
       "      <td>200</td>\n",
       "      <td>200</td>\n",
       "      <td>100</td>\n",
       "      <td>280000</td>\n",
       "      <td>...</td>\n",
       "      <td>5</td>\n",
       "      <td>100</td>\n",
       "      <td>250000</td>\n",
       "      <td>Radio, TV, Hifi</td>\n",
       "      <td>Lease</td>\n",
       "      <td>German</td>\n",
       "      <td>Others</td>\n",
       "      <td>Car</td>\n",
       "      <td>no credit cards</td>\n",
       "      <td>1</td>\n",
       "    </tr>\n",
       "  </tbody>\n",
       "</table>\n",
       "<p>5 rows × 27 columns</p>\n",
       "</div>"
      ],
      "text/plain": [
       "     TITLE  CHILDREN  PERS_H  AGE  TMADD  TMJOB1  TEL  NMBLOAN  FINLOAN  \\\n",
       "1022     H         0       1   27   2100    6600  200      200      100   \n",
       "1023     H         0       1   56  99900   99900  100      200      100   \n",
       "1024     H         2       4   35  16800   19200  200      200      100   \n",
       "1025     H         0       2   29   2100    2100  200      200      100   \n",
       "1026     H         0       1   32    900    2400  200      200      100   \n",
       "\n",
       "      INCOME  ...  REGN  DIV    CASH           PRODUCT  RESID     NAT  \\\n",
       "1022  220000  ...     4  100   60000   Radio, TV, Hifi  Lease  German   \n",
       "1023  220000  ...     4  100  300000   Radio, TV, Hifi  Lease  German   \n",
       "1024  350000  ...     4  100  120000  Dept. Store,Mail  Lease  German   \n",
       "1025  260000  ...     5  100  100000   Radio, TV, Hifi    NaN  German   \n",
       "1026  280000  ...     5  100  250000   Radio, TV, Hifi  Lease  German   \n",
       "\n",
       "                  PROF              CAR            CARDS  GB  \n",
       "1022            Others              Car  no credit cards   1  \n",
       "1023  Civil Service, M  Without Vehicle  no credit cards   1  \n",
       "1024            Others  Without Vehicle  no credit cards   0  \n",
       "1025            Others              Car  no credit cards   0  \n",
       "1026            Others              Car  no credit cards   1  \n",
       "\n",
       "[5 rows x 27 columns]"
      ]
     },
     "execution_count": 8,
     "metadata": {},
     "output_type": "execute_result"
    }
   ],
   "source": [
    "# Mostrar las últimas filas del dataframe\n",
    "df.tail()"
   ]
  },
  {
   "cell_type": "code",
   "execution_count": 9,
   "metadata": {},
   "outputs": [
    {
     "data": {
      "text/html": [
       "<div>\n",
       "<style scoped>\n",
       "    .dataframe tbody tr th:only-of-type {\n",
       "        vertical-align: middle;\n",
       "    }\n",
       "\n",
       "    .dataframe tbody tr th {\n",
       "        vertical-align: top;\n",
       "    }\n",
       "\n",
       "    .dataframe thead th {\n",
       "        text-align: right;\n",
       "    }\n",
       "</style>\n",
       "<table border=\"1\" class=\"dataframe\">\n",
       "  <thead>\n",
       "    <tr style=\"text-align: right;\">\n",
       "      <th></th>\n",
       "      <th>title</th>\n",
       "      <th>children</th>\n",
       "      <th>pers_h</th>\n",
       "      <th>age</th>\n",
       "      <th>tmadd</th>\n",
       "      <th>tmjob1</th>\n",
       "      <th>tel</th>\n",
       "      <th>nmbloan</th>\n",
       "      <th>finloan</th>\n",
       "      <th>income</th>\n",
       "      <th>...</th>\n",
       "      <th>regn</th>\n",
       "      <th>div</th>\n",
       "      <th>cash</th>\n",
       "      <th>product</th>\n",
       "      <th>resid</th>\n",
       "      <th>nat</th>\n",
       "      <th>prof</th>\n",
       "      <th>car</th>\n",
       "      <th>cards</th>\n",
       "      <th>gb</th>\n",
       "    </tr>\n",
       "  </thead>\n",
       "  <tbody>\n",
       "    <tr>\n",
       "      <th>0</th>\n",
       "      <td>R</td>\n",
       "      <td>0</td>\n",
       "      <td>2</td>\n",
       "      <td>46</td>\n",
       "      <td>1500</td>\n",
       "      <td>3300</td>\n",
       "      <td>200</td>\n",
       "      <td>0</td>\n",
       "      <td>0</td>\n",
       "      <td>0</td>\n",
       "      <td>...</td>\n",
       "      <td>0</td>\n",
       "      <td>0</td>\n",
       "      <td>200000</td>\n",
       "      <td>Radio, TV, Hifi</td>\n",
       "      <td>Lease</td>\n",
       "      <td>German</td>\n",
       "      <td>Others</td>\n",
       "      <td>Car</td>\n",
       "      <td>Cheque card</td>\n",
       "      <td>0</td>\n",
       "    </tr>\n",
       "    <tr>\n",
       "      <th>1</th>\n",
       "      <td>R</td>\n",
       "      <td>0</td>\n",
       "      <td>1</td>\n",
       "      <td>39</td>\n",
       "      <td>19200</td>\n",
       "      <td>600</td>\n",
       "      <td>100</td>\n",
       "      <td>0</td>\n",
       "      <td>0</td>\n",
       "      <td>150000</td>\n",
       "      <td>...</td>\n",
       "      <td>0</td>\n",
       "      <td>0</td>\n",
       "      <td>250000</td>\n",
       "      <td>Furniture,Carpet</td>\n",
       "      <td>Lease</td>\n",
       "      <td>German</td>\n",
       "      <td>Others</td>\n",
       "      <td>Without Vehicle</td>\n",
       "      <td>no credit cards</td>\n",
       "      <td>1</td>\n",
       "    </tr>\n",
       "    <tr>\n",
       "      <th>2</th>\n",
       "      <td>H</td>\n",
       "      <td>3</td>\n",
       "      <td>5</td>\n",
       "      <td>32</td>\n",
       "      <td>4800</td>\n",
       "      <td>10800</td>\n",
       "      <td>200</td>\n",
       "      <td>200</td>\n",
       "      <td>100</td>\n",
       "      <td>0</td>\n",
       "      <td>...</td>\n",
       "      <td>0</td>\n",
       "      <td>0</td>\n",
       "      <td>250000</td>\n",
       "      <td>Furniture,Carpet</td>\n",
       "      <td>Lease</td>\n",
       "      <td>German</td>\n",
       "      <td>Civil Service, M</td>\n",
       "      <td>Car</td>\n",
       "      <td>Cheque card</td>\n",
       "      <td>0</td>\n",
       "    </tr>\n",
       "    <tr>\n",
       "      <th>3</th>\n",
       "      <td>R</td>\n",
       "      <td>0</td>\n",
       "      <td>2</td>\n",
       "      <td>42</td>\n",
       "      <td>14400</td>\n",
       "      <td>3000</td>\n",
       "      <td>200</td>\n",
       "      <td>0</td>\n",
       "      <td>0</td>\n",
       "      <td>190000</td>\n",
       "      <td>...</td>\n",
       "      <td>0</td>\n",
       "      <td>0</td>\n",
       "      <td>900000</td>\n",
       "      <td>Furniture,Carpet</td>\n",
       "      <td>Lease</td>\n",
       "      <td>German</td>\n",
       "      <td>Others</td>\n",
       "      <td>Car</td>\n",
       "      <td>no credit cards</td>\n",
       "      <td>0</td>\n",
       "    </tr>\n",
       "    <tr>\n",
       "      <th>4</th>\n",
       "      <td>R</td>\n",
       "      <td>0</td>\n",
       "      <td>1</td>\n",
       "      <td>20</td>\n",
       "      <td>24000</td>\n",
       "      <td>900</td>\n",
       "      <td>200</td>\n",
       "      <td>0</td>\n",
       "      <td>0</td>\n",
       "      <td>0</td>\n",
       "      <td>...</td>\n",
       "      <td>0</td>\n",
       "      <td>0</td>\n",
       "      <td>400000</td>\n",
       "      <td>Furniture,Carpet</td>\n",
       "      <td>Lease</td>\n",
       "      <td>German</td>\n",
       "      <td>Civil Service, M</td>\n",
       "      <td>Without Vehicle</td>\n",
       "      <td>Cheque card</td>\n",
       "      <td>0</td>\n",
       "    </tr>\n",
       "    <tr>\n",
       "      <th>...</th>\n",
       "      <td>...</td>\n",
       "      <td>...</td>\n",
       "      <td>...</td>\n",
       "      <td>...</td>\n",
       "      <td>...</td>\n",
       "      <td>...</td>\n",
       "      <td>...</td>\n",
       "      <td>...</td>\n",
       "      <td>...</td>\n",
       "      <td>...</td>\n",
       "      <td>...</td>\n",
       "      <td>...</td>\n",
       "      <td>...</td>\n",
       "      <td>...</td>\n",
       "      <td>...</td>\n",
       "      <td>...</td>\n",
       "      <td>...</td>\n",
       "      <td>...</td>\n",
       "      <td>...</td>\n",
       "      <td>...</td>\n",
       "      <td>...</td>\n",
       "    </tr>\n",
       "    <tr>\n",
       "      <th>1022</th>\n",
       "      <td>H</td>\n",
       "      <td>0</td>\n",
       "      <td>1</td>\n",
       "      <td>27</td>\n",
       "      <td>2100</td>\n",
       "      <td>6600</td>\n",
       "      <td>200</td>\n",
       "      <td>200</td>\n",
       "      <td>100</td>\n",
       "      <td>220000</td>\n",
       "      <td>...</td>\n",
       "      <td>4</td>\n",
       "      <td>100</td>\n",
       "      <td>60000</td>\n",
       "      <td>Radio, TV, Hifi</td>\n",
       "      <td>Lease</td>\n",
       "      <td>German</td>\n",
       "      <td>Others</td>\n",
       "      <td>Car</td>\n",
       "      <td>no credit cards</td>\n",
       "      <td>1</td>\n",
       "    </tr>\n",
       "    <tr>\n",
       "      <th>1023</th>\n",
       "      <td>H</td>\n",
       "      <td>0</td>\n",
       "      <td>1</td>\n",
       "      <td>56</td>\n",
       "      <td>99900</td>\n",
       "      <td>99900</td>\n",
       "      <td>100</td>\n",
       "      <td>200</td>\n",
       "      <td>100</td>\n",
       "      <td>220000</td>\n",
       "      <td>...</td>\n",
       "      <td>4</td>\n",
       "      <td>100</td>\n",
       "      <td>300000</td>\n",
       "      <td>Radio, TV, Hifi</td>\n",
       "      <td>Lease</td>\n",
       "      <td>German</td>\n",
       "      <td>Civil Service, M</td>\n",
       "      <td>Without Vehicle</td>\n",
       "      <td>no credit cards</td>\n",
       "      <td>1</td>\n",
       "    </tr>\n",
       "    <tr>\n",
       "      <th>1024</th>\n",
       "      <td>H</td>\n",
       "      <td>2</td>\n",
       "      <td>4</td>\n",
       "      <td>35</td>\n",
       "      <td>16800</td>\n",
       "      <td>19200</td>\n",
       "      <td>200</td>\n",
       "      <td>200</td>\n",
       "      <td>100</td>\n",
       "      <td>350000</td>\n",
       "      <td>...</td>\n",
       "      <td>4</td>\n",
       "      <td>100</td>\n",
       "      <td>120000</td>\n",
       "      <td>Dept. Store,Mail</td>\n",
       "      <td>Lease</td>\n",
       "      <td>German</td>\n",
       "      <td>Others</td>\n",
       "      <td>Without Vehicle</td>\n",
       "      <td>no credit cards</td>\n",
       "      <td>0</td>\n",
       "    </tr>\n",
       "    <tr>\n",
       "      <th>1025</th>\n",
       "      <td>H</td>\n",
       "      <td>0</td>\n",
       "      <td>2</td>\n",
       "      <td>29</td>\n",
       "      <td>2100</td>\n",
       "      <td>2100</td>\n",
       "      <td>200</td>\n",
       "      <td>200</td>\n",
       "      <td>100</td>\n",
       "      <td>260000</td>\n",
       "      <td>...</td>\n",
       "      <td>5</td>\n",
       "      <td>100</td>\n",
       "      <td>100000</td>\n",
       "      <td>Radio, TV, Hifi</td>\n",
       "      <td>NaN</td>\n",
       "      <td>German</td>\n",
       "      <td>Others</td>\n",
       "      <td>Car</td>\n",
       "      <td>no credit cards</td>\n",
       "      <td>0</td>\n",
       "    </tr>\n",
       "    <tr>\n",
       "      <th>1026</th>\n",
       "      <td>H</td>\n",
       "      <td>0</td>\n",
       "      <td>1</td>\n",
       "      <td>32</td>\n",
       "      <td>900</td>\n",
       "      <td>2400</td>\n",
       "      <td>200</td>\n",
       "      <td>200</td>\n",
       "      <td>100</td>\n",
       "      <td>280000</td>\n",
       "      <td>...</td>\n",
       "      <td>5</td>\n",
       "      <td>100</td>\n",
       "      <td>250000</td>\n",
       "      <td>Radio, TV, Hifi</td>\n",
       "      <td>Lease</td>\n",
       "      <td>German</td>\n",
       "      <td>Others</td>\n",
       "      <td>Car</td>\n",
       "      <td>no credit cards</td>\n",
       "      <td>1</td>\n",
       "    </tr>\n",
       "  </tbody>\n",
       "</table>\n",
       "<p>3000 rows × 27 columns</p>\n",
       "</div>"
      ],
      "text/plain": [
       "     title  children  pers_h  age  tmadd  tmjob1  tel  nmbloan  finloan  \\\n",
       "0        R         0       2   46   1500    3300  200        0        0   \n",
       "1        R         0       1   39  19200     600  100        0        0   \n",
       "2        H         3       5   32   4800   10800  200      200      100   \n",
       "3        R         0       2   42  14400    3000  200        0        0   \n",
       "4        R         0       1   20  24000     900  200        0        0   \n",
       "...    ...       ...     ...  ...    ...     ...  ...      ...      ...   \n",
       "1022     H         0       1   27   2100    6600  200      200      100   \n",
       "1023     H         0       1   56  99900   99900  100      200      100   \n",
       "1024     H         2       4   35  16800   19200  200      200      100   \n",
       "1025     H         0       2   29   2100    2100  200      200      100   \n",
       "1026     H         0       1   32    900    2400  200      200      100   \n",
       "\n",
       "      income  ...  regn  div    cash           product  resid     nat  \\\n",
       "0          0  ...     0    0  200000   Radio, TV, Hifi  Lease  German   \n",
       "1     150000  ...     0    0  250000  Furniture,Carpet  Lease  German   \n",
       "2          0  ...     0    0  250000  Furniture,Carpet  Lease  German   \n",
       "3     190000  ...     0    0  900000  Furniture,Carpet  Lease  German   \n",
       "4          0  ...     0    0  400000  Furniture,Carpet  Lease  German   \n",
       "...      ...  ...   ...  ...     ...               ...    ...     ...   \n",
       "1022  220000  ...     4  100   60000   Radio, TV, Hifi  Lease  German   \n",
       "1023  220000  ...     4  100  300000   Radio, TV, Hifi  Lease  German   \n",
       "1024  350000  ...     4  100  120000  Dept. Store,Mail  Lease  German   \n",
       "1025  260000  ...     5  100  100000   Radio, TV, Hifi    NaN  German   \n",
       "1026  280000  ...     5  100  250000   Radio, TV, Hifi  Lease  German   \n",
       "\n",
       "                  prof              car            cards  gb  \n",
       "0               Others              Car      Cheque card   0  \n",
       "1               Others  Without Vehicle  no credit cards   1  \n",
       "2     Civil Service, M              Car      Cheque card   0  \n",
       "3               Others              Car  no credit cards   0  \n",
       "4     Civil Service, M  Without Vehicle      Cheque card   0  \n",
       "...                ...              ...              ...  ..  \n",
       "1022            Others              Car  no credit cards   1  \n",
       "1023  Civil Service, M  Without Vehicle  no credit cards   1  \n",
       "1024            Others  Without Vehicle  no credit cards   0  \n",
       "1025            Others              Car  no credit cards   0  \n",
       "1026            Others              Car  no credit cards   1  \n",
       "\n",
       "[3000 rows x 27 columns]"
      ]
     },
     "execution_count": 9,
     "metadata": {},
     "output_type": "execute_result"
    }
   ],
   "source": [
    "# Limpiar los nombres de las columnas\n",
    "df.columns = df.columns.str.lower()\n",
    "df"
   ]
  },
  {
   "cell_type": "markdown",
   "metadata": {},
   "source": [
    "## 📊 Exploración Inicial de los datos "
   ]
  },
  {
   "cell_type": "markdown",
   "metadata": {},
   "source": [
    "### Caracterización inicial de los datos"
   ]
  },
  {
   "cell_type": "code",
   "execution_count": 10,
   "metadata": {},
   "outputs": [
    {
     "data": {
      "text/plain": [
       "title       object\n",
       "children     int64\n",
       "pers_h       int64\n",
       "age          int64\n",
       "tmadd        int64\n",
       "tmjob1       int64\n",
       "tel          int64\n",
       "nmbloan      int64\n",
       "finloan      int64\n",
       "income       int64\n",
       "ec_card      int64\n",
       "inc          int64\n",
       "inc1         int64\n",
       "status      object\n",
       "bureau       int64\n",
       "location     int64\n",
       "loans        int64\n",
       "regn         int64\n",
       "div          int64\n",
       "cash         int64\n",
       "product     object\n",
       "resid       object\n",
       "nat         object\n",
       "prof        object\n",
       "car         object\n",
       "cards       object\n",
       "gb           int64\n",
       "dtype: object"
      ]
     },
     "execution_count": 10,
     "metadata": {},
     "output_type": "execute_result"
    }
   ],
   "source": [
    "df.dtypes"
   ]
  },
  {
   "cell_type": "markdown",
   "metadata": {},
   "source": [
    "Si bien el dtypes muestra que una gran mayoría de variables son del tipo int64, esta categorización es incorrecta. Las variables deberían tener el siguiente tipo:\n",
    "\n",
    "<table style=\"float:left; margin-left: 150px; max-height:250px\">\n",
    "  <tr>\n",
    "    <th>Variable categórica</th>\n",
    "  </tr>\n",
    "  <tr>\n",
    "    <td>title</td>\n",
    "  </tr>\n",
    "  <tr>\n",
    "    <td>status</td>\n",
    "  </tr>\t\n",
    "  <tr>\n",
    "    <td>product</td>\n",
    "  </tr>\t\n",
    "  <tr>\n",
    "    <td>resid</td>\n",
    "  </tr>\n",
    "  <tr>\n",
    "    <td>regn</td>\n",
    "  </tr>\n",
    "  <tr>\n",
    "    <td>nat</td>\n",
    "  </tr>\n",
    "  <tr>\n",
    "    <td>prof</td>\n",
    "  </tr>\n",
    "  <tr>\n",
    "    <td>car</td>\n",
    "  </tr>\n",
    "  <tr>\n",
    "    <td>cards</td>\n",
    "  </tr>\t\t\t\n",
    "  <tr>\n",
    "    <td>bureau</td>\n",
    "  </tr>\n",
    "  <tr>\n",
    "    <td>tel</td>\n",
    "  </tr>\n",
    "  <tr>\n",
    "    <td>ec_card</td>\n",
    "  </tr>\n",
    "  <tr>\n",
    "    <td>div</td>\n",
    "  </tr>\t\n",
    "  <tr>\n",
    "    <td>location</td>\n",
    "  </tr>\t\t\t\t\t\n",
    "  <tr>\n",
    "    <td>gb</td>\n",
    "  </tr>\n",
    "    <tr>\n",
    "    <td>finloan</td>\n",
    "  </tr>\n",
    "  <tr>\n",
    "    <td>nmbloan</td>\n",
    "  </tr>\t\t\t\t\t\t\t\t\n",
    "</table>\n",
    "\n",
    "<table style=\"float:right;margin-right: 200px; max-height:250px\">\n",
    "  <tr>\n",
    "    <th>Variable numérica</th>\n",
    "  </tr>\n",
    "  <tr>\n",
    "    <td>age</td>\n",
    "  </tr>\n",
    "  <tr>\n",
    "    <td>children</td>\n",
    "  </tr>\t\n",
    "  <tr>\n",
    "    <td>inc</td>\n",
    "  </tr>\t\n",
    "  <tr>\n",
    "    <td>income</td>\n",
    "  </tr>\n",
    "  <tr>\n",
    "    <td>inc1</td>\n",
    "  </tr>\n",
    "  <tr>\n",
    "    <td>loans</td>\n",
    "  </tr>\n",
    "  <tr>\n",
    "    <td>pers_h</td>\n",
    "  </tr>\t\t\t\n",
    "  <tr>\n",
    "    <td>tmadd</td>\n",
    "  </tr>\n",
    "  <tr>\n",
    "    <td>tmjob1</td>\n",
    "  </tr>\n",
    "  <tr>\n",
    "    <td>cash</td>\n",
    "  </tr>\t\t\t\t\t\t\t\t\t\t\t\n",
    "</table>\n"
   ]
  },
  {
   "cell_type": "markdown",
   "metadata": {},
   "source": [
    "<p>\n",
    "Por tanto, se procede al parseo de las variables a su tipo correspondiente:\n",
    "<p>"
   ]
  },
  {
   "cell_type": "code",
   "execution_count": 11,
   "metadata": {},
   "outputs": [],
   "source": [
    "df = df.astype({'title': 'object', 'status': 'object', 'product': 'object', \n",
    "                'resid': 'object', 'regn': 'object', 'nat': 'object', 'prof': 'object', \n",
    "                'car': 'object', 'cards': 'object', 'bureau': 'object', 'tel': 'object', \n",
    "                'ec_card': 'object', 'div': 'object', 'location': 'object', 'gb': 'object',\n",
    "                'nmbloan' : 'object', 'finloan' : 'object'\n",
    "                })"
   ]
  },
  {
   "cell_type": "code",
   "execution_count": 12,
   "metadata": {},
   "outputs": [
    {
     "name": "stdout",
     "output_type": "stream",
     "text": [
      "<class 'pandas.core.frame.DataFrame'>\n",
      "Index: 3000 entries, 0 to 1026\n",
      "Data columns (total 27 columns):\n",
      " #   Column    Non-Null Count  Dtype \n",
      "---  ------    --------------  ----- \n",
      " 0   title     3000 non-null   object\n",
      " 1   children  3000 non-null   int64 \n",
      " 2   pers_h    3000 non-null   int64 \n",
      " 3   age       3000 non-null   int64 \n",
      " 4   tmadd     3000 non-null   int64 \n",
      " 5   tmjob1    3000 non-null   int64 \n",
      " 6   tel       3000 non-null   object\n",
      " 7   nmbloan   3000 non-null   object\n",
      " 8   finloan   3000 non-null   object\n",
      " 9   income    3000 non-null   int64 \n",
      " 10  ec_card   3000 non-null   object\n",
      " 11  inc       3000 non-null   int64 \n",
      " 12  inc1      3000 non-null   int64 \n",
      " 13  status    3000 non-null   object\n",
      " 14  bureau    3000 non-null   object\n",
      " 15  location  3000 non-null   object\n",
      " 16  loans     3000 non-null   int64 \n",
      " 17  regn      3000 non-null   object\n",
      " 18  div       3000 non-null   object\n",
      " 19  cash      3000 non-null   int64 \n",
      " 20  product   2988 non-null   object\n",
      " 21  resid     2465 non-null   object\n",
      " 22  nat       3000 non-null   object\n",
      " 23  prof      2999 non-null   object\n",
      " 24  car       3000 non-null   object\n",
      " 25  cards     3000 non-null   object\n",
      " 26  gb        3000 non-null   object\n",
      "dtypes: int64(10), object(17)\n",
      "memory usage: 656.2+ KB\n"
     ]
    }
   ],
   "source": [
    "df.info()"
   ]
  },
  {
   "cell_type": "markdown",
   "metadata": {},
   "source": [
    "Además de observar que las variables se encuentran parseadas a su tipo correspondiente, es posible ver que las columnas product, resid y prof tienen valores nulos. Estos serán abordados más adelante."
   ]
  },
  {
   "cell_type": "markdown",
   "metadata": {},
   "source": [
    "### Exploración de variables categóricas"
   ]
  },
  {
   "cell_type": "code",
   "execution_count": 13,
   "metadata": {},
   "outputs": [
    {
     "name": "stdout",
     "output_type": "stream",
     "text": [
      "Hay 17 variables categóricas\n",
      "\n",
      "Las variables categóricas son:\n",
      "['title',\n",
      " 'tel',\n",
      " 'nmbloan',\n",
      " 'finloan',\n",
      " 'ec_card',\n",
      " 'status',\n",
      " 'bureau',\n",
      " 'location',\n",
      " 'regn',\n",
      " 'div',\n",
      " 'product',\n",
      " 'resid',\n",
      " 'nat',\n",
      " 'prof',\n",
      " 'car',\n",
      " 'cards',\n",
      " 'gb']\n"
     ]
    }
   ],
   "source": [
    "categorical = [var for var in df.columns if df[var].dtype=='O']\n",
    "print('Hay {} variables categóricas\\n'.format(len(categorical)))\n",
    "print('Las variables categóricas son:')\n",
    "pprint.pprint(categorical)"
   ]
  },
  {
   "cell_type": "code",
   "execution_count": 14,
   "metadata": {},
   "outputs": [
    {
     "data": {
      "text/html": [
       "<div>\n",
       "<style scoped>\n",
       "    .dataframe tbody tr th:only-of-type {\n",
       "        vertical-align: middle;\n",
       "    }\n",
       "\n",
       "    .dataframe tbody tr th {\n",
       "        vertical-align: top;\n",
       "    }\n",
       "\n",
       "    .dataframe thead th {\n",
       "        text-align: right;\n",
       "    }\n",
       "</style>\n",
       "<table border=\"1\" class=\"dataframe\">\n",
       "  <thead>\n",
       "    <tr style=\"text-align: right;\">\n",
       "      <th></th>\n",
       "      <th>title</th>\n",
       "      <th>tel</th>\n",
       "      <th>nmbloan</th>\n",
       "      <th>finloan</th>\n",
       "      <th>ec_card</th>\n",
       "      <th>status</th>\n",
       "      <th>bureau</th>\n",
       "      <th>location</th>\n",
       "      <th>regn</th>\n",
       "      <th>div</th>\n",
       "      <th>product</th>\n",
       "      <th>resid</th>\n",
       "      <th>nat</th>\n",
       "      <th>prof</th>\n",
       "      <th>car</th>\n",
       "      <th>cards</th>\n",
       "      <th>gb</th>\n",
       "    </tr>\n",
       "  </thead>\n",
       "  <tbody>\n",
       "    <tr>\n",
       "      <th>0</th>\n",
       "      <td>R</td>\n",
       "      <td>200</td>\n",
       "      <td>0</td>\n",
       "      <td>0</td>\n",
       "      <td>100</td>\n",
       "      <td>V</td>\n",
       "      <td>300</td>\n",
       "      <td>100</td>\n",
       "      <td>0</td>\n",
       "      <td>0</td>\n",
       "      <td>Radio, TV, Hifi</td>\n",
       "      <td>Lease</td>\n",
       "      <td>German</td>\n",
       "      <td>Others</td>\n",
       "      <td>Car</td>\n",
       "      <td>Cheque card</td>\n",
       "      <td>0</td>\n",
       "    </tr>\n",
       "    <tr>\n",
       "      <th>1</th>\n",
       "      <td>R</td>\n",
       "      <td>100</td>\n",
       "      <td>0</td>\n",
       "      <td>0</td>\n",
       "      <td>0</td>\n",
       "      <td>W</td>\n",
       "      <td>100</td>\n",
       "      <td>100</td>\n",
       "      <td>0</td>\n",
       "      <td>0</td>\n",
       "      <td>Furniture,Carpet</td>\n",
       "      <td>Lease</td>\n",
       "      <td>German</td>\n",
       "      <td>Others</td>\n",
       "      <td>Without Vehicle</td>\n",
       "      <td>no credit cards</td>\n",
       "      <td>1</td>\n",
       "    </tr>\n",
       "    <tr>\n",
       "      <th>2</th>\n",
       "      <td>H</td>\n",
       "      <td>200</td>\n",
       "      <td>200</td>\n",
       "      <td>100</td>\n",
       "      <td>100</td>\n",
       "      <td>V</td>\n",
       "      <td>100</td>\n",
       "      <td>100</td>\n",
       "      <td>0</td>\n",
       "      <td>0</td>\n",
       "      <td>Furniture,Carpet</td>\n",
       "      <td>Lease</td>\n",
       "      <td>German</td>\n",
       "      <td>Civil Service, M</td>\n",
       "      <td>Car</td>\n",
       "      <td>Cheque card</td>\n",
       "      <td>0</td>\n",
       "    </tr>\n",
       "    <tr>\n",
       "      <th>3</th>\n",
       "      <td>R</td>\n",
       "      <td>200</td>\n",
       "      <td>0</td>\n",
       "      <td>0</td>\n",
       "      <td>0</td>\n",
       "      <td>V</td>\n",
       "      <td>300</td>\n",
       "      <td>100</td>\n",
       "      <td>0</td>\n",
       "      <td>0</td>\n",
       "      <td>Furniture,Carpet</td>\n",
       "      <td>Lease</td>\n",
       "      <td>German</td>\n",
       "      <td>Others</td>\n",
       "      <td>Car</td>\n",
       "      <td>no credit cards</td>\n",
       "      <td>0</td>\n",
       "    </tr>\n",
       "    <tr>\n",
       "      <th>4</th>\n",
       "      <td>R</td>\n",
       "      <td>200</td>\n",
       "      <td>0</td>\n",
       "      <td>0</td>\n",
       "      <td>100</td>\n",
       "      <td>U</td>\n",
       "      <td>300</td>\n",
       "      <td>100</td>\n",
       "      <td>0</td>\n",
       "      <td>0</td>\n",
       "      <td>Furniture,Carpet</td>\n",
       "      <td>Lease</td>\n",
       "      <td>German</td>\n",
       "      <td>Civil Service, M</td>\n",
       "      <td>Without Vehicle</td>\n",
       "      <td>Cheque card</td>\n",
       "      <td>0</td>\n",
       "    </tr>\n",
       "  </tbody>\n",
       "</table>\n",
       "</div>"
      ],
      "text/plain": [
       "  title  tel nmbloan finloan ec_card status bureau location regn div  \\\n",
       "0     R  200       0       0     100      V    300      100    0   0   \n",
       "1     R  100       0       0       0      W    100      100    0   0   \n",
       "2     H  200     200     100     100      V    100      100    0   0   \n",
       "3     R  200       0       0       0      V    300      100    0   0   \n",
       "4     R  200       0       0     100      U    300      100    0   0   \n",
       "\n",
       "            product  resid     nat              prof              car  \\\n",
       "0   Radio, TV, Hifi  Lease  German            Others              Car   \n",
       "1  Furniture,Carpet  Lease  German            Others  Without Vehicle   \n",
       "2  Furniture,Carpet  Lease  German  Civil Service, M              Car   \n",
       "3  Furniture,Carpet  Lease  German            Others              Car   \n",
       "4  Furniture,Carpet  Lease  German  Civil Service, M  Without Vehicle   \n",
       "\n",
       "             cards gb  \n",
       "0      Cheque card  0  \n",
       "1  no credit cards  1  \n",
       "2      Cheque card  0  \n",
       "3  no credit cards  0  \n",
       "4      Cheque card  0  "
      ]
     },
     "execution_count": 14,
     "metadata": {},
     "output_type": "execute_result"
    }
   ],
   "source": [
    "df[categorical].head()"
   ]
  },
  {
   "cell_type": "markdown",
   "metadata": {},
   "source": [
    "#### Descripción de variables categóricas\n",
    "\n",
    "* Hay 12 variables netamete categóricas. Estas son title, tel, status, bureau, regn, product, resid, nat, prof, car cards, nmbloan\n",
    "* Hay 5 variables categóricas binarias. Estas son ec_card, location, div, finloan y GB\n",
    "* GB es la variable objetivo."
   ]
  },
  {
   "cell_type": "markdown",
   "metadata": {},
   "source": [
    "#### Null values\n"
   ]
  },
  {
   "cell_type": "markdown",
   "metadata": {},
   "source": [
    "Realicemos un análisis de la distribución de valores desconocidos según las variables\n"
   ]
  },
  {
   "cell_type": "code",
   "execution_count": 15,
   "metadata": {},
   "outputs": [
    {
     "name": "stdout",
     "output_type": "stream",
     "text": [
      "title         0\n",
      "tel           0\n",
      "nmbloan       0\n",
      "finloan       0\n",
      "ec_card       0\n",
      "status        0\n",
      "bureau        0\n",
      "location      0\n",
      "regn          0\n",
      "div           0\n",
      "product      12\n",
      "resid       535\n",
      "nat           0\n",
      "prof          1\n",
      "car           0\n",
      "cards         0\n",
      "gb            0\n",
      "dtype: int64\n"
     ]
    }
   ],
   "source": [
    "print(df[categorical].isna().sum())"
   ]
  },
  {
   "cell_type": "code",
   "execution_count": 16,
   "metadata": {},
   "outputs": [
    {
     "name": "stdout",
     "output_type": "stream",
     "text": [
      "product     12\n",
      "resid      535\n",
      "prof         1\n",
      "dtype: int64\n"
     ]
    }
   ],
   "source": [
    "cat1 = [var for var in categorical if df[var].isnull().sum()!=0]\n",
    "\n",
    "print(df[cat1].isnull().sum())"
   ]
  },
  {
   "cell_type": "markdown",
   "metadata": {},
   "source": [
    "Podemos ver que las únicas variables categóricas con valores nulos son product, resid y prof."
   ]
  },
  {
   "cell_type": "markdown",
   "metadata": {},
   "source": [
    "#### Frecuencias de las variables categóricas"
   ]
  },
  {
   "cell_type": "code",
   "execution_count": 17,
   "metadata": {},
   "outputs": [
    {
     "name": "stdout",
     "output_type": "stream",
     "text": [
      "title\n",
      "H    2206\n",
      "R     794\n",
      "Name: count, dtype: int64\n",
      "tel\n",
      "200    2446\n",
      "100     553\n",
      "0         1\n",
      "Name: count, dtype: int64\n",
      "nmbloan\n",
      "0      2075\n",
      "200     817\n",
      "100     108\n",
      "Name: count, dtype: int64\n",
      "finloan\n",
      "0      1569\n",
      "100    1431\n",
      "Name: count, dtype: int64\n",
      "ec_card\n",
      "0      2225\n",
      "100     775\n",
      "Name: count, dtype: int64\n",
      "status\n",
      "V    1600\n",
      "U    1085\n",
      "G     199\n",
      "W      70\n",
      "T      31\n",
      "E      15\n",
      "Name: count, dtype: int64\n",
      "bureau\n",
      "100    1969\n",
      "300    1019\n",
      "200      12\n",
      "Name: count, dtype: int64\n",
      "location\n",
      "100    2995\n",
      "0         5\n",
      "Name: count, dtype: int64\n",
      "regn\n",
      "0    791\n",
      "4    608\n",
      "2    365\n",
      "3    343\n",
      "5    319\n",
      "6    196\n",
      "7    181\n",
      "8    121\n",
      "9     76\n",
      "Name: count, dtype: int64\n",
      "div\n",
      "100    2209\n",
      "0       791\n",
      "Name: count, dtype: int64\n",
      "product\n",
      "Radio, TV, Hifi     1432\n",
      "Furniture,Carpet     884\n",
      "Dept. Store,Mail     399\n",
      "Cars                 206\n",
      "Leisure               66\n",
      "Others                 1\n",
      "Name: count, dtype: int64\n",
      "resid\n",
      "Lease    2340\n",
      "Owner     125\n",
      "Name: count, dtype: int64\n",
      "nat\n",
      "German              2494\n",
      "Turkish              311\n",
      "Others                79\n",
      "Greek                 44\n",
      "Yugoslav              23\n",
      "Other European        23\n",
      "Italian               19\n",
      "Spanish/Portugue       7\n",
      "Name: count, dtype: int64\n",
      "prof\n",
      "Others              2174\n",
      "Civil Service, M     257\n",
      "Food,Building,Ca     232\n",
      "Pensioner            136\n",
      "Self-employed pe      67\n",
      "Military Service      41\n",
      "State,Steel Ind,      40\n",
      "Chemical Industr      26\n",
      "Sea Vojage, Gast      26\n",
      "Name: count, dtype: int64\n",
      "car\n",
      "Car                 2303\n",
      "Without Vehicle      680\n",
      "Car and Motor bi      17\n",
      "Name: count, dtype: int64\n",
      "cards\n",
      "no credit cards     2139\n",
      "Cheque card          776\n",
      "Mastercard/Euroc      67\n",
      "Other credit car      10\n",
      "VISA mybank            3\n",
      "VISA Others            3\n",
      "American Express       2\n",
      "Name: count, dtype: int64\n",
      "gb\n",
      "0    1500\n",
      "1    1500\n",
      "Name: count, dtype: int64\n"
     ]
    }
   ],
   "source": [
    "for var in categorical: \n",
    "    print(df[var].value_counts())"
   ]
  },
  {
   "cell_type": "code",
   "execution_count": 18,
   "metadata": {},
   "outputs": [
    {
     "name": "stdout",
     "output_type": "stream",
     "text": [
      "title\n",
      "H    0.735333\n",
      "R    0.264667\n",
      "Name: count, dtype: float64\n",
      "-------------\n",
      "tel\n",
      "200    0.815333\n",
      "100    0.184333\n",
      "0      0.000333\n",
      "Name: count, dtype: float64\n",
      "-------------\n",
      "nmbloan\n",
      "0      0.691667\n",
      "200    0.272333\n",
      "100    0.036000\n",
      "Name: count, dtype: float64\n",
      "-------------\n",
      "finloan\n",
      "0      0.523\n",
      "100    0.477\n",
      "Name: count, dtype: float64\n",
      "-------------\n",
      "ec_card\n",
      "0      0.741667\n",
      "100    0.258333\n",
      "Name: count, dtype: float64\n",
      "-------------\n",
      "status\n",
      "V    0.533333\n",
      "U    0.361667\n",
      "G    0.066333\n",
      "W    0.023333\n",
      "T    0.010333\n",
      "E    0.005000\n",
      "Name: count, dtype: float64\n",
      "-------------\n",
      "bureau\n",
      "100    0.656333\n",
      "300    0.339667\n",
      "200    0.004000\n",
      "Name: count, dtype: float64\n",
      "-------------\n",
      "location\n",
      "100    0.998333\n",
      "0      0.001667\n",
      "Name: count, dtype: float64\n",
      "-------------\n",
      "regn\n",
      "0    0.263667\n",
      "4    0.202667\n",
      "2    0.121667\n",
      "3    0.114333\n",
      "5    0.106333\n",
      "6    0.065333\n",
      "7    0.060333\n",
      "8    0.040333\n",
      "9    0.025333\n",
      "Name: count, dtype: float64\n",
      "-------------\n",
      "div\n",
      "100    0.736333\n",
      "0      0.263667\n",
      "Name: count, dtype: float64\n",
      "-------------\n",
      "product\n",
      "Radio, TV, Hifi     0.477333\n",
      "Furniture,Carpet    0.294667\n",
      "Dept. Store,Mail    0.133000\n",
      "Cars                0.068667\n",
      "Leisure             0.022000\n",
      "Others              0.000333\n",
      "Name: count, dtype: float64\n",
      "-------------\n",
      "resid\n",
      "Lease    0.780000\n",
      "Owner    0.041667\n",
      "Name: count, dtype: float64\n",
      "-------------\n",
      "nat\n",
      "German              0.831333\n",
      "Turkish             0.103667\n",
      "Others              0.026333\n",
      "Greek               0.014667\n",
      "Yugoslav            0.007667\n",
      "Other European      0.007667\n",
      "Italian             0.006333\n",
      "Spanish/Portugue    0.002333\n",
      "Name: count, dtype: float64\n",
      "-------------\n",
      "prof\n",
      "Others              0.724667\n",
      "Civil Service, M    0.085667\n",
      "Food,Building,Ca    0.077333\n",
      "Pensioner           0.045333\n",
      "Self-employed pe    0.022333\n",
      "Military Service    0.013667\n",
      "State,Steel Ind,    0.013333\n",
      "Chemical Industr    0.008667\n",
      "Sea Vojage, Gast    0.008667\n",
      "Name: count, dtype: float64\n",
      "-------------\n",
      "car\n",
      "Car                 0.767667\n",
      "Without Vehicle     0.226667\n",
      "Car and Motor bi    0.005667\n",
      "Name: count, dtype: float64\n",
      "-------------\n",
      "cards\n",
      "no credit cards     0.713000\n",
      "Cheque card         0.258667\n",
      "Mastercard/Euroc    0.022333\n",
      "Other credit car    0.003333\n",
      "VISA mybank         0.001000\n",
      "VISA Others         0.001000\n",
      "American Express    0.000667\n",
      "Name: count, dtype: float64\n",
      "-------------\n",
      "gb\n",
      "0    0.5\n",
      "1    0.5\n",
      "Name: count, dtype: float64\n",
      "-------------\n"
     ]
    }
   ],
   "source": [
    "# view frequency distribution of categorical variables\n",
    "for var in categorical: \n",
    "    pprint.pprint(df[var].value_counts()/float(len(df)))\n",
    "    print('-------------')"
   ]
  },
  {
   "cell_type": "markdown",
   "metadata": {},
   "source": [
    "Cuando una categoria sobrepasa más del 90% que otra, los modelos de clasificación tienen problemas. \n",
    "No tiene sentido tener en cuenta la variable location "
   ]
  },
  {
   "cell_type": "markdown",
   "metadata": {},
   "source": [
    "#### Cardinalidad\n"
   ]
  },
  {
   "cell_type": "code",
   "execution_count": 19,
   "metadata": {},
   "outputs": [
    {
     "name": "stdout",
     "output_type": "stream",
     "text": [
      "title  contiene  2  labels\n",
      "tel  contiene  3  labels\n",
      "nmbloan  contiene  3  labels\n",
      "finloan  contiene  2  labels\n",
      "ec_card  contiene  2  labels\n",
      "status  contiene  6  labels\n",
      "bureau  contiene  3  labels\n",
      "location  contiene  2  labels\n",
      "regn  contiene  9  labels\n",
      "div  contiene  2  labels\n",
      "product  contiene  7  labels\n",
      "resid  contiene  3  labels\n",
      "nat  contiene  8  labels\n",
      "prof  contiene  10  labels\n",
      "car  contiene  3  labels\n",
      "cards  contiene  7  labels\n",
      "gb  contiene  2  labels\n"
     ]
    }
   ],
   "source": [
    "for var in categorical:\n",
    "    print(var, ' contiene ', len(df[var].unique()), ' labels')"
   ]
  },
  {
   "cell_type": "markdown",
   "metadata": {},
   "source": [
    "No existe ninguna columna que tenga un valor de cardinalidad alto, por lo que se puede proseguir sin realizar agrupaciones"
   ]
  },
  {
   "cell_type": "code",
   "execution_count": 20,
   "metadata": {},
   "outputs": [],
   "source": [
    "def explore_variable(variable_name, df):\n",
    "    print(f'{variable_name} contiene: ', len(df[variable_name].unique()), 'labels')\n",
    "    pprint.pprint(df[variable_name].unique())\n",
    "    print(df[variable_name].value_counts())"
   ]
  },
  {
   "cell_type": "markdown",
   "metadata": {},
   "source": [
    "### Exploración de variables numéricas"
   ]
  },
  {
   "cell_type": "code",
   "execution_count": 21,
   "metadata": {},
   "outputs": [
    {
     "name": "stdout",
     "output_type": "stream",
     "text": [
      "Hay 10 variables numéricas\n",
      "\n",
      "Las variables numéricas son :\n",
      "['children',\n",
      " 'pers_h',\n",
      " 'age',\n",
      " 'tmadd',\n",
      " 'tmjob1',\n",
      " 'income',\n",
      " 'inc',\n",
      " 'inc1',\n",
      " 'loans',\n",
      " 'cash']\n"
     ]
    }
   ],
   "source": [
    "numerical = [var for var in df.columns if df[var].dtype!='O']\n",
    "print('Hay {} variables numéricas\\n'.format(len(numerical)))\n",
    "print('Las variables numéricas son :')\n",
    "pprint.pprint(numerical)"
   ]
  },
  {
   "cell_type": "code",
   "execution_count": 22,
   "metadata": {},
   "outputs": [
    {
     "data": {
      "text/html": [
       "<div>\n",
       "<style scoped>\n",
       "    .dataframe tbody tr th:only-of-type {\n",
       "        vertical-align: middle;\n",
       "    }\n",
       "\n",
       "    .dataframe tbody tr th {\n",
       "        vertical-align: top;\n",
       "    }\n",
       "\n",
       "    .dataframe thead th {\n",
       "        text-align: right;\n",
       "    }\n",
       "</style>\n",
       "<table border=\"1\" class=\"dataframe\">\n",
       "  <thead>\n",
       "    <tr style=\"text-align: right;\">\n",
       "      <th></th>\n",
       "      <th>children</th>\n",
       "      <th>pers_h</th>\n",
       "      <th>age</th>\n",
       "      <th>tmadd</th>\n",
       "      <th>tmjob1</th>\n",
       "      <th>income</th>\n",
       "      <th>inc</th>\n",
       "      <th>inc1</th>\n",
       "      <th>loans</th>\n",
       "      <th>cash</th>\n",
       "    </tr>\n",
       "  </thead>\n",
       "  <tbody>\n",
       "    <tr>\n",
       "      <th>0</th>\n",
       "      <td>0</td>\n",
       "      <td>2</td>\n",
       "      <td>46</td>\n",
       "      <td>1500</td>\n",
       "      <td>3300</td>\n",
       "      <td>0</td>\n",
       "      <td>0</td>\n",
       "      <td>100</td>\n",
       "      <td>0</td>\n",
       "      <td>200000</td>\n",
       "    </tr>\n",
       "    <tr>\n",
       "      <th>1</th>\n",
       "      <td>0</td>\n",
       "      <td>1</td>\n",
       "      <td>39</td>\n",
       "      <td>19200</td>\n",
       "      <td>600</td>\n",
       "      <td>150000</td>\n",
       "      <td>250000</td>\n",
       "      <td>200</td>\n",
       "      <td>1</td>\n",
       "      <td>250000</td>\n",
       "    </tr>\n",
       "    <tr>\n",
       "      <th>2</th>\n",
       "      <td>3</td>\n",
       "      <td>5</td>\n",
       "      <td>32</td>\n",
       "      <td>4800</td>\n",
       "      <td>10800</td>\n",
       "      <td>0</td>\n",
       "      <td>0</td>\n",
       "      <td>100</td>\n",
       "      <td>1</td>\n",
       "      <td>250000</td>\n",
       "    </tr>\n",
       "    <tr>\n",
       "      <th>3</th>\n",
       "      <td>0</td>\n",
       "      <td>2</td>\n",
       "      <td>42</td>\n",
       "      <td>14400</td>\n",
       "      <td>3000</td>\n",
       "      <td>190000</td>\n",
       "      <td>250000</td>\n",
       "      <td>200</td>\n",
       "      <td>0</td>\n",
       "      <td>900000</td>\n",
       "    </tr>\n",
       "    <tr>\n",
       "      <th>4</th>\n",
       "      <td>0</td>\n",
       "      <td>1</td>\n",
       "      <td>20</td>\n",
       "      <td>24000</td>\n",
       "      <td>900</td>\n",
       "      <td>0</td>\n",
       "      <td>0</td>\n",
       "      <td>100</td>\n",
       "      <td>0</td>\n",
       "      <td>400000</td>\n",
       "    </tr>\n",
       "  </tbody>\n",
       "</table>\n",
       "</div>"
      ],
      "text/plain": [
       "   children  pers_h  age  tmadd  tmjob1  income     inc  inc1  loans    cash\n",
       "0         0       2   46   1500    3300       0       0   100      0  200000\n",
       "1         0       1   39  19200     600  150000  250000   200      1  250000\n",
       "2         3       5   32   4800   10800       0       0   100      1  250000\n",
       "3         0       2   42  14400    3000  190000  250000   200      0  900000\n",
       "4         0       1   20  24000     900       0       0   100      0  400000"
      ]
     },
     "execution_count": 22,
     "metadata": {},
     "output_type": "execute_result"
    }
   ],
   "source": [
    "df[numerical].head()"
   ]
  },
  {
   "cell_type": "markdown",
   "metadata": {},
   "source": [
    "#### Null values"
   ]
  },
  {
   "cell_type": "code",
   "execution_count": 23,
   "metadata": {},
   "outputs": [
    {
     "data": {
      "text/plain": [
       "children    0\n",
       "pers_h      0\n",
       "age         0\n",
       "tmadd       0\n",
       "tmjob1      0\n",
       "income      0\n",
       "inc         0\n",
       "inc1        0\n",
       "loans       0\n",
       "cash        0\n",
       "dtype: int64"
      ]
     },
     "execution_count": 23,
     "metadata": {},
     "output_type": "execute_result"
    }
   ],
   "source": [
    "df[numerical].isnull().sum()"
   ]
  },
  {
   "cell_type": "markdown",
   "metadata": {},
   "source": [
    "Se pude observar que no existen variables nulas en las variables numéricas"
   ]
  },
  {
   "cell_type": "markdown",
   "metadata": {},
   "source": [
    "#### Resúmen de las variabes numéricas"
   ]
  },
  {
   "cell_type": "markdown",
   "metadata": {},
   "source": [
    "* Existen 12 variables numéricas\n",
    "* Las variables children, pers_h y loans son variables discretas.\n",
    "* Las variables age, tmadd, tmjob1, income, inc, inc1, loans y cash son variables contínuas\n",
    "* No hay variables que contengan valores nulos"
   ]
  },
  {
   "cell_type": "markdown",
   "metadata": {},
   "source": [
    "#### Outliers"
   ]
  },
  {
   "cell_type": "code",
   "execution_count": 24,
   "metadata": {},
   "outputs": [
    {
     "name": "stdout",
     "output_type": "stream",
     "text": [
      "       children  pers_h     age    tmadd   tmjob1     income        inc  \\\n",
      "count    3000.0  3000.0  3000.0   3000.0   3000.0     3000.0     3000.0   \n",
      "mean        1.0     2.0    34.0  11928.0   7943.0   196680.0   415583.0   \n",
      "std         1.0     1.0    11.0  18009.0  12427.0   148101.0   394637.0   \n",
      "min         0.0     1.0    18.0      0.0      0.0        0.0        0.0   \n",
      "25%         0.0     1.0    26.0   2100.0   1800.0   100000.0   250000.0   \n",
      "50%         0.0     2.0    31.0   6000.0   3900.0   210000.0   250000.0   \n",
      "75%         1.0     3.0    40.0  16800.0   9600.0   270000.0  1000000.0   \n",
      "max        23.0    25.0    71.0  99900.0  99900.0  1000000.0  1000000.0   \n",
      "\n",
      "         inc1   loans       cash  \n",
      "count  3000.0  3000.0     3000.0  \n",
      "mean    239.0     1.0   216713.0  \n",
      "std     121.0     1.0   238345.0  \n",
      "min       0.0     0.0        0.0  \n",
      "25%     200.0     0.0    90000.0  \n",
      "50%     200.0     1.0   140000.0  \n",
      "75%     400.0     2.0   250000.0  \n",
      "max     500.0     9.0  2000000.0   2\n"
     ]
    }
   ],
   "source": [
    "print(round(df[numerical].describe()),2)"
   ]
  },
  {
   "cell_type": "markdown",
   "metadata": {},
   "source": [
    "Los valores máximos para algunas variables como 'children', 'pers_h', 'age', 'tmadd', 'tmjob1', 'income', 'inc', 'inc1' y 'cash' son considerablemente más altos que el percentil 75. Del mismo modo, los valores mínimos para algunas variables como 'tmadd', 'tmjob1', 'income', 'inc', 'inc1' y 'cash' son considerablemente más bajos que el percentil 25. Esto puede indicar outliers en estas variables\n",
    "\n",
    "Dibujamos algunos box-plots para visualizar los outliers."
   ]
  },
  {
   "cell_type": "code",
   "execution_count": 25,
   "metadata": {},
   "outputs": [],
   "source": [
    "def create_boxplots(df, numerical_columns):  \n",
    "    num_plots = len(numerical_columns)\n",
    "    num_cols = 2\n",
    "    num_rows = math.ceil(num_plots / num_cols)\n",
    "\n",
    "    fig, axes = plt.subplots(num_rows, num_cols, figsize=(15, 5*num_rows))\n",
    "\n",
    "    axes = axes.flatten()\n",
    "\n",
    "    for i, column in enumerate(numerical_columns):\n",
    "        sns.boxplot(x=df[column], ax=axes[i])\n",
    "        axes[i].set_title(f'Boxplot of {column}')\n",
    "        axes[i].set_xlabel(column)\n",
    "    \n",
    "    # Hide any extra subplots\n",
    "    for j in range(num_plots, num_rows * num_cols):\n",
    "        fig.delaxes(axes[j])\n",
    "    \n",
    "    plt.tight_layout()\n",
    "    plt.show()\n"
   ]
  },
  {
   "cell_type": "code",
   "execution_count": 26,
   "metadata": {},
   "outputs": [
    {
     "data": {
      "image/png": "[encoded data removed]",
      "text/plain": [
       "<Figure size 1500x2500 with 10 Axes>"
      ]
     },
     "metadata": {},
     "output_type": "display_data"
    }
   ],
   "source": [
    "create_boxplots(df, numerical)"
   ]
  },
  {
   "cell_type": "markdown",
   "metadata": {},
   "source": [
    "Efectivamente, podemos observar que las variables children, pers_h, age, tmadd, tmjob1, income, loans y cash contienes valores outliers."
   ]
  },
  {
   "cell_type": "markdown",
   "metadata": {},
   "source": [
    "#### Distribución de las variables"
   ]
  },
  {
   "cell_type": "markdown",
   "metadata": {},
   "source": [
    "Ahora, plotearemos los histogramas para explorar si las variables con outliers siguen una distribucion normal o no.\n",
    "Si las variables siguen una distribución normal, se realizará `Análisis del valor extremo`, sino, se buscara el `IQR (Rango intercuartil)`"
   ]
  },
  {
   "cell_type": "code",
   "execution_count": 27,
   "metadata": {},
   "outputs": [],
   "source": [
    "outliers = ['children', 'pers_h', 'age', 'tmadd', 'tmjob1', 'income', 'loans', 'cash']\n",
    "\n",
    "def create_hists(df, outliers):  \n",
    "    num_plots = len(outliers)\n",
    "    num_cols = 2\n",
    "    num_rows = math.ceil(num_plots / num_cols)\n",
    "\n",
    "    fig, axes = plt.subplots(num_rows, num_cols, figsize=(15, 5*num_rows))\n",
    "\n",
    "    axes = axes.flatten()\n",
    "\n",
    "    for i, column in enumerate(outliers):\n",
    "        sns.histplot(x=df[column], ax=axes[i])\n",
    "        axes[i].set_title(f'Boxplot of {column}')\n",
    "        axes[i].set_xlabel(column)\n",
    "    \n",
    "    # Hide any extra subplots\n",
    "    for j in range(num_plots, num_rows * num_cols):\n",
    "        fig.delaxes(axes[j])\n",
    "    \n",
    "    plt.tight_layout()\n",
    "    plt.show()\n"
   ]
  },
  {
   "cell_type": "code",
   "execution_count": 28,
   "metadata": {},
   "outputs": [
    {
     "data": {
      "image/png": "[encoded data removed]",
      "text/plain": [
       "<Figure size 1500x2000 with 8 Axes>"
      ]
     },
     "metadata": {},
     "output_type": "display_data"
    }
   ],
   "source": [
    "create_hists(df, outliers)"
   ]
  },
  {
   "cell_type": "markdown",
   "metadata": {},
   "source": [
    "Es evidente a simple vista que las variables no siguen una distribución normal. Se considera que no es necesario realizar la prueba de Shapiro-Wilk para la comprobación de la normalidad.\n",
    "\n",
    "Se opta por utilizar el rango intercuartil para encontrar outliers."
   ]
  },
  {
   "cell_type": "code",
   "execution_count": 29,
   "metadata": {},
   "outputs": [],
   "source": [
    "def find_outliers_IQR(df, column):\n",
    "    IQR = df[column].quantile(0.75)-df[column].quantile(0.25)\n",
    "    lower_fence = df[column].quantile(0.25) - (IQR * 3)\n",
    "    upper_fence = df[column].quantile(0.75) + (IQR * 3)\n",
    "    return (lower_fence, upper_fence)"
   ]
  },
  {
   "cell_type": "code",
   "execution_count": 30,
   "metadata": {},
   "outputs": [
    {
     "name": "stdout",
     "output_type": "stream",
     "text": [
      "Los valores outliers de la variable children son > 4.0\n",
      "Los valores outliers de la variable pers_h son > 9.0\n",
      "Los valores outliers de la variable age son > 82.75\n",
      "Los valores outliers de la variable tmadd son > 60900.0\n",
      "Los valores outliers de la variable tmjob1 son > 33000.0\n",
      "Los valores outliers de la variable income son > 780000.0\n",
      "Los valores outliers de la variable loans son > 8.0\n",
      "Los valores outliers de la variable cash son > 730000.0\n"
     ]
    }
   ],
   "source": [
    "for c in outliers:\n",
    "    lower_fence, upper_fence = find_outliers_IQR(df, c)\n",
    "    if df[c].min() < lower_fence:\n",
    "        print(f'Los valores outliers de la variable {c} son < {lower_fence} o > {upper_fence}')\n",
    "    else:\n",
    "        print(f'Los valores outliers de la variable {c} son > {upper_fence}')\n"
   ]
  },
  {
   "cell_type": "markdown",
   "metadata": {},
   "source": [
    "### Declarar feature  vector  y variable objetivo"
   ]
  },
  {
   "cell_type": "code",
   "execution_count": 31,
   "metadata": {},
   "outputs": [],
   "source": [
    "X = df.drop(['gb'], axis = 1)\n",
    "y = df['gb']"
   ]
  },
  {
   "cell_type": "markdown",
   "metadata": {},
   "source": [
    "## ⚒️ Feature Engineering y pre-processing"
   ]
  },
  {
   "cell_type": "markdown",
   "metadata": {},
   "source": [
    "**Feature Engineering** es el proceso de transformar la data en características útiles que pueden servir para mejorar los modelos y aumentar sus predicciones.\n",
    "A continuación se aplicará este concepto sobre diferentes tipos de variables.\n",
    "\n",
    "Primero, mostraré nuevamente las variables categóricas y numéricas por separado."
   ]
  },
  {
   "cell_type": "code",
   "execution_count": 32,
   "metadata": {},
   "outputs": [
    {
     "data": {
      "text/plain": [
       "title       object\n",
       "children     int64\n",
       "pers_h       int64\n",
       "age          int64\n",
       "tmadd        int64\n",
       "tmjob1       int64\n",
       "tel         object\n",
       "nmbloan     object\n",
       "finloan     object\n",
       "income       int64\n",
       "ec_card     object\n",
       "inc          int64\n",
       "inc1         int64\n",
       "status      object\n",
       "bureau      object\n",
       "location    object\n",
       "loans        int64\n",
       "regn        object\n",
       "div         object\n",
       "cash         int64\n",
       "product     object\n",
       "resid       object\n",
       "nat         object\n",
       "prof        object\n",
       "car         object\n",
       "cards       object\n",
       "dtype: object"
      ]
     },
     "execution_count": 32,
     "metadata": {},
     "output_type": "execute_result"
    }
   ],
   "source": [
    "X.dtypes"
   ]
  },
  {
   "cell_type": "code",
   "execution_count": 33,
   "metadata": {},
   "outputs": [
    {
     "data": {
      "text/plain": [
       "['title',\n",
       " 'tel',\n",
       " 'nmbloan',\n",
       " 'finloan',\n",
       " 'ec_card',\n",
       " 'status',\n",
       " 'bureau',\n",
       " 'location',\n",
       " 'regn',\n",
       " 'div',\n",
       " 'product',\n",
       " 'resid',\n",
       " 'nat',\n",
       " 'prof',\n",
       " 'car',\n",
       " 'cards']"
      ]
     },
     "execution_count": 33,
     "metadata": {},
     "output_type": "execute_result"
    }
   ],
   "source": [
    "# Mostrar variables categóricas\n",
    "categorical = [col for col in X.columns if X[col].dtypes == 'O']\n",
    "\n",
    "categorical"
   ]
  },
  {
   "cell_type": "code",
   "execution_count": 34,
   "metadata": {},
   "outputs": [
    {
     "data": {
      "text/plain": [
       "['children',\n",
       " 'pers_h',\n",
       " 'age',\n",
       " 'tmadd',\n",
       " 'tmjob1',\n",
       " 'income',\n",
       " 'inc',\n",
       " 'inc1',\n",
       " 'loans',\n",
       " 'cash']"
      ]
     },
     "execution_count": 34,
     "metadata": {},
     "output_type": "execute_result"
    }
   ],
   "source": [
    "# Mostrar variables numéricas\n",
    "numerical = [col for col in X.columns if X[col].dtypes != 'O']\n",
    "\n",
    "numerical"
   ]
  },
  {
   "cell_type": "markdown",
   "metadata": {},
   "source": [
    "### Imputación de valores nulos"
   ]
  },
  {
   "cell_type": "markdown",
   "metadata": {},
   "source": [
    "Debido a que en las variables numéricas no existen valores nulos, solo se imputan los valores nulos de las variables categóricas."
   ]
  },
  {
   "cell_type": "code",
   "execution_count": 35,
   "metadata": {},
   "outputs": [
    {
     "data": {
      "text/plain": [
       "title       0.000000\n",
       "tel         0.000000\n",
       "nmbloan     0.000000\n",
       "finloan     0.000000\n",
       "ec_card     0.000000\n",
       "status      0.000000\n",
       "bureau      0.000000\n",
       "location    0.000000\n",
       "regn        0.000000\n",
       "div         0.000000\n",
       "product     0.004000\n",
       "resid       0.178333\n",
       "nat         0.000000\n",
       "prof        0.000333\n",
       "car         0.000000\n",
       "cards       0.000000\n",
       "dtype: float64"
      ]
     },
     "execution_count": 35,
     "metadata": {},
     "output_type": "execute_result"
    }
   ],
   "source": [
    "# Porcentaje de valores nulos en las variables categóricas en el set de entrenamiento\n",
    "X[categorical].isnull().mean()"
   ]
  },
  {
   "cell_type": "markdown",
   "metadata": {},
   "source": [
    "Puesto que estas variables son categóricas, se opta por imputar los valores nulos con la moda:"
   ]
  },
  {
   "cell_type": "code",
   "execution_count": 36,
   "metadata": {},
   "outputs": [],
   "source": [
    "# Imputar los valores faltantes con la moda\n",
    "for df2 in [X]:\n",
    "    df2['product'].fillna(df['product'].mode()[0], inplace=True)\n",
    "    df2['resid'].fillna(df['resid'].mode()[0], inplace=True)\n",
    "    df2['prof'].fillna(df['prof'].mode()[0], inplace=True)"
   ]
  },
  {
   "cell_type": "code",
   "execution_count": 37,
   "metadata": {},
   "outputs": [
    {
     "data": {
      "text/plain": [
       "title       0\n",
       "tel         0\n",
       "nmbloan     0\n",
       "finloan     0\n",
       "ec_card     0\n",
       "status      0\n",
       "bureau      0\n",
       "location    0\n",
       "regn        0\n",
       "div         0\n",
       "product     0\n",
       "resid       0\n",
       "nat         0\n",
       "prof        0\n",
       "car         0\n",
       "cards       0\n",
       "dtype: int64"
      ]
     },
     "execution_count": 37,
     "metadata": {},
     "output_type": "execute_result"
    }
   ],
   "source": [
    "# Revisar valores faltantes en las variables categóricas de X_train \n",
    "X[categorical].isnull().sum()"
   ]
  },
  {
   "cell_type": "code",
   "execution_count": 38,
   "metadata": {},
   "outputs": [
    {
     "data": {
      "text/plain": [
       "title       0\n",
       "tel         0\n",
       "nmbloan     0\n",
       "finloan     0\n",
       "ec_card     0\n",
       "status      0\n",
       "bureau      0\n",
       "location    0\n",
       "regn        0\n",
       "div         0\n",
       "product     0\n",
       "resid       0\n",
       "nat         0\n",
       "prof        0\n",
       "car         0\n",
       "cards       0\n",
       "dtype: int64"
      ]
     },
     "execution_count": 38,
     "metadata": {},
     "output_type": "execute_result"
    }
   ],
   "source": [
    "# check missing values in categorical variables in X_train\n",
    "X[categorical].isnull().sum()"
   ]
  },
  {
   "cell_type": "markdown",
   "metadata": {},
   "source": [
    "Podemos observar, entonces, que no hay valores faltantes en X_train ni en X_test"
   ]
  },
  {
   "cell_type": "markdown",
   "metadata": {},
   "source": [
    "### Outliers en las variables numéricas"
   ]
  },
  {
   "cell_type": "markdown",
   "metadata": {},
   "source": [
    "Hemos podido observar que las siguientes variables contienen outliers:"
   ]
  },
  {
   "cell_type": "code",
   "execution_count": 39,
   "metadata": {},
   "outputs": [
    {
     "name": "stdout",
     "output_type": "stream",
     "text": [
      "['children', 'pers_h', 'age', 'tmadd', 'tmjob1', 'income', 'loans', 'cash']\n"
     ]
    }
   ],
   "source": [
    "pprint.pprint(outliers)"
   ]
  },
  {
   "cell_type": "markdown",
   "metadata": {},
   "source": [
    "Usaré un enfoque de top-coding para limitar los valores máximos y eliminar los valores atípicos de las variables anteriores."
   ]
  },
  {
   "cell_type": "code",
   "execution_count": 40,
   "metadata": {},
   "outputs": [],
   "source": [
    "def max_value(df3, variable, top):\n",
    "    return np.where(df3[variable]>top, top, df3[variable])\n",
    "\n",
    "\n",
    "for df3 in [X]:\n",
    "    for c in outliers:\n",
    "        lower_fence, upper_fence = find_outliers_IQR(df, c)\n",
    "        df3[c] = max_value(df3, c, upper_fence)"
   ]
  },
  {
   "cell_type": "code",
   "execution_count": 41,
   "metadata": {},
   "outputs": [
    {
     "name": "stdout",
     "output_type": "stream",
     "text": [
      "children: (4.0)\n",
      "pers_h: (9.0)\n",
      "age: (71.0)\n",
      "tmadd: (60900.0)\n",
      "tmjob1: (33000.0)\n",
      "income: (780000.0)\n",
      "loans: (8.0)\n",
      "cash: (730000.0)\n"
     ]
    }
   ],
   "source": [
    "for c in outliers:\n",
    "    print(f'{c}: ({X[c].max()})')"
   ]
  },
  {
   "cell_type": "code",
   "execution_count": 42,
   "metadata": {},
   "outputs": [
    {
     "data": {
      "text/html": [
       "<div>\n",
       "<style scoped>\n",
       "    .dataframe tbody tr th:only-of-type {\n",
       "        vertical-align: middle;\n",
       "    }\n",
       "\n",
       "    .dataframe tbody tr th {\n",
       "        vertical-align: top;\n",
       "    }\n",
       "\n",
       "    .dataframe thead th {\n",
       "        text-align: right;\n",
       "    }\n",
       "</style>\n",
       "<table border=\"1\" class=\"dataframe\">\n",
       "  <thead>\n",
       "    <tr style=\"text-align: right;\">\n",
       "      <th></th>\n",
       "      <th>children</th>\n",
       "      <th>pers_h</th>\n",
       "      <th>age</th>\n",
       "      <th>tmadd</th>\n",
       "      <th>tmjob1</th>\n",
       "      <th>income</th>\n",
       "      <th>inc</th>\n",
       "      <th>inc1</th>\n",
       "      <th>loans</th>\n",
       "      <th>cash</th>\n",
       "    </tr>\n",
       "  </thead>\n",
       "  <tbody>\n",
       "    <tr>\n",
       "      <th>count</th>\n",
       "      <td>3000.000000</td>\n",
       "      <td>3000.000000</td>\n",
       "      <td>3000.000000</td>\n",
       "      <td>3000.000000</td>\n",
       "      <td>3000.000000</td>\n",
       "      <td>3000.000000</td>\n",
       "      <td>3000.000000</td>\n",
       "      <td>3000.000000</td>\n",
       "      <td>3000.000000</td>\n",
       "      <td>3000.000000</td>\n",
       "    </tr>\n",
       "    <tr>\n",
       "      <th>mean</th>\n",
       "      <td>0.806333</td>\n",
       "      <td>2.353000</td>\n",
       "      <td>34.047667</td>\n",
       "      <td>10719.200000</td>\n",
       "      <td>7176.300000</td>\n",
       "      <td>194700.000000</td>\n",
       "      <td>415583.333333</td>\n",
       "      <td>238.566667</td>\n",
       "      <td>1.007333</td>\n",
       "      <td>199676.666667</td>\n",
       "    </tr>\n",
       "    <tr>\n",
       "      <th>std</th>\n",
       "      <td>1.020379</td>\n",
       "      <td>1.358801</td>\n",
       "      <td>10.951501</td>\n",
       "      <td>12539.489794</td>\n",
       "      <td>8041.363244</td>\n",
       "      <td>138504.528812</td>\n",
       "      <td>394636.844625</td>\n",
       "      <td>121.136990</td>\n",
       "      <td>1.108011</td>\n",
       "      <td>163088.712357</td>\n",
       "    </tr>\n",
       "    <tr>\n",
       "      <th>min</th>\n",
       "      <td>0.000000</td>\n",
       "      <td>1.000000</td>\n",
       "      <td>18.000000</td>\n",
       "      <td>0.000000</td>\n",
       "      <td>0.000000</td>\n",
       "      <td>0.000000</td>\n",
       "      <td>0.000000</td>\n",
       "      <td>0.000000</td>\n",
       "      <td>0.000000</td>\n",
       "      <td>0.000000</td>\n",
       "    </tr>\n",
       "    <tr>\n",
       "      <th>25%</th>\n",
       "      <td>0.000000</td>\n",
       "      <td>1.000000</td>\n",
       "      <td>25.750000</td>\n",
       "      <td>2100.000000</td>\n",
       "      <td>1800.000000</td>\n",
       "      <td>100000.000000</td>\n",
       "      <td>250000.000000</td>\n",
       "      <td>200.000000</td>\n",
       "      <td>0.000000</td>\n",
       "      <td>90000.000000</td>\n",
       "    </tr>\n",
       "    <tr>\n",
       "      <th>50%</th>\n",
       "      <td>0.000000</td>\n",
       "      <td>2.000000</td>\n",
       "      <td>31.000000</td>\n",
       "      <td>6000.000000</td>\n",
       "      <td>3900.000000</td>\n",
       "      <td>210000.000000</td>\n",
       "      <td>250000.000000</td>\n",
       "      <td>200.000000</td>\n",
       "      <td>1.000000</td>\n",
       "      <td>140000.000000</td>\n",
       "    </tr>\n",
       "    <tr>\n",
       "      <th>75%</th>\n",
       "      <td>1.000000</td>\n",
       "      <td>3.000000</td>\n",
       "      <td>40.000000</td>\n",
       "      <td>16800.000000</td>\n",
       "      <td>9600.000000</td>\n",
       "      <td>270000.000000</td>\n",
       "      <td>1000000.000000</td>\n",
       "      <td>400.000000</td>\n",
       "      <td>2.000000</td>\n",
       "      <td>250000.000000</td>\n",
       "    </tr>\n",
       "    <tr>\n",
       "      <th>max</th>\n",
       "      <td>4.000000</td>\n",
       "      <td>9.000000</td>\n",
       "      <td>71.000000</td>\n",
       "      <td>60900.000000</td>\n",
       "      <td>33000.000000</td>\n",
       "      <td>780000.000000</td>\n",
       "      <td>1000000.000000</td>\n",
       "      <td>500.000000</td>\n",
       "      <td>8.000000</td>\n",
       "      <td>730000.000000</td>\n",
       "    </tr>\n",
       "  </tbody>\n",
       "</table>\n",
       "</div>"
      ],
      "text/plain": [
       "          children       pers_h          age         tmadd        tmjob1  \\\n",
       "count  3000.000000  3000.000000  3000.000000   3000.000000   3000.000000   \n",
       "mean      0.806333     2.353000    34.047667  10719.200000   7176.300000   \n",
       "std       1.020379     1.358801    10.951501  12539.489794   8041.363244   \n",
       "min       0.000000     1.000000    18.000000      0.000000      0.000000   \n",
       "25%       0.000000     1.000000    25.750000   2100.000000   1800.000000   \n",
       "50%       0.000000     2.000000    31.000000   6000.000000   3900.000000   \n",
       "75%       1.000000     3.000000    40.000000  16800.000000   9600.000000   \n",
       "max       4.000000     9.000000    71.000000  60900.000000  33000.000000   \n",
       "\n",
       "              income             inc         inc1        loans           cash  \n",
       "count    3000.000000     3000.000000  3000.000000  3000.000000    3000.000000  \n",
       "mean   194700.000000   415583.333333   238.566667     1.007333  199676.666667  \n",
       "std    138504.528812   394636.844625   121.136990     1.108011  163088.712357  \n",
       "min         0.000000        0.000000     0.000000     0.000000       0.000000  \n",
       "25%    100000.000000   250000.000000   200.000000     0.000000   90000.000000  \n",
       "50%    210000.000000   250000.000000   200.000000     1.000000  140000.000000  \n",
       "75%    270000.000000  1000000.000000   400.000000     2.000000  250000.000000  \n",
       "max    780000.000000  1000000.000000   500.000000     8.000000  730000.000000  "
      ]
     },
     "execution_count": 42,
     "metadata": {},
     "output_type": "execute_result"
    }
   ],
   "source": [
    "X[numerical].describe()"
   ]
  },
  {
   "cell_type": "markdown",
   "metadata": {},
   "source": [
    "Ahora podemos ver que los valores atípicos están limitados."
   ]
  },
  {
   "cell_type": "markdown",
   "metadata": {},
   "source": [
    "### Balanceo de las variables categóricas"
   ]
  },
  {
   "cell_type": "markdown",
   "metadata": {},
   "source": [
    "El desequilibrio de clases ocurre cuando hay una gran diferencia en el número de muestras entre las clases en un conjunto de datos. Esto puede sesgar el modelo. Por lo tanto, es importante identificar variables donde una clase supera el 90% de las muestras totales. "
   ]
  },
  {
   "cell_type": "code",
   "execution_count": 43,
   "metadata": {},
   "outputs": [
    {
     "name": "stdout",
     "output_type": "stream",
     "text": [
      "location\n",
      "100    0.998333\n",
      "0      0.001667\n",
      "Name: count, dtype: float64\n",
      "-------------\n",
      "resid\n",
      "Lease    0.958333\n",
      "Owner    0.041667\n",
      "Name: count, dtype: float64\n",
      "-------------\n"
     ]
    }
   ],
   "source": [
    "for var in categorical: \n",
    "    frequency = X[var].value_counts() / len(X)\n",
    "    if (frequency>0.9).any():\n",
    "        pprint.pprint(X[var].value_counts()/float(len(X)))\n",
    "        print('-------------')"
   ]
  },
  {
   "cell_type": "markdown",
   "metadata": {},
   "source": [
    "Para garantizar que el dataset no contiene variables desbalanceadas (la frecuencia de los registros no supera el 90%), se opta por eliminar características altamente desequilibradas. En particular, estas son location y resid"
   ]
  },
  {
   "cell_type": "code",
   "execution_count": 44,
   "metadata": {},
   "outputs": [],
   "source": [
    "for var in categorical:\n",
    "    frequency = X[var].value_counts() / len(X)\n",
    "    if (frequency >= 0.9).any():\n",
    "        X.drop(var, axis=1, inplace=True)"
   ]
  },
  {
   "cell_type": "code",
   "execution_count": 45,
   "metadata": {},
   "outputs": [
    {
     "name": "stdout",
     "output_type": "stream",
     "text": [
      "['title',\n",
      " 'tel',\n",
      " 'nmbloan',\n",
      " 'finloan',\n",
      " 'ec_card',\n",
      " 'status',\n",
      " 'bureau',\n",
      " 'regn',\n",
      " 'div',\n",
      " 'product',\n",
      " 'nat',\n",
      " 'prof',\n",
      " 'car',\n",
      " 'cards']\n"
     ]
    }
   ],
   "source": [
    "categorical = [var for var in X.columns if X[var].dtype=='O']\n",
    "pprint.pprint(categorical)"
   ]
  },
  {
   "cell_type": "markdown",
   "metadata": {},
   "source": [
    "### Codificar variables categóricas"
   ]
  },
  {
   "cell_type": "code",
   "execution_count": 46,
   "metadata": {},
   "outputs": [
    {
     "data": {
      "text/plain": [
       "['title',\n",
       " 'tel',\n",
       " 'nmbloan',\n",
       " 'finloan',\n",
       " 'ec_card',\n",
       " 'status',\n",
       " 'bureau',\n",
       " 'regn',\n",
       " 'div',\n",
       " 'product',\n",
       " 'nat',\n",
       " 'prof',\n",
       " 'car',\n",
       " 'cards']"
      ]
     },
     "execution_count": 46,
     "metadata": {},
     "output_type": "execute_result"
    }
   ],
   "source": [
    "categorical"
   ]
  },
  {
   "cell_type": "code",
   "execution_count": 47,
   "metadata": {},
   "outputs": [
    {
     "data": {
      "text/html": [
       "<div>\n",
       "<style scoped>\n",
       "    .dataframe tbody tr th:only-of-type {\n",
       "        vertical-align: middle;\n",
       "    }\n",
       "\n",
       "    .dataframe tbody tr th {\n",
       "        vertical-align: top;\n",
       "    }\n",
       "\n",
       "    .dataframe thead th {\n",
       "        text-align: right;\n",
       "    }\n",
       "</style>\n",
       "<table border=\"1\" class=\"dataframe\">\n",
       "  <thead>\n",
       "    <tr style=\"text-align: right;\">\n",
       "      <th></th>\n",
       "      <th>title</th>\n",
       "      <th>tel</th>\n",
       "      <th>nmbloan</th>\n",
       "      <th>finloan</th>\n",
       "      <th>ec_card</th>\n",
       "      <th>status</th>\n",
       "      <th>bureau</th>\n",
       "      <th>regn</th>\n",
       "      <th>div</th>\n",
       "      <th>product</th>\n",
       "      <th>nat</th>\n",
       "      <th>prof</th>\n",
       "      <th>car</th>\n",
       "      <th>cards</th>\n",
       "    </tr>\n",
       "  </thead>\n",
       "  <tbody>\n",
       "    <tr>\n",
       "      <th>0</th>\n",
       "      <td>R</td>\n",
       "      <td>200</td>\n",
       "      <td>0</td>\n",
       "      <td>0</td>\n",
       "      <td>100</td>\n",
       "      <td>V</td>\n",
       "      <td>300</td>\n",
       "      <td>0</td>\n",
       "      <td>0</td>\n",
       "      <td>Radio, TV, Hifi</td>\n",
       "      <td>German</td>\n",
       "      <td>Others</td>\n",
       "      <td>Car</td>\n",
       "      <td>Cheque card</td>\n",
       "    </tr>\n",
       "    <tr>\n",
       "      <th>1</th>\n",
       "      <td>R</td>\n",
       "      <td>100</td>\n",
       "      <td>0</td>\n",
       "      <td>0</td>\n",
       "      <td>0</td>\n",
       "      <td>W</td>\n",
       "      <td>100</td>\n",
       "      <td>0</td>\n",
       "      <td>0</td>\n",
       "      <td>Furniture,Carpet</td>\n",
       "      <td>German</td>\n",
       "      <td>Others</td>\n",
       "      <td>Without Vehicle</td>\n",
       "      <td>no credit cards</td>\n",
       "    </tr>\n",
       "    <tr>\n",
       "      <th>2</th>\n",
       "      <td>H</td>\n",
       "      <td>200</td>\n",
       "      <td>200</td>\n",
       "      <td>100</td>\n",
       "      <td>100</td>\n",
       "      <td>V</td>\n",
       "      <td>100</td>\n",
       "      <td>0</td>\n",
       "      <td>0</td>\n",
       "      <td>Furniture,Carpet</td>\n",
       "      <td>German</td>\n",
       "      <td>Civil Service, M</td>\n",
       "      <td>Car</td>\n",
       "      <td>Cheque card</td>\n",
       "    </tr>\n",
       "    <tr>\n",
       "      <th>3</th>\n",
       "      <td>R</td>\n",
       "      <td>200</td>\n",
       "      <td>0</td>\n",
       "      <td>0</td>\n",
       "      <td>0</td>\n",
       "      <td>V</td>\n",
       "      <td>300</td>\n",
       "      <td>0</td>\n",
       "      <td>0</td>\n",
       "      <td>Furniture,Carpet</td>\n",
       "      <td>German</td>\n",
       "      <td>Others</td>\n",
       "      <td>Car</td>\n",
       "      <td>no credit cards</td>\n",
       "    </tr>\n",
       "    <tr>\n",
       "      <th>4</th>\n",
       "      <td>R</td>\n",
       "      <td>200</td>\n",
       "      <td>0</td>\n",
       "      <td>0</td>\n",
       "      <td>100</td>\n",
       "      <td>U</td>\n",
       "      <td>300</td>\n",
       "      <td>0</td>\n",
       "      <td>0</td>\n",
       "      <td>Furniture,Carpet</td>\n",
       "      <td>German</td>\n",
       "      <td>Civil Service, M</td>\n",
       "      <td>Without Vehicle</td>\n",
       "      <td>Cheque card</td>\n",
       "    </tr>\n",
       "  </tbody>\n",
       "</table>\n",
       "</div>"
      ],
      "text/plain": [
       "  title  tel nmbloan finloan ec_card status bureau regn div           product  \\\n",
       "0     R  200       0       0     100      V    300    0   0   Radio, TV, Hifi   \n",
       "1     R  100       0       0       0      W    100    0   0  Furniture,Carpet   \n",
       "2     H  200     200     100     100      V    100    0   0  Furniture,Carpet   \n",
       "3     R  200       0       0       0      V    300    0   0  Furniture,Carpet   \n",
       "4     R  200       0       0     100      U    300    0   0  Furniture,Carpet   \n",
       "\n",
       "      nat              prof              car            cards  \n",
       "0  German            Others              Car      Cheque card  \n",
       "1  German            Others  Without Vehicle  no credit cards  \n",
       "2  German  Civil Service, M              Car      Cheque card  \n",
       "3  German            Others              Car  no credit cards  \n",
       "4  German  Civil Service, M  Without Vehicle      Cheque card  "
      ]
     },
     "execution_count": 47,
     "metadata": {},
     "output_type": "execute_result"
    }
   ],
   "source": [
    "X[categorical].head()"
   ]
  },
  {
   "cell_type": "code",
   "execution_count": 48,
   "metadata": {},
   "outputs": [],
   "source": [
    "X_copy = X.copy()"
   ]
  },
  {
   "cell_type": "code",
   "execution_count": 49,
   "metadata": {},
   "outputs": [],
   "source": [
    "# Codificamos las variables binarias\n",
    "encoder = ce.BinaryEncoder(cols=['ec_card', 'div', 'finloan'])"
   ]
  },
  {
   "cell_type": "code",
   "execution_count": 50,
   "metadata": {},
   "outputs": [],
   "source": [
    "X = encoder.fit_transform(X)"
   ]
  },
  {
   "cell_type": "code",
   "execution_count": 51,
   "metadata": {},
   "outputs": [
    {
     "data": {
      "text/html": [
       "<div>\n",
       "<style scoped>\n",
       "    .dataframe tbody tr th:only-of-type {\n",
       "        vertical-align: middle;\n",
       "    }\n",
       "\n",
       "    .dataframe tbody tr th {\n",
       "        vertical-align: top;\n",
       "    }\n",
       "\n",
       "    .dataframe thead th {\n",
       "        text-align: right;\n",
       "    }\n",
       "</style>\n",
       "<table border=\"1\" class=\"dataframe\">\n",
       "  <thead>\n",
       "    <tr style=\"text-align: right;\">\n",
       "      <th></th>\n",
       "      <th>title</th>\n",
       "      <th>children</th>\n",
       "      <th>pers_h</th>\n",
       "      <th>age</th>\n",
       "      <th>tmadd</th>\n",
       "      <th>tmjob1</th>\n",
       "      <th>tel</th>\n",
       "      <th>nmbloan</th>\n",
       "      <th>finloan_0</th>\n",
       "      <th>finloan_1</th>\n",
       "      <th>...</th>\n",
       "      <th>loans</th>\n",
       "      <th>regn</th>\n",
       "      <th>div_0</th>\n",
       "      <th>div_1</th>\n",
       "      <th>cash</th>\n",
       "      <th>product</th>\n",
       "      <th>nat</th>\n",
       "      <th>prof</th>\n",
       "      <th>car</th>\n",
       "      <th>cards</th>\n",
       "    </tr>\n",
       "  </thead>\n",
       "  <tbody>\n",
       "    <tr>\n",
       "      <th>0</th>\n",
       "      <td>R</td>\n",
       "      <td>0.0</td>\n",
       "      <td>2.0</td>\n",
       "      <td>46.0</td>\n",
       "      <td>1500.0</td>\n",
       "      <td>3300.0</td>\n",
       "      <td>200</td>\n",
       "      <td>0</td>\n",
       "      <td>0</td>\n",
       "      <td>1</td>\n",
       "      <td>...</td>\n",
       "      <td>0.0</td>\n",
       "      <td>0</td>\n",
       "      <td>0</td>\n",
       "      <td>1</td>\n",
       "      <td>200000.0</td>\n",
       "      <td>Radio, TV, Hifi</td>\n",
       "      <td>German</td>\n",
       "      <td>Others</td>\n",
       "      <td>Car</td>\n",
       "      <td>Cheque card</td>\n",
       "    </tr>\n",
       "    <tr>\n",
       "      <th>1</th>\n",
       "      <td>R</td>\n",
       "      <td>0.0</td>\n",
       "      <td>1.0</td>\n",
       "      <td>39.0</td>\n",
       "      <td>19200.0</td>\n",
       "      <td>600.0</td>\n",
       "      <td>100</td>\n",
       "      <td>0</td>\n",
       "      <td>0</td>\n",
       "      <td>1</td>\n",
       "      <td>...</td>\n",
       "      <td>1.0</td>\n",
       "      <td>0</td>\n",
       "      <td>0</td>\n",
       "      <td>1</td>\n",
       "      <td>250000.0</td>\n",
       "      <td>Furniture,Carpet</td>\n",
       "      <td>German</td>\n",
       "      <td>Others</td>\n",
       "      <td>Without Vehicle</td>\n",
       "      <td>no credit cards</td>\n",
       "    </tr>\n",
       "    <tr>\n",
       "      <th>2</th>\n",
       "      <td>H</td>\n",
       "      <td>3.0</td>\n",
       "      <td>5.0</td>\n",
       "      <td>32.0</td>\n",
       "      <td>4800.0</td>\n",
       "      <td>10800.0</td>\n",
       "      <td>200</td>\n",
       "      <td>200</td>\n",
       "      <td>1</td>\n",
       "      <td>0</td>\n",
       "      <td>...</td>\n",
       "      <td>1.0</td>\n",
       "      <td>0</td>\n",
       "      <td>0</td>\n",
       "      <td>1</td>\n",
       "      <td>250000.0</td>\n",
       "      <td>Furniture,Carpet</td>\n",
       "      <td>German</td>\n",
       "      <td>Civil Service, M</td>\n",
       "      <td>Car</td>\n",
       "      <td>Cheque card</td>\n",
       "    </tr>\n",
       "    <tr>\n",
       "      <th>3</th>\n",
       "      <td>R</td>\n",
       "      <td>0.0</td>\n",
       "      <td>2.0</td>\n",
       "      <td>42.0</td>\n",
       "      <td>14400.0</td>\n",
       "      <td>3000.0</td>\n",
       "      <td>200</td>\n",
       "      <td>0</td>\n",
       "      <td>0</td>\n",
       "      <td>1</td>\n",
       "      <td>...</td>\n",
       "      <td>0.0</td>\n",
       "      <td>0</td>\n",
       "      <td>0</td>\n",
       "      <td>1</td>\n",
       "      <td>730000.0</td>\n",
       "      <td>Furniture,Carpet</td>\n",
       "      <td>German</td>\n",
       "      <td>Others</td>\n",
       "      <td>Car</td>\n",
       "      <td>no credit cards</td>\n",
       "    </tr>\n",
       "    <tr>\n",
       "      <th>4</th>\n",
       "      <td>R</td>\n",
       "      <td>0.0</td>\n",
       "      <td>1.0</td>\n",
       "      <td>20.0</td>\n",
       "      <td>24000.0</td>\n",
       "      <td>900.0</td>\n",
       "      <td>200</td>\n",
       "      <td>0</td>\n",
       "      <td>0</td>\n",
       "      <td>1</td>\n",
       "      <td>...</td>\n",
       "      <td>0.0</td>\n",
       "      <td>0</td>\n",
       "      <td>0</td>\n",
       "      <td>1</td>\n",
       "      <td>400000.0</td>\n",
       "      <td>Furniture,Carpet</td>\n",
       "      <td>German</td>\n",
       "      <td>Civil Service, M</td>\n",
       "      <td>Without Vehicle</td>\n",
       "      <td>Cheque card</td>\n",
       "    </tr>\n",
       "  </tbody>\n",
       "</table>\n",
       "<p>5 rows × 27 columns</p>\n",
       "</div>"
      ],
      "text/plain": [
       "  title  children  pers_h   age    tmadd   tmjob1  tel nmbloan  finloan_0  \\\n",
       "0     R       0.0     2.0  46.0   1500.0   3300.0  200       0          0   \n",
       "1     R       0.0     1.0  39.0  19200.0    600.0  100       0          0   \n",
       "2     H       3.0     5.0  32.0   4800.0  10800.0  200     200          1   \n",
       "3     R       0.0     2.0  42.0  14400.0   3000.0  200       0          0   \n",
       "4     R       0.0     1.0  20.0  24000.0    900.0  200       0          0   \n",
       "\n",
       "   finloan_1  ...  loans  regn  div_0  div_1      cash           product  \\\n",
       "0          1  ...    0.0     0      0      1  200000.0   Radio, TV, Hifi   \n",
       "1          1  ...    1.0     0      0      1  250000.0  Furniture,Carpet   \n",
       "2          0  ...    1.0     0      0      1  250000.0  Furniture,Carpet   \n",
       "3          1  ...    0.0     0      0      1  730000.0  Furniture,Carpet   \n",
       "4          1  ...    0.0     0      0      1  400000.0  Furniture,Carpet   \n",
       "\n",
       "      nat              prof              car            cards  \n",
       "0  German            Others              Car      Cheque card  \n",
       "1  German            Others  Without Vehicle  no credit cards  \n",
       "2  German  Civil Service, M              Car      Cheque card  \n",
       "3  German            Others              Car  no credit cards  \n",
       "4  German  Civil Service, M  Without Vehicle      Cheque card  \n",
       "\n",
       "[5 rows x 27 columns]"
      ]
     },
     "execution_count": 51,
     "metadata": {},
     "output_type": "execute_result"
    }
   ],
   "source": [
    "X.head()"
   ]
  },
  {
   "cell_type": "markdown",
   "metadata": {},
   "source": [
    "Podemos observar que se crearon dos variables adicionales para cada columna binarias (finloan, div, ec_card). "
   ]
  },
  {
   "cell_type": "markdown",
   "metadata": {},
   "source": [
    "Creamos, finalmente, el dataset codificado."
   ]
  },
  {
   "cell_type": "code",
   "execution_count": 52,
   "metadata": {},
   "outputs": [],
   "source": [
    "X = pd.concat([X[numerical], X[['finloan_0', 'finloan_1', 'div_0', 'div_1', 'ec_card_0', 'ec_card_1']], \n",
    "                    pd.get_dummies(X['title'], dtype=int),\n",
    "                    pd.get_dummies(X['tel'], dtype=int),\n",
    "                    pd.get_dummies(X['nmbloan'], dtype=int),\n",
    "                    pd.get_dummies(X['status'], dtype=int),\n",
    "                    pd.get_dummies(X['bureau'], dtype=int),\n",
    "                    pd.get_dummies(X['regn'], dtype=int),\n",
    "                    pd.get_dummies(X['product'], dtype=int),\n",
    "                    pd.get_dummies(X['nat'], dtype=int),\n",
    "                    pd.get_dummies(X['prof'], dtype=int),\n",
    "                    pd.get_dummies(X['car'], dtype=int),\n",
    "                    pd.get_dummies(X['cards'], dtype=int)], axis=1)"
   ]
  },
  {
   "cell_type": "markdown",
   "metadata": {},
   "source": [
    "### Dividir la data en set de entrenamiento y test"
   ]
  },
  {
   "cell_type": "code",
   "execution_count": 53,
   "metadata": {},
   "outputs": [],
   "source": [
    "random_seed = 42\n",
    "np.random.seed(random_seed)\n",
    "\n",
    "X_train, X_test, y_train, y_test = train_test_split(X, y, test_size = 0.2, random_state=random_seed)"
   ]
  },
  {
   "cell_type": "code",
   "execution_count": 54,
   "metadata": {},
   "outputs": [
    {
     "data": {
      "text/plain": [
       "((2400, 75), (600, 75))"
      ]
     },
     "execution_count": 54,
     "metadata": {},
     "output_type": "execute_result"
    }
   ],
   "source": [
    "X_train.shape, X_test.shape"
   ]
  },
  {
   "cell_type": "code",
   "execution_count": 55,
   "metadata": {},
   "outputs": [
    {
     "data": {
      "text/html": [
       "<div>\n",
       "<style scoped>\n",
       "    .dataframe tbody tr th:only-of-type {\n",
       "        vertical-align: middle;\n",
       "    }\n",
       "\n",
       "    .dataframe tbody tr th {\n",
       "        vertical-align: top;\n",
       "    }\n",
       "\n",
       "    .dataframe thead th {\n",
       "        text-align: right;\n",
       "    }\n",
       "</style>\n",
       "<table border=\"1\" class=\"dataframe\">\n",
       "  <thead>\n",
       "    <tr style=\"text-align: right;\">\n",
       "      <th></th>\n",
       "      <th>children</th>\n",
       "      <th>pers_h</th>\n",
       "      <th>age</th>\n",
       "      <th>tmadd</th>\n",
       "      <th>tmjob1</th>\n",
       "      <th>income</th>\n",
       "      <th>inc</th>\n",
       "      <th>inc1</th>\n",
       "      <th>loans</th>\n",
       "      <th>cash</th>\n",
       "      <th>...</th>\n",
       "      <th>Car</th>\n",
       "      <th>Car and Motor bi</th>\n",
       "      <th>Without Vehicle</th>\n",
       "      <th>American Express</th>\n",
       "      <th>Cheque card</th>\n",
       "      <th>Mastercard/Euroc</th>\n",
       "      <th>Other credit car</th>\n",
       "      <th>VISA Others</th>\n",
       "      <th>VISA mybank</th>\n",
       "      <th>no credit cards</th>\n",
       "    </tr>\n",
       "  </thead>\n",
       "  <tbody>\n",
       "    <tr>\n",
       "      <th>642</th>\n",
       "      <td>1.0</td>\n",
       "      <td>2.0</td>\n",
       "      <td>35.0</td>\n",
       "      <td>31200.0</td>\n",
       "      <td>5400.0</td>\n",
       "      <td>280000.0</td>\n",
       "      <td>1000000</td>\n",
       "      <td>400</td>\n",
       "      <td>1.0</td>\n",
       "      <td>250000.0</td>\n",
       "      <td>...</td>\n",
       "      <td>1</td>\n",
       "      <td>0</td>\n",
       "      <td>0</td>\n",
       "      <td>0</td>\n",
       "      <td>0</td>\n",
       "      <td>0</td>\n",
       "      <td>0</td>\n",
       "      <td>0</td>\n",
       "      <td>0</td>\n",
       "      <td>1</td>\n",
       "    </tr>\n",
       "    <tr>\n",
       "      <th>700</th>\n",
       "      <td>0.0</td>\n",
       "      <td>2.0</td>\n",
       "      <td>23.0</td>\n",
       "      <td>3000.0</td>\n",
       "      <td>600.0</td>\n",
       "      <td>250000.0</td>\n",
       "      <td>250000</td>\n",
       "      <td>200</td>\n",
       "      <td>1.0</td>\n",
       "      <td>120000.0</td>\n",
       "      <td>...</td>\n",
       "      <td>1</td>\n",
       "      <td>0</td>\n",
       "      <td>0</td>\n",
       "      <td>0</td>\n",
       "      <td>0</td>\n",
       "      <td>0</td>\n",
       "      <td>0</td>\n",
       "      <td>0</td>\n",
       "      <td>0</td>\n",
       "      <td>1</td>\n",
       "    </tr>\n",
       "    <tr>\n",
       "      <th>226</th>\n",
       "      <td>0.0</td>\n",
       "      <td>1.0</td>\n",
       "      <td>25.0</td>\n",
       "      <td>21600.0</td>\n",
       "      <td>1200.0</td>\n",
       "      <td>230000.0</td>\n",
       "      <td>250000</td>\n",
       "      <td>200</td>\n",
       "      <td>0.0</td>\n",
       "      <td>400000.0</td>\n",
       "      <td>...</td>\n",
       "      <td>1</td>\n",
       "      <td>0</td>\n",
       "      <td>0</td>\n",
       "      <td>0</td>\n",
       "      <td>0</td>\n",
       "      <td>0</td>\n",
       "      <td>0</td>\n",
       "      <td>0</td>\n",
       "      <td>0</td>\n",
       "      <td>1</td>\n",
       "    </tr>\n",
       "    <tr>\n",
       "      <th>1697</th>\n",
       "      <td>0.0</td>\n",
       "      <td>1.0</td>\n",
       "      <td>66.0</td>\n",
       "      <td>6600.0</td>\n",
       "      <td>8400.0</td>\n",
       "      <td>230000.0</td>\n",
       "      <td>250000</td>\n",
       "      <td>200</td>\n",
       "      <td>3.0</td>\n",
       "      <td>90000.0</td>\n",
       "      <td>...</td>\n",
       "      <td>0</td>\n",
       "      <td>0</td>\n",
       "      <td>1</td>\n",
       "      <td>0</td>\n",
       "      <td>0</td>\n",
       "      <td>0</td>\n",
       "      <td>0</td>\n",
       "      <td>0</td>\n",
       "      <td>0</td>\n",
       "      <td>1</td>\n",
       "    </tr>\n",
       "    <tr>\n",
       "      <th>1010</th>\n",
       "      <td>0.0</td>\n",
       "      <td>1.0</td>\n",
       "      <td>27.0</td>\n",
       "      <td>1200.0</td>\n",
       "      <td>1200.0</td>\n",
       "      <td>200000.0</td>\n",
       "      <td>250000</td>\n",
       "      <td>200</td>\n",
       "      <td>0.0</td>\n",
       "      <td>70000.0</td>\n",
       "      <td>...</td>\n",
       "      <td>0</td>\n",
       "      <td>0</td>\n",
       "      <td>1</td>\n",
       "      <td>0</td>\n",
       "      <td>0</td>\n",
       "      <td>0</td>\n",
       "      <td>0</td>\n",
       "      <td>0</td>\n",
       "      <td>0</td>\n",
       "      <td>1</td>\n",
       "    </tr>\n",
       "    <tr>\n",
       "      <th>1572</th>\n",
       "      <td>2.0</td>\n",
       "      <td>4.0</td>\n",
       "      <td>35.0</td>\n",
       "      <td>1200.0</td>\n",
       "      <td>2400.0</td>\n",
       "      <td>200000.0</td>\n",
       "      <td>250000</td>\n",
       "      <td>200</td>\n",
       "      <td>0.0</td>\n",
       "      <td>100000.0</td>\n",
       "      <td>...</td>\n",
       "      <td>1</td>\n",
       "      <td>0</td>\n",
       "      <td>0</td>\n",
       "      <td>0</td>\n",
       "      <td>0</td>\n",
       "      <td>0</td>\n",
       "      <td>0</td>\n",
       "      <td>0</td>\n",
       "      <td>0</td>\n",
       "      <td>1</td>\n",
       "    </tr>\n",
       "    <tr>\n",
       "      <th>776</th>\n",
       "      <td>2.0</td>\n",
       "      <td>4.0</td>\n",
       "      <td>42.0</td>\n",
       "      <td>9600.0</td>\n",
       "      <td>19200.0</td>\n",
       "      <td>780000.0</td>\n",
       "      <td>1000000</td>\n",
       "      <td>500</td>\n",
       "      <td>3.0</td>\n",
       "      <td>250000.0</td>\n",
       "      <td>...</td>\n",
       "      <td>1</td>\n",
       "      <td>0</td>\n",
       "      <td>0</td>\n",
       "      <td>0</td>\n",
       "      <td>1</td>\n",
       "      <td>0</td>\n",
       "      <td>0</td>\n",
       "      <td>0</td>\n",
       "      <td>0</td>\n",
       "      <td>0</td>\n",
       "    </tr>\n",
       "    <tr>\n",
       "      <th>1730</th>\n",
       "      <td>0.0</td>\n",
       "      <td>2.0</td>\n",
       "      <td>27.0</td>\n",
       "      <td>3600.0</td>\n",
       "      <td>6000.0</td>\n",
       "      <td>250000.0</td>\n",
       "      <td>250000</td>\n",
       "      <td>200</td>\n",
       "      <td>1.0</td>\n",
       "      <td>100000.0</td>\n",
       "      <td>...</td>\n",
       "      <td>0</td>\n",
       "      <td>0</td>\n",
       "      <td>1</td>\n",
       "      <td>0</td>\n",
       "      <td>0</td>\n",
       "      <td>0</td>\n",
       "      <td>0</td>\n",
       "      <td>0</td>\n",
       "      <td>0</td>\n",
       "      <td>1</td>\n",
       "    </tr>\n",
       "    <tr>\n",
       "      <th>853</th>\n",
       "      <td>0.0</td>\n",
       "      <td>2.0</td>\n",
       "      <td>29.0</td>\n",
       "      <td>1500.0</td>\n",
       "      <td>8400.0</td>\n",
       "      <td>270000.0</td>\n",
       "      <td>1000000</td>\n",
       "      <td>400</td>\n",
       "      <td>2.0</td>\n",
       "      <td>110000.0</td>\n",
       "      <td>...</td>\n",
       "      <td>1</td>\n",
       "      <td>0</td>\n",
       "      <td>0</td>\n",
       "      <td>0</td>\n",
       "      <td>0</td>\n",
       "      <td>0</td>\n",
       "      <td>0</td>\n",
       "      <td>0</td>\n",
       "      <td>0</td>\n",
       "      <td>1</td>\n",
       "    </tr>\n",
       "    <tr>\n",
       "      <th>255</th>\n",
       "      <td>0.0</td>\n",
       "      <td>1.0</td>\n",
       "      <td>20.0</td>\n",
       "      <td>14400.0</td>\n",
       "      <td>300.0</td>\n",
       "      <td>400000.0</td>\n",
       "      <td>1000000</td>\n",
       "      <td>400</td>\n",
       "      <td>0.0</td>\n",
       "      <td>120000.0</td>\n",
       "      <td>...</td>\n",
       "      <td>1</td>\n",
       "      <td>0</td>\n",
       "      <td>0</td>\n",
       "      <td>0</td>\n",
       "      <td>0</td>\n",
       "      <td>0</td>\n",
       "      <td>0</td>\n",
       "      <td>0</td>\n",
       "      <td>0</td>\n",
       "      <td>1</td>\n",
       "    </tr>\n",
       "  </tbody>\n",
       "</table>\n",
       "<p>10 rows × 75 columns</p>\n",
       "</div>"
      ],
      "text/plain": [
       "      children  pers_h   age    tmadd   tmjob1    income      inc  inc1  \\\n",
       "642        1.0     2.0  35.0  31200.0   5400.0  280000.0  1000000   400   \n",
       "700        0.0     2.0  23.0   3000.0    600.0  250000.0   250000   200   \n",
       "226        0.0     1.0  25.0  21600.0   1200.0  230000.0   250000   200   \n",
       "1697       0.0     1.0  66.0   6600.0   8400.0  230000.0   250000   200   \n",
       "1010       0.0     1.0  27.0   1200.0   1200.0  200000.0   250000   200   \n",
       "1572       2.0     4.0  35.0   1200.0   2400.0  200000.0   250000   200   \n",
       "776        2.0     4.0  42.0   9600.0  19200.0  780000.0  1000000   500   \n",
       "1730       0.0     2.0  27.0   3600.0   6000.0  250000.0   250000   200   \n",
       "853        0.0     2.0  29.0   1500.0   8400.0  270000.0  1000000   400   \n",
       "255        0.0     1.0  20.0  14400.0    300.0  400000.0  1000000   400   \n",
       "\n",
       "      loans      cash  ...  Car  Car and Motor bi  Without Vehicle  \\\n",
       "642     1.0  250000.0  ...    1                 0                0   \n",
       "700     1.0  120000.0  ...    1                 0                0   \n",
       "226     0.0  400000.0  ...    1                 0                0   \n",
       "1697    3.0   90000.0  ...    0                 0                1   \n",
       "1010    0.0   70000.0  ...    0                 0                1   \n",
       "1572    0.0  100000.0  ...    1                 0                0   \n",
       "776     3.0  250000.0  ...    1                 0                0   \n",
       "1730    1.0  100000.0  ...    0                 0                1   \n",
       "853     2.0  110000.0  ...    1                 0                0   \n",
       "255     0.0  120000.0  ...    1                 0                0   \n",
       "\n",
       "      American Express  Cheque card  Mastercard/Euroc  Other credit car  \\\n",
       "642                  0            0                 0                 0   \n",
       "700                  0            0                 0                 0   \n",
       "226                  0            0                 0                 0   \n",
       "1697                 0            0                 0                 0   \n",
       "1010                 0            0                 0                 0   \n",
       "1572                 0            0                 0                 0   \n",
       "776                  0            1                 0                 0   \n",
       "1730                 0            0                 0                 0   \n",
       "853                  0            0                 0                 0   \n",
       "255                  0            0                 0                 0   \n",
       "\n",
       "      VISA Others  VISA mybank  no credit cards  \n",
       "642             0            0                1  \n",
       "700             0            0                1  \n",
       "226             0            0                1  \n",
       "1697            0            0                1  \n",
       "1010            0            0                1  \n",
       "1572            0            0                1  \n",
       "776             0            0                0  \n",
       "1730            0            0                1  \n",
       "853             0            0                1  \n",
       "255             0            0                1  \n",
       "\n",
       "[10 rows x 75 columns]"
      ]
     },
     "execution_count": 55,
     "metadata": {},
     "output_type": "execute_result"
    }
   ],
   "source": [
    "X_train.head(10)"
   ]
  },
  {
   "cell_type": "code",
   "execution_count": 56,
   "metadata": {},
   "outputs": [
    {
     "data": {
      "text/html": [
       "<div>\n",
       "<style scoped>\n",
       "    .dataframe tbody tr th:only-of-type {\n",
       "        vertical-align: middle;\n",
       "    }\n",
       "\n",
       "    .dataframe tbody tr th {\n",
       "        vertical-align: top;\n",
       "    }\n",
       "\n",
       "    .dataframe thead th {\n",
       "        text-align: right;\n",
       "    }\n",
       "</style>\n",
       "<table border=\"1\" class=\"dataframe\">\n",
       "  <thead>\n",
       "    <tr style=\"text-align: right;\">\n",
       "      <th></th>\n",
       "      <th>children</th>\n",
       "      <th>pers_h</th>\n",
       "      <th>age</th>\n",
       "      <th>tmadd</th>\n",
       "      <th>tmjob1</th>\n",
       "      <th>income</th>\n",
       "      <th>inc</th>\n",
       "      <th>inc1</th>\n",
       "      <th>loans</th>\n",
       "      <th>cash</th>\n",
       "      <th>...</th>\n",
       "      <th>Car</th>\n",
       "      <th>Car and Motor bi</th>\n",
       "      <th>Without Vehicle</th>\n",
       "      <th>American Express</th>\n",
       "      <th>Cheque card</th>\n",
       "      <th>Mastercard/Euroc</th>\n",
       "      <th>Other credit car</th>\n",
       "      <th>VISA Others</th>\n",
       "      <th>VISA mybank</th>\n",
       "      <th>no credit cards</th>\n",
       "    </tr>\n",
       "  </thead>\n",
       "  <tbody>\n",
       "    <tr>\n",
       "      <th>1801</th>\n",
       "      <td>0.0</td>\n",
       "      <td>1.0</td>\n",
       "      <td>22.0</td>\n",
       "      <td>26400.0</td>\n",
       "      <td>1200.0</td>\n",
       "      <td>220000.0</td>\n",
       "      <td>250000</td>\n",
       "      <td>200</td>\n",
       "      <td>2.0</td>\n",
       "      <td>170000.0</td>\n",
       "      <td>...</td>\n",
       "      <td>1</td>\n",
       "      <td>0</td>\n",
       "      <td>0</td>\n",
       "      <td>0</td>\n",
       "      <td>0</td>\n",
       "      <td>0</td>\n",
       "      <td>0</td>\n",
       "      <td>0</td>\n",
       "      <td>0</td>\n",
       "      <td>1</td>\n",
       "    </tr>\n",
       "    <tr>\n",
       "      <th>1190</th>\n",
       "      <td>0.0</td>\n",
       "      <td>1.0</td>\n",
       "      <td>25.0</td>\n",
       "      <td>1200.0</td>\n",
       "      <td>4500.0</td>\n",
       "      <td>150000.0</td>\n",
       "      <td>250000</td>\n",
       "      <td>200</td>\n",
       "      <td>1.0</td>\n",
       "      <td>150000.0</td>\n",
       "      <td>...</td>\n",
       "      <td>1</td>\n",
       "      <td>0</td>\n",
       "      <td>0</td>\n",
       "      <td>0</td>\n",
       "      <td>0</td>\n",
       "      <td>0</td>\n",
       "      <td>0</td>\n",
       "      <td>0</td>\n",
       "      <td>0</td>\n",
       "      <td>1</td>\n",
       "    </tr>\n",
       "    <tr>\n",
       "      <th>1817</th>\n",
       "      <td>0.0</td>\n",
       "      <td>1.0</td>\n",
       "      <td>31.0</td>\n",
       "      <td>60900.0</td>\n",
       "      <td>19200.0</td>\n",
       "      <td>340000.0</td>\n",
       "      <td>1000000</td>\n",
       "      <td>400</td>\n",
       "      <td>0.0</td>\n",
       "      <td>160000.0</td>\n",
       "      <td>...</td>\n",
       "      <td>1</td>\n",
       "      <td>0</td>\n",
       "      <td>0</td>\n",
       "      <td>0</td>\n",
       "      <td>0</td>\n",
       "      <td>0</td>\n",
       "      <td>0</td>\n",
       "      <td>0</td>\n",
       "      <td>0</td>\n",
       "      <td>1</td>\n",
       "    </tr>\n",
       "    <tr>\n",
       "      <th>251</th>\n",
       "      <td>2.0</td>\n",
       "      <td>4.0</td>\n",
       "      <td>30.0</td>\n",
       "      <td>9600.0</td>\n",
       "      <td>3000.0</td>\n",
       "      <td>0.0</td>\n",
       "      <td>0</td>\n",
       "      <td>100</td>\n",
       "      <td>1.0</td>\n",
       "      <td>150000.0</td>\n",
       "      <td>...</td>\n",
       "      <td>1</td>\n",
       "      <td>0</td>\n",
       "      <td>0</td>\n",
       "      <td>0</td>\n",
       "      <td>1</td>\n",
       "      <td>0</td>\n",
       "      <td>0</td>\n",
       "      <td>0</td>\n",
       "      <td>0</td>\n",
       "      <td>0</td>\n",
       "    </tr>\n",
       "    <tr>\n",
       "      <th>532</th>\n",
       "      <td>0.0</td>\n",
       "      <td>2.0</td>\n",
       "      <td>30.0</td>\n",
       "      <td>2400.0</td>\n",
       "      <td>900.0</td>\n",
       "      <td>0.0</td>\n",
       "      <td>0</td>\n",
       "      <td>0</td>\n",
       "      <td>2.0</td>\n",
       "      <td>400000.0</td>\n",
       "      <td>...</td>\n",
       "      <td>1</td>\n",
       "      <td>0</td>\n",
       "      <td>0</td>\n",
       "      <td>0</td>\n",
       "      <td>0</td>\n",
       "      <td>1</td>\n",
       "      <td>0</td>\n",
       "      <td>0</td>\n",
       "      <td>0</td>\n",
       "      <td>0</td>\n",
       "    </tr>\n",
       "    <tr>\n",
       "      <th>1117</th>\n",
       "      <td>0.0</td>\n",
       "      <td>2.0</td>\n",
       "      <td>33.0</td>\n",
       "      <td>60900.0</td>\n",
       "      <td>12000.0</td>\n",
       "      <td>300000.0</td>\n",
       "      <td>1000000</td>\n",
       "      <td>400</td>\n",
       "      <td>1.0</td>\n",
       "      <td>80000.0</td>\n",
       "      <td>...</td>\n",
       "      <td>1</td>\n",
       "      <td>0</td>\n",
       "      <td>0</td>\n",
       "      <td>0</td>\n",
       "      <td>0</td>\n",
       "      <td>0</td>\n",
       "      <td>0</td>\n",
       "      <td>0</td>\n",
       "      <td>0</td>\n",
       "      <td>1</td>\n",
       "    </tr>\n",
       "    <tr>\n",
       "      <th>1411</th>\n",
       "      <td>0.0</td>\n",
       "      <td>1.0</td>\n",
       "      <td>35.0</td>\n",
       "      <td>60900.0</td>\n",
       "      <td>1500.0</td>\n",
       "      <td>150000.0</td>\n",
       "      <td>250000</td>\n",
       "      <td>200</td>\n",
       "      <td>1.0</td>\n",
       "      <td>60000.0</td>\n",
       "      <td>...</td>\n",
       "      <td>0</td>\n",
       "      <td>0</td>\n",
       "      <td>1</td>\n",
       "      <td>0</td>\n",
       "      <td>0</td>\n",
       "      <td>0</td>\n",
       "      <td>0</td>\n",
       "      <td>0</td>\n",
       "      <td>0</td>\n",
       "      <td>1</td>\n",
       "    </tr>\n",
       "    <tr>\n",
       "      <th>140</th>\n",
       "      <td>0.0</td>\n",
       "      <td>1.0</td>\n",
       "      <td>28.0</td>\n",
       "      <td>6600.0</td>\n",
       "      <td>900.0</td>\n",
       "      <td>0.0</td>\n",
       "      <td>0</td>\n",
       "      <td>100</td>\n",
       "      <td>1.0</td>\n",
       "      <td>140000.0</td>\n",
       "      <td>...</td>\n",
       "      <td>1</td>\n",
       "      <td>0</td>\n",
       "      <td>0</td>\n",
       "      <td>0</td>\n",
       "      <td>1</td>\n",
       "      <td>0</td>\n",
       "      <td>0</td>\n",
       "      <td>0</td>\n",
       "      <td>0</td>\n",
       "      <td>0</td>\n",
       "    </tr>\n",
       "    <tr>\n",
       "      <th>408</th>\n",
       "      <td>0.0</td>\n",
       "      <td>1.0</td>\n",
       "      <td>20.0</td>\n",
       "      <td>14400.0</td>\n",
       "      <td>600.0</td>\n",
       "      <td>170000.0</td>\n",
       "      <td>250000</td>\n",
       "      <td>200</td>\n",
       "      <td>0.0</td>\n",
       "      <td>90000.0</td>\n",
       "      <td>...</td>\n",
       "      <td>1</td>\n",
       "      <td>0</td>\n",
       "      <td>0</td>\n",
       "      <td>0</td>\n",
       "      <td>0</td>\n",
       "      <td>0</td>\n",
       "      <td>0</td>\n",
       "      <td>0</td>\n",
       "      <td>0</td>\n",
       "      <td>1</td>\n",
       "    </tr>\n",
       "    <tr>\n",
       "      <th>606</th>\n",
       "      <td>1.0</td>\n",
       "      <td>3.0</td>\n",
       "      <td>26.0</td>\n",
       "      <td>8400.0</td>\n",
       "      <td>9600.0</td>\n",
       "      <td>150000.0</td>\n",
       "      <td>250000</td>\n",
       "      <td>300</td>\n",
       "      <td>0.0</td>\n",
       "      <td>130000.0</td>\n",
       "      <td>...</td>\n",
       "      <td>1</td>\n",
       "      <td>0</td>\n",
       "      <td>0</td>\n",
       "      <td>0</td>\n",
       "      <td>1</td>\n",
       "      <td>0</td>\n",
       "      <td>0</td>\n",
       "      <td>0</td>\n",
       "      <td>0</td>\n",
       "      <td>0</td>\n",
       "    </tr>\n",
       "  </tbody>\n",
       "</table>\n",
       "<p>10 rows × 75 columns</p>\n",
       "</div>"
      ],
      "text/plain": [
       "      children  pers_h   age    tmadd   tmjob1    income      inc  inc1  \\\n",
       "1801       0.0     1.0  22.0  26400.0   1200.0  220000.0   250000   200   \n",
       "1190       0.0     1.0  25.0   1200.0   4500.0  150000.0   250000   200   \n",
       "1817       0.0     1.0  31.0  60900.0  19200.0  340000.0  1000000   400   \n",
       "251        2.0     4.0  30.0   9600.0   3000.0       0.0        0   100   \n",
       "532        0.0     2.0  30.0   2400.0    900.0       0.0        0     0   \n",
       "1117       0.0     2.0  33.0  60900.0  12000.0  300000.0  1000000   400   \n",
       "1411       0.0     1.0  35.0  60900.0   1500.0  150000.0   250000   200   \n",
       "140        0.0     1.0  28.0   6600.0    900.0       0.0        0   100   \n",
       "408        0.0     1.0  20.0  14400.0    600.0  170000.0   250000   200   \n",
       "606        1.0     3.0  26.0   8400.0   9600.0  150000.0   250000   300   \n",
       "\n",
       "      loans      cash  ...  Car  Car and Motor bi  Without Vehicle  \\\n",
       "1801    2.0  170000.0  ...    1                 0                0   \n",
       "1190    1.0  150000.0  ...    1                 0                0   \n",
       "1817    0.0  160000.0  ...    1                 0                0   \n",
       "251     1.0  150000.0  ...    1                 0                0   \n",
       "532     2.0  400000.0  ...    1                 0                0   \n",
       "1117    1.0   80000.0  ...    1                 0                0   \n",
       "1411    1.0   60000.0  ...    0                 0                1   \n",
       "140     1.0  140000.0  ...    1                 0                0   \n",
       "408     0.0   90000.0  ...    1                 0                0   \n",
       "606     0.0  130000.0  ...    1                 0                0   \n",
       "\n",
       "      American Express  Cheque card  Mastercard/Euroc  Other credit car  \\\n",
       "1801                 0            0                 0                 0   \n",
       "1190                 0            0                 0                 0   \n",
       "1817                 0            0                 0                 0   \n",
       "251                  0            1                 0                 0   \n",
       "532                  0            0                 1                 0   \n",
       "1117                 0            0                 0                 0   \n",
       "1411                 0            0                 0                 0   \n",
       "140                  0            1                 0                 0   \n",
       "408                  0            0                 0                 0   \n",
       "606                  0            1                 0                 0   \n",
       "\n",
       "      VISA Others  VISA mybank  no credit cards  \n",
       "1801            0            0                1  \n",
       "1190            0            0                1  \n",
       "1817            0            0                1  \n",
       "251             0            0                0  \n",
       "532             0            0                0  \n",
       "1117            0            0                1  \n",
       "1411            0            0                1  \n",
       "140             0            0                0  \n",
       "408             0            0                1  \n",
       "606             0            0                0  \n",
       "\n",
       "[10 rows x 75 columns]"
      ]
     },
     "execution_count": 56,
     "metadata": {},
     "output_type": "execute_result"
    }
   ],
   "source": [
    "X_test.head(10)"
   ]
  },
  {
   "cell_type": "markdown",
   "metadata": {},
   "source": [
    "Ahora ya tenemos un conjunto de entranamiento y pruebas listo para la construcción de modelos. Antes de eso, debemos mapear todas las variables de características en la misma escala. "
   ]
  },
  {
   "cell_type": "markdown",
   "metadata": {},
   "source": [
    "### Feature Scaling"
   ]
  },
  {
   "cell_type": "code",
   "execution_count": 57,
   "metadata": {},
   "outputs": [
    {
     "data": {
      "text/html": [
       "<div>\n",
       "<style scoped>\n",
       "    .dataframe tbody tr th:only-of-type {\n",
       "        vertical-align: middle;\n",
       "    }\n",
       "\n",
       "    .dataframe tbody tr th {\n",
       "        vertical-align: top;\n",
       "    }\n",
       "\n",
       "    .dataframe thead th {\n",
       "        text-align: right;\n",
       "    }\n",
       "</style>\n",
       "<table border=\"1\" class=\"dataframe\">\n",
       "  <thead>\n",
       "    <tr style=\"text-align: right;\">\n",
       "      <th></th>\n",
       "      <th>children</th>\n",
       "      <th>pers_h</th>\n",
       "      <th>age</th>\n",
       "      <th>tmadd</th>\n",
       "      <th>tmjob1</th>\n",
       "      <th>income</th>\n",
       "      <th>inc</th>\n",
       "      <th>inc1</th>\n",
       "      <th>loans</th>\n",
       "      <th>cash</th>\n",
       "      <th>...</th>\n",
       "      <th>Car</th>\n",
       "      <th>Car and Motor bi</th>\n",
       "      <th>Without Vehicle</th>\n",
       "      <th>American Express</th>\n",
       "      <th>Cheque card</th>\n",
       "      <th>Mastercard/Euroc</th>\n",
       "      <th>Other credit car</th>\n",
       "      <th>VISA Others</th>\n",
       "      <th>VISA mybank</th>\n",
       "      <th>no credit cards</th>\n",
       "    </tr>\n",
       "  </thead>\n",
       "  <tbody>\n",
       "    <tr>\n",
       "      <th>count</th>\n",
       "      <td>2400.000000</td>\n",
       "      <td>2400.000000</td>\n",
       "      <td>2400.000000</td>\n",
       "      <td>2400.000000</td>\n",
       "      <td>2400.000000</td>\n",
       "      <td>2400.000000</td>\n",
       "      <td>2400.000000</td>\n",
       "      <td>2400.000000</td>\n",
       "      <td>2400.000000</td>\n",
       "      <td>2400.000000</td>\n",
       "      <td>...</td>\n",
       "      <td>2400.00000</td>\n",
       "      <td>2400.000000</td>\n",
       "      <td>2400.000000</td>\n",
       "      <td>2400.000000</td>\n",
       "      <td>2400.000000</td>\n",
       "      <td>2400.000000</td>\n",
       "      <td>2400.000000</td>\n",
       "      <td>2400.000000</td>\n",
       "      <td>2400.000000</td>\n",
       "      <td>2400.000000</td>\n",
       "    </tr>\n",
       "    <tr>\n",
       "      <th>mean</th>\n",
       "      <td>0.828333</td>\n",
       "      <td>2.374583</td>\n",
       "      <td>34.026250</td>\n",
       "      <td>10698.500000</td>\n",
       "      <td>7225.375000</td>\n",
       "      <td>194500.000000</td>\n",
       "      <td>413958.333333</td>\n",
       "      <td>238.000000</td>\n",
       "      <td>1.030000</td>\n",
       "      <td>196700.000000</td>\n",
       "      <td>...</td>\n",
       "      <td>0.77000</td>\n",
       "      <td>0.005417</td>\n",
       "      <td>0.224583</td>\n",
       "      <td>0.000833</td>\n",
       "      <td>0.257083</td>\n",
       "      <td>0.022917</td>\n",
       "      <td>0.002500</td>\n",
       "      <td>0.000833</td>\n",
       "      <td>0.000833</td>\n",
       "      <td>0.715000</td>\n",
       "    </tr>\n",
       "    <tr>\n",
       "      <th>std</th>\n",
       "      <td>1.040103</td>\n",
       "      <td>1.381750</td>\n",
       "      <td>10.957863</td>\n",
       "      <td>12428.034013</td>\n",
       "      <td>8057.432565</td>\n",
       "      <td>137247.399564</td>\n",
       "      <td>393706.955849</td>\n",
       "      <td>121.156027</td>\n",
       "      <td>1.130103</td>\n",
       "      <td>160302.007595</td>\n",
       "      <td>...</td>\n",
       "      <td>0.42092</td>\n",
       "      <td>0.073414</td>\n",
       "      <td>0.417395</td>\n",
       "      <td>0.028861</td>\n",
       "      <td>0.437117</td>\n",
       "      <td>0.149669</td>\n",
       "      <td>0.049948</td>\n",
       "      <td>0.028861</td>\n",
       "      <td>0.028861</td>\n",
       "      <td>0.451509</td>\n",
       "    </tr>\n",
       "    <tr>\n",
       "      <th>min</th>\n",
       "      <td>0.000000</td>\n",
       "      <td>1.000000</td>\n",
       "      <td>18.000000</td>\n",
       "      <td>0.000000</td>\n",
       "      <td>0.000000</td>\n",
       "      <td>0.000000</td>\n",
       "      <td>0.000000</td>\n",
       "      <td>0.000000</td>\n",
       "      <td>0.000000</td>\n",
       "      <td>0.000000</td>\n",
       "      <td>...</td>\n",
       "      <td>0.00000</td>\n",
       "      <td>0.000000</td>\n",
       "      <td>0.000000</td>\n",
       "      <td>0.000000</td>\n",
       "      <td>0.000000</td>\n",
       "      <td>0.000000</td>\n",
       "      <td>0.000000</td>\n",
       "      <td>0.000000</td>\n",
       "      <td>0.000000</td>\n",
       "      <td>0.000000</td>\n",
       "    </tr>\n",
       "    <tr>\n",
       "      <th>25%</th>\n",
       "      <td>0.000000</td>\n",
       "      <td>1.000000</td>\n",
       "      <td>25.000000</td>\n",
       "      <td>2100.000000</td>\n",
       "      <td>1800.000000</td>\n",
       "      <td>100000.000000</td>\n",
       "      <td>250000.000000</td>\n",
       "      <td>200.000000</td>\n",
       "      <td>0.000000</td>\n",
       "      <td>90000.000000</td>\n",
       "      <td>...</td>\n",
       "      <td>1.00000</td>\n",
       "      <td>0.000000</td>\n",
       "      <td>0.000000</td>\n",
       "      <td>0.000000</td>\n",
       "      <td>0.000000</td>\n",
       "      <td>0.000000</td>\n",
       "      <td>0.000000</td>\n",
       "      <td>0.000000</td>\n",
       "      <td>0.000000</td>\n",
       "      <td>0.000000</td>\n",
       "    </tr>\n",
       "    <tr>\n",
       "      <th>50%</th>\n",
       "      <td>0.000000</td>\n",
       "      <td>2.000000</td>\n",
       "      <td>31.000000</td>\n",
       "      <td>6000.000000</td>\n",
       "      <td>3900.000000</td>\n",
       "      <td>210000.000000</td>\n",
       "      <td>250000.000000</td>\n",
       "      <td>200.000000</td>\n",
       "      <td>1.000000</td>\n",
       "      <td>140000.000000</td>\n",
       "      <td>...</td>\n",
       "      <td>1.00000</td>\n",
       "      <td>0.000000</td>\n",
       "      <td>0.000000</td>\n",
       "      <td>0.000000</td>\n",
       "      <td>0.000000</td>\n",
       "      <td>0.000000</td>\n",
       "      <td>0.000000</td>\n",
       "      <td>0.000000</td>\n",
       "      <td>0.000000</td>\n",
       "      <td>1.000000</td>\n",
       "    </tr>\n",
       "    <tr>\n",
       "      <th>75%</th>\n",
       "      <td>2.000000</td>\n",
       "      <td>3.000000</td>\n",
       "      <td>40.000000</td>\n",
       "      <td>16800.000000</td>\n",
       "      <td>9600.000000</td>\n",
       "      <td>270000.000000</td>\n",
       "      <td>1000000.000000</td>\n",
       "      <td>400.000000</td>\n",
       "      <td>2.000000</td>\n",
       "      <td>250000.000000</td>\n",
       "      <td>...</td>\n",
       "      <td>1.00000</td>\n",
       "      <td>0.000000</td>\n",
       "      <td>0.000000</td>\n",
       "      <td>0.000000</td>\n",
       "      <td>1.000000</td>\n",
       "      <td>0.000000</td>\n",
       "      <td>0.000000</td>\n",
       "      <td>0.000000</td>\n",
       "      <td>0.000000</td>\n",
       "      <td>1.000000</td>\n",
       "    </tr>\n",
       "    <tr>\n",
       "      <th>max</th>\n",
       "      <td>4.000000</td>\n",
       "      <td>9.000000</td>\n",
       "      <td>70.000000</td>\n",
       "      <td>60900.000000</td>\n",
       "      <td>33000.000000</td>\n",
       "      <td>780000.000000</td>\n",
       "      <td>1000000.000000</td>\n",
       "      <td>500.000000</td>\n",
       "      <td>8.000000</td>\n",
       "      <td>730000.000000</td>\n",
       "      <td>...</td>\n",
       "      <td>1.00000</td>\n",
       "      <td>1.000000</td>\n",
       "      <td>1.000000</td>\n",
       "      <td>1.000000</td>\n",
       "      <td>1.000000</td>\n",
       "      <td>1.000000</td>\n",
       "      <td>1.000000</td>\n",
       "      <td>1.000000</td>\n",
       "      <td>1.000000</td>\n",
       "      <td>1.000000</td>\n",
       "    </tr>\n",
       "  </tbody>\n",
       "</table>\n",
       "<p>8 rows × 75 columns</p>\n",
       "</div>"
      ],
      "text/plain": [
       "          children       pers_h          age         tmadd        tmjob1  \\\n",
       "count  2400.000000  2400.000000  2400.000000   2400.000000   2400.000000   \n",
       "mean      0.828333     2.374583    34.026250  10698.500000   7225.375000   \n",
       "std       1.040103     1.381750    10.957863  12428.034013   8057.432565   \n",
       "min       0.000000     1.000000    18.000000      0.000000      0.000000   \n",
       "25%       0.000000     1.000000    25.000000   2100.000000   1800.000000   \n",
       "50%       0.000000     2.000000    31.000000   6000.000000   3900.000000   \n",
       "75%       2.000000     3.000000    40.000000  16800.000000   9600.000000   \n",
       "max       4.000000     9.000000    70.000000  60900.000000  33000.000000   \n",
       "\n",
       "              income             inc         inc1        loans           cash  \\\n",
       "count    2400.000000     2400.000000  2400.000000  2400.000000    2400.000000   \n",
       "mean   194500.000000   413958.333333   238.000000     1.030000  196700.000000   \n",
       "std    137247.399564   393706.955849   121.156027     1.130103  160302.007595   \n",
       "min         0.000000        0.000000     0.000000     0.000000       0.000000   \n",
       "25%    100000.000000   250000.000000   200.000000     0.000000   90000.000000   \n",
       "50%    210000.000000   250000.000000   200.000000     1.000000  140000.000000   \n",
       "75%    270000.000000  1000000.000000   400.000000     2.000000  250000.000000   \n",
       "max    780000.000000  1000000.000000   500.000000     8.000000  730000.000000   \n",
       "\n",
       "       ...         Car  Car and Motor bi  Without Vehicle  American Express  \\\n",
       "count  ...  2400.00000       2400.000000      2400.000000       2400.000000   \n",
       "mean   ...     0.77000          0.005417         0.224583          0.000833   \n",
       "std    ...     0.42092          0.073414         0.417395          0.028861   \n",
       "min    ...     0.00000          0.000000         0.000000          0.000000   \n",
       "25%    ...     1.00000          0.000000         0.000000          0.000000   \n",
       "50%    ...     1.00000          0.000000         0.000000          0.000000   \n",
       "75%    ...     1.00000          0.000000         0.000000          0.000000   \n",
       "max    ...     1.00000          1.000000         1.000000          1.000000   \n",
       "\n",
       "       Cheque card  Mastercard/Euroc  Other credit car  VISA Others  \\\n",
       "count  2400.000000       2400.000000       2400.000000  2400.000000   \n",
       "mean      0.257083          0.022917          0.002500     0.000833   \n",
       "std       0.437117          0.149669          0.049948     0.028861   \n",
       "min       0.000000          0.000000          0.000000     0.000000   \n",
       "25%       0.000000          0.000000          0.000000     0.000000   \n",
       "50%       0.000000          0.000000          0.000000     0.000000   \n",
       "75%       1.000000          0.000000          0.000000     0.000000   \n",
       "max       1.000000          1.000000          1.000000     1.000000   \n",
       "\n",
       "       VISA mybank  no credit cards  \n",
       "count  2400.000000      2400.000000  \n",
       "mean      0.000833         0.715000  \n",
       "std       0.028861         0.451509  \n",
       "min       0.000000         0.000000  \n",
       "25%       0.000000         0.000000  \n",
       "50%       0.000000         1.000000  \n",
       "75%       0.000000         1.000000  \n",
       "max       1.000000         1.000000  \n",
       "\n",
       "[8 rows x 75 columns]"
      ]
     },
     "execution_count": 57,
     "metadata": {},
     "output_type": "execute_result"
    }
   ],
   "source": [
    "X_train.describe()"
   ]
  },
  {
   "cell_type": "code",
   "execution_count": 58,
   "metadata": {},
   "outputs": [],
   "source": [
    "# Convertir todos los nombres de columna a cadenas\n",
    "X_train.columns = X_train.columns.astype(str)\n",
    "X_test.columns = X_test.columns.astype(str)"
   ]
  },
  {
   "cell_type": "code",
   "execution_count": 59,
   "metadata": {},
   "outputs": [],
   "source": [
    "cols = X_train.columns"
   ]
  },
  {
   "cell_type": "code",
   "execution_count": 60,
   "metadata": {},
   "outputs": [],
   "source": [
    "scaler = MinMaxScaler()\n",
    "X_train = scaler.fit_transform(X_train)\n",
    "X_test = scaler.transform(X_test)\n"
   ]
  },
  {
   "cell_type": "code",
   "execution_count": 61,
   "metadata": {},
   "outputs": [],
   "source": [
    "X_train = pd.DataFrame(X_train, columns=[cols])"
   ]
  },
  {
   "cell_type": "code",
   "execution_count": 62,
   "metadata": {},
   "outputs": [],
   "source": [
    "X_test = pd.DataFrame(X_test, columns=[cols])"
   ]
  },
  {
   "cell_type": "code",
   "execution_count": 63,
   "metadata": {},
   "outputs": [
    {
     "data": {
      "text/html": [
       "<div>\n",
       "<style scoped>\n",
       "    .dataframe tbody tr th:only-of-type {\n",
       "        vertical-align: middle;\n",
       "    }\n",
       "\n",
       "    .dataframe tbody tr th {\n",
       "        vertical-align: top;\n",
       "    }\n",
       "\n",
       "    .dataframe thead tr th {\n",
       "        text-align: left;\n",
       "    }\n",
       "</style>\n",
       "<table border=\"1\" class=\"dataframe\">\n",
       "  <thead>\n",
       "    <tr>\n",
       "      <th></th>\n",
       "      <th>children</th>\n",
       "      <th>pers_h</th>\n",
       "      <th>age</th>\n",
       "      <th>tmadd</th>\n",
       "      <th>tmjob1</th>\n",
       "      <th>income</th>\n",
       "      <th>inc</th>\n",
       "      <th>inc1</th>\n",
       "      <th>loans</th>\n",
       "      <th>cash</th>\n",
       "      <th>...</th>\n",
       "      <th>Car</th>\n",
       "      <th>Car and Motor bi</th>\n",
       "      <th>Without Vehicle</th>\n",
       "      <th>American Express</th>\n",
       "      <th>Cheque card</th>\n",
       "      <th>Mastercard/Euroc</th>\n",
       "      <th>Other credit car</th>\n",
       "      <th>VISA Others</th>\n",
       "      <th>VISA mybank</th>\n",
       "      <th>no credit cards</th>\n",
       "    </tr>\n",
       "  </thead>\n",
       "  <tbody>\n",
       "    <tr>\n",
       "      <th>count</th>\n",
       "      <td>2400.000000</td>\n",
       "      <td>2400.000000</td>\n",
       "      <td>2400.000000</td>\n",
       "      <td>2400.000000</td>\n",
       "      <td>2400.000000</td>\n",
       "      <td>2400.000000</td>\n",
       "      <td>2400.000000</td>\n",
       "      <td>2400.000000</td>\n",
       "      <td>2400.000000</td>\n",
       "      <td>2400.000000</td>\n",
       "      <td>...</td>\n",
       "      <td>2400.00000</td>\n",
       "      <td>2400.000000</td>\n",
       "      <td>2400.000000</td>\n",
       "      <td>2400.000000</td>\n",
       "      <td>2400.000000</td>\n",
       "      <td>2400.000000</td>\n",
       "      <td>2400.000000</td>\n",
       "      <td>2400.000000</td>\n",
       "      <td>2400.000000</td>\n",
       "      <td>2400.000000</td>\n",
       "    </tr>\n",
       "    <tr>\n",
       "      <th>mean</th>\n",
       "      <td>0.207083</td>\n",
       "      <td>0.171823</td>\n",
       "      <td>0.308197</td>\n",
       "      <td>0.175673</td>\n",
       "      <td>0.218951</td>\n",
       "      <td>0.249359</td>\n",
       "      <td>0.413958</td>\n",
       "      <td>0.476000</td>\n",
       "      <td>0.128750</td>\n",
       "      <td>0.269452</td>\n",
       "      <td>...</td>\n",
       "      <td>0.77000</td>\n",
       "      <td>0.005417</td>\n",
       "      <td>0.224583</td>\n",
       "      <td>0.000833</td>\n",
       "      <td>0.257083</td>\n",
       "      <td>0.022917</td>\n",
       "      <td>0.002500</td>\n",
       "      <td>0.000833</td>\n",
       "      <td>0.000833</td>\n",
       "      <td>0.715000</td>\n",
       "    </tr>\n",
       "    <tr>\n",
       "      <th>std</th>\n",
       "      <td>0.260026</td>\n",
       "      <td>0.172719</td>\n",
       "      <td>0.210728</td>\n",
       "      <td>0.204073</td>\n",
       "      <td>0.244165</td>\n",
       "      <td>0.175958</td>\n",
       "      <td>0.393707</td>\n",
       "      <td>0.242312</td>\n",
       "      <td>0.141263</td>\n",
       "      <td>0.219592</td>\n",
       "      <td>...</td>\n",
       "      <td>0.42092</td>\n",
       "      <td>0.073414</td>\n",
       "      <td>0.417395</td>\n",
       "      <td>0.028861</td>\n",
       "      <td>0.437117</td>\n",
       "      <td>0.149669</td>\n",
       "      <td>0.049948</td>\n",
       "      <td>0.028861</td>\n",
       "      <td>0.028861</td>\n",
       "      <td>0.451509</td>\n",
       "    </tr>\n",
       "    <tr>\n",
       "      <th>min</th>\n",
       "      <td>0.000000</td>\n",
       "      <td>0.000000</td>\n",
       "      <td>0.000000</td>\n",
       "      <td>0.000000</td>\n",
       "      <td>0.000000</td>\n",
       "      <td>0.000000</td>\n",
       "      <td>0.000000</td>\n",
       "      <td>0.000000</td>\n",
       "      <td>0.000000</td>\n",
       "      <td>0.000000</td>\n",
       "      <td>...</td>\n",
       "      <td>0.00000</td>\n",
       "      <td>0.000000</td>\n",
       "      <td>0.000000</td>\n",
       "      <td>0.000000</td>\n",
       "      <td>0.000000</td>\n",
       "      <td>0.000000</td>\n",
       "      <td>0.000000</td>\n",
       "      <td>0.000000</td>\n",
       "      <td>0.000000</td>\n",
       "      <td>0.000000</td>\n",
       "    </tr>\n",
       "    <tr>\n",
       "      <th>25%</th>\n",
       "      <td>0.000000</td>\n",
       "      <td>0.000000</td>\n",
       "      <td>0.134615</td>\n",
       "      <td>0.034483</td>\n",
       "      <td>0.054545</td>\n",
       "      <td>0.128205</td>\n",
       "      <td>0.250000</td>\n",
       "      <td>0.400000</td>\n",
       "      <td>0.000000</td>\n",
       "      <td>0.123288</td>\n",
       "      <td>...</td>\n",
       "      <td>1.00000</td>\n",
       "      <td>0.000000</td>\n",
       "      <td>0.000000</td>\n",
       "      <td>0.000000</td>\n",
       "      <td>0.000000</td>\n",
       "      <td>0.000000</td>\n",
       "      <td>0.000000</td>\n",
       "      <td>0.000000</td>\n",
       "      <td>0.000000</td>\n",
       "      <td>0.000000</td>\n",
       "    </tr>\n",
       "    <tr>\n",
       "      <th>50%</th>\n",
       "      <td>0.000000</td>\n",
       "      <td>0.125000</td>\n",
       "      <td>0.250000</td>\n",
       "      <td>0.098522</td>\n",
       "      <td>0.118182</td>\n",
       "      <td>0.269231</td>\n",
       "      <td>0.250000</td>\n",
       "      <td>0.400000</td>\n",
       "      <td>0.125000</td>\n",
       "      <td>0.191781</td>\n",
       "      <td>...</td>\n",
       "      <td>1.00000</td>\n",
       "      <td>0.000000</td>\n",
       "      <td>0.000000</td>\n",
       "      <td>0.000000</td>\n",
       "      <td>0.000000</td>\n",
       "      <td>0.000000</td>\n",
       "      <td>0.000000</td>\n",
       "      <td>0.000000</td>\n",
       "      <td>0.000000</td>\n",
       "      <td>1.000000</td>\n",
       "    </tr>\n",
       "    <tr>\n",
       "      <th>75%</th>\n",
       "      <td>0.500000</td>\n",
       "      <td>0.250000</td>\n",
       "      <td>0.423077</td>\n",
       "      <td>0.275862</td>\n",
       "      <td>0.290909</td>\n",
       "      <td>0.346154</td>\n",
       "      <td>1.000000</td>\n",
       "      <td>0.800000</td>\n",
       "      <td>0.250000</td>\n",
       "      <td>0.342466</td>\n",
       "      <td>...</td>\n",
       "      <td>1.00000</td>\n",
       "      <td>0.000000</td>\n",
       "      <td>0.000000</td>\n",
       "      <td>0.000000</td>\n",
       "      <td>1.000000</td>\n",
       "      <td>0.000000</td>\n",
       "      <td>0.000000</td>\n",
       "      <td>0.000000</td>\n",
       "      <td>0.000000</td>\n",
       "      <td>1.000000</td>\n",
       "    </tr>\n",
       "    <tr>\n",
       "      <th>max</th>\n",
       "      <td>1.000000</td>\n",
       "      <td>1.000000</td>\n",
       "      <td>1.000000</td>\n",
       "      <td>1.000000</td>\n",
       "      <td>1.000000</td>\n",
       "      <td>1.000000</td>\n",
       "      <td>1.000000</td>\n",
       "      <td>1.000000</td>\n",
       "      <td>1.000000</td>\n",
       "      <td>1.000000</td>\n",
       "      <td>...</td>\n",
       "      <td>1.00000</td>\n",
       "      <td>1.000000</td>\n",
       "      <td>1.000000</td>\n",
       "      <td>1.000000</td>\n",
       "      <td>1.000000</td>\n",
       "      <td>1.000000</td>\n",
       "      <td>1.000000</td>\n",
       "      <td>1.000000</td>\n",
       "      <td>1.000000</td>\n",
       "      <td>1.000000</td>\n",
       "    </tr>\n",
       "  </tbody>\n",
       "</table>\n",
       "<p>8 rows × 75 columns</p>\n",
       "</div>"
      ],
      "text/plain": [
       "          children       pers_h          age        tmadd       tmjob1  \\\n",
       "count  2400.000000  2400.000000  2400.000000  2400.000000  2400.000000   \n",
       "mean      0.207083     0.171823     0.308197     0.175673     0.218951   \n",
       "std       0.260026     0.172719     0.210728     0.204073     0.244165   \n",
       "min       0.000000     0.000000     0.000000     0.000000     0.000000   \n",
       "25%       0.000000     0.000000     0.134615     0.034483     0.054545   \n",
       "50%       0.000000     0.125000     0.250000     0.098522     0.118182   \n",
       "75%       0.500000     0.250000     0.423077     0.275862     0.290909   \n",
       "max       1.000000     1.000000     1.000000     1.000000     1.000000   \n",
       "\n",
       "            income          inc         inc1        loans         cash  ...  \\\n",
       "count  2400.000000  2400.000000  2400.000000  2400.000000  2400.000000  ...   \n",
       "mean      0.249359     0.413958     0.476000     0.128750     0.269452  ...   \n",
       "std       0.175958     0.393707     0.242312     0.141263     0.219592  ...   \n",
       "min       0.000000     0.000000     0.000000     0.000000     0.000000  ...   \n",
       "25%       0.128205     0.250000     0.400000     0.000000     0.123288  ...   \n",
       "50%       0.269231     0.250000     0.400000     0.125000     0.191781  ...   \n",
       "75%       0.346154     1.000000     0.800000     0.250000     0.342466  ...   \n",
       "max       1.000000     1.000000     1.000000     1.000000     1.000000  ...   \n",
       "\n",
       "              Car Car and Motor bi Without Vehicle American Express  \\\n",
       "count  2400.00000      2400.000000     2400.000000      2400.000000   \n",
       "mean      0.77000         0.005417        0.224583         0.000833   \n",
       "std       0.42092         0.073414        0.417395         0.028861   \n",
       "min       0.00000         0.000000        0.000000         0.000000   \n",
       "25%       1.00000         0.000000        0.000000         0.000000   \n",
       "50%       1.00000         0.000000        0.000000         0.000000   \n",
       "75%       1.00000         0.000000        0.000000         0.000000   \n",
       "max       1.00000         1.000000        1.000000         1.000000   \n",
       "\n",
       "       Cheque card Mastercard/Euroc Other credit car  VISA Others  \\\n",
       "count  2400.000000      2400.000000      2400.000000  2400.000000   \n",
       "mean      0.257083         0.022917         0.002500     0.000833   \n",
       "std       0.437117         0.149669         0.049948     0.028861   \n",
       "min       0.000000         0.000000         0.000000     0.000000   \n",
       "25%       0.000000         0.000000         0.000000     0.000000   \n",
       "50%       0.000000         0.000000         0.000000     0.000000   \n",
       "75%       1.000000         0.000000         0.000000     0.000000   \n",
       "max       1.000000         1.000000         1.000000     1.000000   \n",
       "\n",
       "       VISA mybank no credit cards  \n",
       "count  2400.000000     2400.000000  \n",
       "mean      0.000833        0.715000  \n",
       "std       0.028861        0.451509  \n",
       "min       0.000000        0.000000  \n",
       "25%       0.000000        0.000000  \n",
       "50%       0.000000        1.000000  \n",
       "75%       0.000000        1.000000  \n",
       "max       1.000000        1.000000  \n",
       "\n",
       "[8 rows x 75 columns]"
      ]
     },
     "execution_count": 63,
     "metadata": {},
     "output_type": "execute_result"
    }
   ],
   "source": [
    "X_train.describe()"
   ]
  },
  {
   "cell_type": "markdown",
   "metadata": {},
   "source": [
    "Ahora tenemos el conjunto de datos `X_train` listo para ingresar al clasificador de regresión logística."
   ]
  },
  {
   "cell_type": "markdown",
   "metadata": {},
   "source": [
    "# 🌱 Modelo 1\n"
   ]
  },
  {
   "cell_type": "markdown",
   "metadata": {},
   "source": [
    "<p><img style=\"float:right; max-height:200px\" src=https://cdn-icons-png.flaticon.com/512/4262/4262595.png></p>\n",
    "\n",
    "<p style=\"text-align:justify;\">\n",
    "Ahora bien, una vez realizado todo el procesamiento de los datos, estamos listos para crear nuestro primer modelo. Este comprende una regresión logística binaria queprediga la probabilidad de ser moroso de un cliente que solicita un crédito. Este modelo estará ajustado con la tabla ACEPTADOS_TRAIN y se verá su capacidad de acierto en la tabla ACEPTADOS_TEST. \n",
    "</p>"
   ]
  },
  {
   "cell_type": "markdown",
   "metadata": {},
   "source": [
    "## 🚂 Entrenamiento del modelo "
   ]
  },
  {
   "cell_type": "code",
   "execution_count": 64,
   "metadata": {},
   "outputs": [],
   "source": [
    "y_train = y_train.astype(int)\n",
    "y_test = y_test.astype(int)"
   ]
  },
  {
   "cell_type": "code",
   "execution_count": 65,
   "metadata": {},
   "outputs": [
    {
     "data": {
      "text/html": [
       "<style>#sk-container-id-1 {color: black;}#sk-container-id-1 pre{padding: 0;}#sk-container-id-1 div.sk-toggleable {background-color: white;}#sk-container-id-1 label.sk-toggleable__label {cursor: pointer;display: block;width: 100%;margin-bottom: 0;padding: 0.3em;box-sizing: border-box;text-align: center;}#sk-container-id-1 label.sk-toggleable__label-arrow:before {content: \"▸\";float: left;margin-right: 0.25em;color: #696969;}#sk-container-id-1 label.sk-toggleable__label-arrow:hover:before {color: black;}#sk-container-id-1 div.sk-estimator:hover label.sk-toggleable__label-arrow:before {color: black;}#sk-container-id-1 div.sk-toggleable__content {max-height: 0;max-width: 0;overflow: hidden;text-align: left;background-color: #f0f8ff;}#sk-container-id-1 div.sk-toggleable__content pre {margin: 0.2em;color: black;border-radius: 0.25em;background-color: #f0f8ff;}#sk-container-id-1 input.sk-toggleable__control:checked~div.sk-toggleable__content {max-height: 200px;max-width: 100%;overflow: auto;}#sk-container-id-1 input.sk-toggleable__control:checked~label.sk-toggleable__label-arrow:before {content: \"▾\";}#sk-container-id-1 div.sk-estimator input.sk-toggleable__control:checked~label.sk-toggleable__label {background-color: #d4ebff;}#sk-container-id-1 div.sk-label input.sk-toggleable__control:checked~label.sk-toggleable__label {background-color: #d4ebff;}#sk-container-id-1 input.sk-hidden--visually {border: 0;clip: rect(1px 1px 1px 1px);clip: rect(1px, 1px, 1px, 1px);height: 1px;margin: -1px;overflow: hidden;padding: 0;position: absolute;width: 1px;}#sk-container-id-1 div.sk-estimator {font-family: monospace;background-color: #f0f8ff;border: 1px dotted black;border-radius: 0.25em;box-sizing: border-box;margin-bottom: 0.5em;}#sk-container-id-1 div.sk-estimator:hover {background-color: #d4ebff;}#sk-container-id-1 div.sk-parallel-item::after {content: \"\";width: 100%;border-bottom: 1px solid gray;flex-grow: 1;}#sk-container-id-1 div.sk-label:hover label.sk-toggleable__label {background-color: #d4ebff;}#sk-container-id-1 div.sk-serial::before {content: \"\";position: absolute;border-left: 1px solid gray;box-sizing: border-box;top: 0;bottom: 0;left: 50%;z-index: 0;}#sk-container-id-1 div.sk-serial {display: flex;flex-direction: column;align-items: center;background-color: white;padding-right: 0.2em;padding-left: 0.2em;position: relative;}#sk-container-id-1 div.sk-item {position: relative;z-index: 1;}#sk-container-id-1 div.sk-parallel {display: flex;align-items: stretch;justify-content: center;background-color: white;position: relative;}#sk-container-id-1 div.sk-item::before, #sk-container-id-1 div.sk-parallel-item::before {content: \"\";position: absolute;border-left: 1px solid gray;box-sizing: border-box;top: 0;bottom: 0;left: 50%;z-index: -1;}#sk-container-id-1 div.sk-parallel-item {display: flex;flex-direction: column;z-index: 1;position: relative;background-color: white;}#sk-container-id-1 div.sk-parallel-item:first-child::after {align-self: flex-end;width: 50%;}#sk-container-id-1 div.sk-parallel-item:last-child::after {align-self: flex-start;width: 50%;}#sk-container-id-1 div.sk-parallel-item:only-child::after {width: 0;}#sk-container-id-1 div.sk-dashed-wrapped {border: 1px dashed gray;margin: 0 0.4em 0.5em 0.4em;box-sizing: border-box;padding-bottom: 0.4em;background-color: white;}#sk-container-id-1 div.sk-label label {font-family: monospace;font-weight: bold;display: inline-block;line-height: 1.2em;}#sk-container-id-1 div.sk-label-container {text-align: center;}#sk-container-id-1 div.sk-container {/* jupyter's `normalize.less` sets `[hidden] { display: none; }` but bootstrap.min.css set `[hidden] { display: none !important; }` so we also need the `!important` here to be able to override the default hidden behavior on the sphinx rendered scikit-learn.org. See: https://github.com/scikit-learn/scikit-learn/issues/21755 */display: inline-block !important;position: relative;}#sk-container-id-1 div.sk-text-repr-fallback {display: none;}</style><div id=\"sk-container-id-1\" class=\"sk-top-container\"><div class=\"sk-text-repr-fallback\"><pre>LogisticRegression(random_state=0, solver=&#x27;liblinear&#x27;)</pre><b>In a Jupyter environment, please rerun this cell to show the HTML representation or trust the notebook. <br />On GitHub, the HTML representation is unable to render, please try loading this page with nbviewer.org.</b></div><div class=\"sk-container\" hidden><div class=\"sk-item\"><div class=\"sk-estimator sk-toggleable\"><input class=\"sk-toggleable__control sk-hidden--visually\" id=\"sk-estimator-id-1\" type=\"checkbox\" checked><label for=\"sk-estimator-id-1\" class=\"sk-toggleable__label sk-toggleable__label-arrow\">LogisticRegression</label><div class=\"sk-toggleable__content\"><pre>LogisticRegression(random_state=0, solver=&#x27;liblinear&#x27;)</pre></div></div></div></div></div>"
      ],
      "text/plain": [
       "LogisticRegression(random_state=0, solver='liblinear')"
      ]
     },
     "execution_count": 65,
     "metadata": {},
     "output_type": "execute_result"
    }
   ],
   "source": [
    "# iInstanciamos el modelo\n",
    "logreg = LogisticRegression(solver='liblinear', random_state=0)\n",
    "\n",
    "# Ajustamos el modelo\n",
    "logreg.fit(X_train, y_train)\n"
   ]
  },
  {
   "cell_type": "markdown",
   "metadata": {},
   "source": [
    "## 🔮 Predicción de resultados "
   ]
  },
  {
   "cell_type": "code",
   "execution_count": 66,
   "metadata": {},
   "outputs": [
    {
     "data": {
      "text/plain": [
       "array([1, 1, 0, 0, 0, 0, 1, 1, 1, 0, 1, 0, 1, 0, 0, 1, 1, 1, 1, 0, 1, 0,\n",
       "       1, 0, 0, 0, 1, 0, 0, 0, 0, 1, 1, 0, 1, 1, 1, 0, 1, 1, 1, 1, 1, 0,\n",
       "       1, 0, 0, 1, 1, 1, 1, 1, 1, 1, 1, 0, 1, 1, 0, 0, 1, 1, 0, 1, 1, 1,\n",
       "       1, 0, 0, 1, 0, 0, 0, 0, 0, 0, 0, 1, 1, 1, 1, 0, 1, 0, 1, 0, 1, 1,\n",
       "       1, 0, 1, 1, 0, 1, 1, 0, 0, 1, 1, 1, 0, 1, 1, 1, 0, 0, 0, 0, 1, 1,\n",
       "       0, 1, 1, 0, 1, 0, 0, 0, 0, 1, 0, 1, 0, 1, 0, 1, 0, 1, 1, 0, 0, 0,\n",
       "       0, 1, 1, 0, 1, 0, 0, 0, 0, 1, 1, 0, 1, 0, 1, 0, 0, 0, 1, 1, 1, 1,\n",
       "       1, 1, 0, 0, 0, 1, 0, 0, 1, 1, 0, 1, 1, 0, 1, 1, 0, 0, 1, 0, 0, 0,\n",
       "       0, 0, 1, 0, 1, 1, 0, 0, 0, 1, 1, 1, 1, 1, 1, 0, 1, 1, 1, 1, 0, 1,\n",
       "       0, 1, 1, 1, 1, 0, 0, 1, 0, 0, 1, 0, 1, 0, 0, 0, 0, 1, 0, 0, 1, 1,\n",
       "       1, 1, 1, 0, 1, 1, 0, 0, 1, 0, 0, 0, 1, 0, 0, 1, 1, 1, 1, 1, 0, 1,\n",
       "       0, 0, 1, 1, 1, 1, 0, 1, 0, 1, 0, 1, 1, 1, 1, 0, 1, 0, 1, 1, 0, 1,\n",
       "       0, 0, 1, 0, 0, 1, 0, 1, 1, 1, 0, 0, 0, 1, 1, 1, 1, 1, 1, 0, 0, 0,\n",
       "       1, 0, 0, 1, 0, 0, 1, 0, 0, 1, 0, 0, 1, 1, 0, 0, 0, 0, 1, 1, 0, 0,\n",
       "       0, 0, 0, 0, 0, 1, 1, 1, 1, 0, 0, 0, 1, 0, 0, 1, 1, 1, 1, 1, 1, 1,\n",
       "       1, 1, 0, 0, 1, 1, 0, 0, 1, 1, 0, 0, 0, 1, 1, 1, 1, 1, 1, 1, 0, 0,\n",
       "       0, 0, 0, 0, 0, 0, 0, 0, 0, 0, 0, 0, 1, 1, 1, 0, 0, 1, 1, 1, 0, 1,\n",
       "       1, 1, 0, 1, 0, 0, 1, 1, 0, 1, 0, 1, 0, 1, 0, 1, 1, 0, 0, 0, 0, 1,\n",
       "       1, 0, 0, 0, 0, 0, 1, 1, 1, 0, 0, 0, 1, 0, 1, 1, 1, 0, 1, 1, 1, 1,\n",
       "       0, 1, 0, 1, 1, 1, 1, 0, 0, 1, 1, 1, 1, 1, 1, 1, 0, 0, 0, 1, 1, 0,\n",
       "       0, 1, 1, 1, 1, 1, 1, 0, 0, 0, 1, 1, 0, 1, 0, 0, 0, 1, 1, 0, 0, 1,\n",
       "       0, 0, 1, 0, 0, 0, 0, 0, 0, 1, 1, 1, 0, 0, 1, 0, 1, 1, 1, 1, 1, 0,\n",
       "       1, 1, 1, 0, 0, 1, 1, 1, 1, 0, 1, 1, 1, 0, 0, 1, 1, 1, 1, 0, 1, 0,\n",
       "       1, 0, 0, 0, 1, 0, 1, 1, 0, 1, 0, 1, 0, 0, 0, 0, 0, 1, 1, 1, 1, 0,\n",
       "       0, 1, 1, 1, 1, 0, 1, 0, 0, 1, 1, 0, 0, 1, 0, 1, 0, 0, 1, 0, 0, 0,\n",
       "       0, 0, 1, 0, 0, 1, 1, 1, 1, 0, 0, 0, 0, 0, 0, 0, 0, 0, 0, 1, 0, 0,\n",
       "       1, 0, 1, 0, 0, 0, 1, 1, 1, 0, 0, 1, 0, 0, 0, 1, 1, 0, 1, 1, 0, 0,\n",
       "       1, 0, 1, 1, 1, 1])"
      ]
     },
     "execution_count": 66,
     "metadata": {},
     "output_type": "execute_result"
    }
   ],
   "source": [
    "y_pred_test = logreg.predict(X_test)\n",
    "y_pred_test"
   ]
  },
  {
   "cell_type": "markdown",
   "metadata": {},
   "source": [
    "### Método predict-proba"
   ]
  },
  {
   "cell_type": "markdown",
   "metadata": {},
   "source": [
    "El método **predict_proba** proporciona las probabilidades de la variable objetivo (0 y 1) en este caso, en forma de matriz.\n",
    "\n",
    "`0 es para la probabilidad de que no pague` y `1 es para la probabilidad de que pague`."
   ]
  },
  {
   "cell_type": "code",
   "execution_count": 67,
   "metadata": {},
   "outputs": [
    {
     "data": {
      "text/plain": [
       "array([0.12506475, 0.27439058, 0.58742727, 0.68604073, 0.5916687 ,\n",
       "       0.57932581, 0.14050898, 0.29428719, 0.29559995, 0.78855148,\n",
       "       0.30752758, 0.65575226, 0.38013966, 0.71748826, 0.61724409,\n",
       "       0.44029393, 0.11584623, 0.24600877, 0.10110519, 0.61854594,\n",
       "       0.32937739, 0.71622888, 0.48658249, 0.56854487, 0.62701115,\n",
       "       0.80617854, 0.30890995, 0.50007248, 0.61381256, 0.54990288,\n",
       "       0.54062737, 0.19087683, 0.43509694, 0.77063415, 0.48912107,\n",
       "       0.47704511, 0.24803352, 0.86104828, 0.30013342, 0.38121067,\n",
       "       0.21552305, 0.38798216, 0.47677472, 0.78969222, 0.21995611,\n",
       "       0.71854993, 0.54404571, 0.36477846, 0.2966189 , 0.15627572,\n",
       "       0.47687332, 0.4507476 , 0.40945136, 0.09110157, 0.31990737,\n",
       "       0.57616336, 0.42818865, 0.41880093, 0.69675911, 0.62327818,\n",
       "       0.18418547, 0.44225421, 0.58037752, 0.38413369, 0.2293273 ,\n",
       "       0.48129929, 0.34367248, 0.65285639, 0.66528439, 0.38159466,\n",
       "       0.64050377, 0.67159115, 0.68144347, 0.69440388, 0.69826183,\n",
       "       0.54352083, 0.63982965, 0.46537226, 0.19910532, 0.48140681,\n",
       "       0.35874716, 0.78470042, 0.46262876, 0.52431778, 0.45682537,\n",
       "       0.96863418, 0.47098533, 0.48177147, 0.26240858, 0.85404593,\n",
       "       0.15135897, 0.27050289, 0.86995072, 0.22796849, 0.37776083,\n",
       "       0.95409858, 0.88613175, 0.33224914, 0.41059814, 0.29314865,\n",
       "       0.81954611, 0.25212351, 0.030803  , 0.4902179 , 0.75684641,\n",
       "       0.67359442, 0.70619996, 0.87475168, 0.16637451, 0.47431672,\n",
       "       0.58844268, 0.38785791, 0.40409506, 0.61976508, 0.27299467,\n",
       "       0.88130426, 0.87079869, 0.52646724, 0.81384973, 0.30766023,\n",
       "       0.80151364, 0.23595831, 0.88288937, 0.13537031, 0.58203592,\n",
       "       0.44401708, 0.85346277, 0.49555724, 0.26799426, 0.66020025,\n",
       "       0.56954911, 0.73438842, 0.62007645, 0.25109113, 0.43983139,\n",
       "       0.62712887, 0.35348221, 0.78853525, 0.90588191, 0.51724084,\n",
       "       0.86248941, 0.47389305, 0.30494661, 0.85288088, 0.40528026,\n",
       "       0.55583553, 0.3159661 , 0.83962179, 0.83087731, 0.76571905,\n",
       "       0.37728861, 0.12543884, 0.211547  , 0.33771841, 0.27376222,\n",
       "       0.38932619, 0.85983585, 0.72006433, 0.70411859, 0.28753736,\n",
       "       0.69835813, 0.62764546, 0.07459606, 0.26683066, 0.56788062,\n",
       "       0.27687924, 0.1839087 , 0.67874543, 0.27118259, 0.15895833,\n",
       "       0.67184424, 0.54308493, 0.33087335, 0.85884213, 0.80855062,\n",
       "       0.62535362, 0.56169974, 0.85025046, 0.09926953, 0.93540693,\n",
       "       0.45343347, 0.27486698, 0.75795044, 0.82300855, 0.56957542,\n",
       "       0.47325716, 0.48570172, 0.49649176, 0.4658099 , 0.09065625,\n",
       "       0.30590957, 0.51224938, 0.30960277, 0.2747697 , 0.42697902,\n",
       "       0.25089316, 0.6442568 , 0.09720346, 0.68356544, 0.21715642,\n",
       "       0.23897764, 0.49273327, 0.46186718, 0.55529391, 0.8446769 ,\n",
       "       0.33866662, 0.79763281, 0.74236756, 0.30776836, 0.7523738 ,\n",
       "       0.16972499, 0.65964146, 0.52076925, 0.84034971, 0.86867099,\n",
       "       0.08949321, 0.58064017, 0.60685708, 0.46244468, 0.45331976,\n",
       "       0.48414704, 0.48091606, 0.32029592, 0.8761723 , 0.28503927,\n",
       "       0.14135867, 0.87304495, 0.53926283, 0.4341272 , 0.69288606,\n",
       "       0.87737762, 0.92226254, 0.27639867, 0.76084846, 0.71930047,\n",
       "       0.38279884, 0.27529298, 0.42404295, 0.42493569, 0.488616  ,\n",
       "       0.63615761, 0.24885216, 0.73553331, 0.7093488 , 0.2558055 ,\n",
       "       0.42756958, 0.21295748, 0.4504037 , 0.76882949, 0.40341964,\n",
       "       0.73812319, 0.41290544, 0.86838793, 0.19905105, 0.33472984,\n",
       "       0.37594709, 0.43595478, 0.61082652, 0.440078  , 0.6584182 ,\n",
       "       0.42874333, 0.47678601, 0.62666674, 0.15403089, 0.75229284,\n",
       "       0.80762975, 0.41380878, 0.52501215, 0.78876178, 0.44389825,\n",
       "       0.76607409, 0.3693214 , 0.2073717 , 0.29838371, 0.71938441,\n",
       "       0.51678957, 0.64923591, 0.16361606, 0.07486889, 0.34791089,\n",
       "       0.18396085, 0.37066454, 0.2801353 , 0.78427229, 0.54994838,\n",
       "       0.82330448, 0.27787968, 0.87686963, 0.6758674 , 0.27933719,\n",
       "       0.82288348, 0.67461487, 0.13539812, 0.8239878 , 0.69027589,\n",
       "       0.46250494, 0.55599392, 0.63510816, 0.37790608, 0.30119244,\n",
       "       0.83237489, 0.87410117, 0.82359717, 0.92180466, 0.23108553,\n",
       "       0.42941698, 0.566069  , 0.64912461, 0.92175567, 0.92712892,\n",
       "       0.8682009 , 0.56834173, 0.92308768, 0.34087779, 0.14953039,\n",
       "       0.36047652, 0.31176468, 0.72007242, 0.64747555, 0.70478053,\n",
       "       0.40165747, 0.5884635 , 0.85829023, 0.13388237, 0.32378652,\n",
       "       0.33485026, 0.45027228, 0.30384212, 0.4131267 , 0.26556321,\n",
       "       0.1081752 , 0.28800504, 0.60090814, 0.54252744, 0.22281628,\n",
       "       0.18638962, 0.68984226, 0.6720815 , 0.3854586 , 0.36798361,\n",
       "       0.57265966, 0.66987574, 0.53749327, 0.26717027, 0.32727145,\n",
       "       0.40223755, 0.46399572, 0.33707989, 0.13599806, 0.36575623,\n",
       "       0.78540978, 0.52415313, 0.64579042, 0.56198068, 0.60754065,\n",
       "       0.53611721, 0.67845011, 0.62365516, 0.81304278, 0.5445584 ,\n",
       "       0.7327199 , 0.60394366, 0.71172418, 0.74345054, 0.24729768,\n",
       "       0.47737676, 0.31767816, 0.70791659, 0.66068716, 0.18238567,\n",
       "       0.1540157 , 0.28121439, 0.90769471, 0.07297772, 0.1695559 ,\n",
       "       0.26253121, 0.77524499, 0.49701508, 0.56658641, 0.57418592,\n",
       "       0.23438097, 0.37326761, 0.73858944, 0.48254576, 0.62460048,\n",
       "       0.26517165, 0.68970012, 0.211826  , 0.72374865, 0.25436862,\n",
       "       0.26489422, 0.66724246, 0.57601837, 0.62629393, 0.89473196,\n",
       "       0.20966886, 0.21100531, 0.51446489, 0.86095931, 0.59792469,\n",
       "       0.71304058, 0.74756002, 0.45376213, 0.35071469, 0.3602302 ,\n",
       "       0.61056271, 0.58798449, 0.63397455, 0.22833243, 0.51133785,\n",
       "       0.29016743, 0.34369095, 0.33066492, 0.87341473, 0.31778162,\n",
       "       0.32620931, 0.44609916, 0.14806095, 0.61341561, 0.4433121 ,\n",
       "       0.90120095, 0.3068155 , 0.23810262, 0.45042569, 0.49770409,\n",
       "       0.58098095, 0.69071284, 0.46126851, 0.21083993, 0.19716005,\n",
       "       0.24964536, 0.19115714, 0.22694109, 0.49362735, 0.51178797,\n",
       "       0.59931117, 0.57402823, 0.29829594, 0.15440272, 0.53066255,\n",
       "       0.84945588, 0.45735802, 0.13802705, 0.26357123, 0.47142493,\n",
       "       0.37833528, 0.10686145, 0.56679401, 0.90006069, 0.52979923,\n",
       "       0.33329827, 0.38705739, 0.60352759, 0.46093684, 0.82408891,\n",
       "       0.87675058, 0.85404931, 0.23001917, 0.21915093, 0.82382315,\n",
       "       0.53845926, 0.41164641, 0.87891085, 0.85001411, 0.39508003,\n",
       "       0.77667462, 0.64323166, 0.67685563, 0.59458367, 0.56418357,\n",
       "       0.74499462, 0.43619361, 0.37443809, 0.34406726, 0.66461187,\n",
       "       0.57467833, 0.3717127 , 0.76954909, 0.47377447, 0.23095051,\n",
       "       0.37519875, 0.38730252, 0.13624638, 0.89577239, 0.29830484,\n",
       "       0.30361801, 0.45164206, 0.78098338, 0.85817514, 0.40156686,\n",
       "       0.32727149, 0.37116311, 0.27254227, 0.5283708 , 0.47617492,\n",
       "       0.45463703, 0.16341759, 0.76456965, 0.77862319, 0.47883853,\n",
       "       0.18263396, 0.46167002, 0.45198434, 0.63319638, 0.24549574,\n",
       "       0.66775355, 0.30561677, 0.75241281, 0.77607045, 0.59057793,\n",
       "       0.13304754, 0.62957571, 0.35987948, 0.39746275, 0.72200432,\n",
       "       0.31875101, 0.51065959, 0.24371498, 0.64255022, 0.78172638,\n",
       "       0.61813976, 0.95808412, 0.81072082, 0.33066501, 0.40242803,\n",
       "       0.36782697, 0.4803033 , 0.58751069, 0.56904719, 0.12889591,\n",
       "       0.41490295, 0.42408762, 0.08871214, 0.85164448, 0.28277844,\n",
       "       0.88779633, 0.73414848, 0.21968871, 0.36792752, 0.82175941,\n",
       "       0.77421469, 0.22406847, 0.65419304, 0.27305778, 0.87012886,\n",
       "       0.61058448, 0.2168084 , 0.56631377, 0.88834969, 0.50108224,\n",
       "       0.74045889, 0.85137314, 0.4389629 , 0.93470657, 0.76269757,\n",
       "       0.15555631, 0.18636947, 0.17451512, 0.3771497 , 0.51627831,\n",
       "       0.80702014, 0.76375463, 0.52023174, 0.59725409, 0.64476553,\n",
       "       0.62761966, 0.77925109, 0.73338083, 0.867148  , 0.43430638,\n",
       "       0.80974497, 0.71506942, 0.03060415, 0.51992699, 0.20414869,\n",
       "       0.52683294, 0.69570696, 0.67875177, 0.41917576, 0.23927869,\n",
       "       0.44564576, 0.56601914, 0.79823347, 0.26577291, 0.60377095,\n",
       "       0.51062366, 0.68168325, 0.37618165, 0.35030789, 0.52340662,\n",
       "       0.1567446 , 0.20009631, 0.72596723, 0.70731968, 0.3298911 ,\n",
       "       0.69902136, 0.42768927, 0.25140067, 0.25266885, 0.33308182])"
      ]
     },
     "execution_count": 67,
     "metadata": {},
     "output_type": "execute_result"
    }
   ],
   "source": [
    "# Probabilidad de que la salida sea 0 - No paga\n",
    "logreg.predict_proba(X_test)[:,0]"
   ]
  },
  {
   "cell_type": "code",
   "execution_count": 68,
   "metadata": {},
   "outputs": [
    {
     "data": {
      "text/plain": [
       "array([0.87493525, 0.72560942, 0.41257273, 0.31395927, 0.4083313 ,\n",
       "       0.42067419, 0.85949102, 0.70571281, 0.70440005, 0.21144852,\n",
       "       0.69247242, 0.34424774, 0.61986034, 0.28251174, 0.38275591,\n",
       "       0.55970607, 0.88415377, 0.75399123, 0.89889481, 0.38145406,\n",
       "       0.67062261, 0.28377112, 0.51341751, 0.43145513, 0.37298885,\n",
       "       0.19382146, 0.69109005, 0.49992752, 0.38618744, 0.45009712,\n",
       "       0.45937263, 0.80912317, 0.56490306, 0.22936585, 0.51087893,\n",
       "       0.52295489, 0.75196648, 0.13895172, 0.69986658, 0.61878933,\n",
       "       0.78447695, 0.61201784, 0.52322528, 0.21030778, 0.78004389,\n",
       "       0.28145007, 0.45595429, 0.63522154, 0.7033811 , 0.84372428,\n",
       "       0.52312668, 0.5492524 , 0.59054864, 0.90889843, 0.68009263,\n",
       "       0.42383664, 0.57181135, 0.58119907, 0.30324089, 0.37672182,\n",
       "       0.81581453, 0.55774579, 0.41962248, 0.61586631, 0.7706727 ,\n",
       "       0.51870071, 0.65632752, 0.34714361, 0.33471561, 0.61840534,\n",
       "       0.35949623, 0.32840885, 0.31855653, 0.30559612, 0.30173817,\n",
       "       0.45647917, 0.36017035, 0.53462774, 0.80089468, 0.51859319,\n",
       "       0.64125284, 0.21529958, 0.53737124, 0.47568222, 0.54317463,\n",
       "       0.03136582, 0.52901467, 0.51822853, 0.73759142, 0.14595407,\n",
       "       0.84864103, 0.72949711, 0.13004928, 0.77203151, 0.62223917,\n",
       "       0.04590142, 0.11386825, 0.66775086, 0.58940186, 0.70685135,\n",
       "       0.18045389, 0.74787649, 0.969197  , 0.5097821 , 0.24315359,\n",
       "       0.32640558, 0.29380004, 0.12524832, 0.83362549, 0.52568328,\n",
       "       0.41155732, 0.61214209, 0.59590494, 0.38023492, 0.72700533,\n",
       "       0.11869574, 0.12920131, 0.47353276, 0.18615027, 0.69233977,\n",
       "       0.19848636, 0.76404169, 0.11711063, 0.86462969, 0.41796408,\n",
       "       0.55598292, 0.14653723, 0.50444276, 0.73200574, 0.33979975,\n",
       "       0.43045089, 0.26561158, 0.37992355, 0.74890887, 0.56016861,\n",
       "       0.37287113, 0.64651779, 0.21146475, 0.09411809, 0.48275916,\n",
       "       0.13751059, 0.52610695, 0.69505339, 0.14711912, 0.59471974,\n",
       "       0.44416447, 0.6840339 , 0.16037821, 0.16912269, 0.23428095,\n",
       "       0.62271139, 0.87456116, 0.788453  , 0.66228159, 0.72623778,\n",
       "       0.61067381, 0.14016415, 0.27993567, 0.29588141, 0.71246264,\n",
       "       0.30164187, 0.37235454, 0.92540394, 0.73316934, 0.43211938,\n",
       "       0.72312076, 0.8160913 , 0.32125457, 0.72881741, 0.84104167,\n",
       "       0.32815576, 0.45691507, 0.66912665, 0.14115787, 0.19144938,\n",
       "       0.37464638, 0.43830026, 0.14974954, 0.90073047, 0.06459307,\n",
       "       0.54656653, 0.72513302, 0.24204956, 0.17699145, 0.43042458,\n",
       "       0.52674284, 0.51429828, 0.50350824, 0.5341901 , 0.90934375,\n",
       "       0.69409043, 0.48775062, 0.69039723, 0.7252303 , 0.57302098,\n",
       "       0.74910684, 0.3557432 , 0.90279654, 0.31643456, 0.78284358,\n",
       "       0.76102236, 0.50726673, 0.53813282, 0.44470609, 0.1553231 ,\n",
       "       0.66133338, 0.20236719, 0.25763244, 0.69223164, 0.2476262 ,\n",
       "       0.83027501, 0.34035854, 0.47923075, 0.15965029, 0.13132901,\n",
       "       0.91050679, 0.41935983, 0.39314292, 0.53755532, 0.54668024,\n",
       "       0.51585296, 0.51908394, 0.67970408, 0.1238277 , 0.71496073,\n",
       "       0.85864133, 0.12695505, 0.46073717, 0.5658728 , 0.30711394,\n",
       "       0.12262238, 0.07773746, 0.72360133, 0.23915154, 0.28069953,\n",
       "       0.61720116, 0.72470702, 0.57595705, 0.57506431, 0.511384  ,\n",
       "       0.36384239, 0.75114784, 0.26446669, 0.2906512 , 0.7441945 ,\n",
       "       0.57243042, 0.78704252, 0.5495963 , 0.23117051, 0.59658036,\n",
       "       0.26187681, 0.58709456, 0.13161207, 0.80094895, 0.66527016,\n",
       "       0.62405291, 0.56404522, 0.38917348, 0.559922  , 0.3415818 ,\n",
       "       0.57125667, 0.52321399, 0.37333326, 0.84596911, 0.24770716,\n",
       "       0.19237025, 0.58619122, 0.47498785, 0.21123822, 0.55610175,\n",
       "       0.23392591, 0.6306786 , 0.7926283 , 0.70161629, 0.28061559,\n",
       "       0.48321043, 0.35076409, 0.83638394, 0.92513111, 0.65208911,\n",
       "       0.81603915, 0.62933546, 0.7198647 , 0.21572771, 0.45005162,\n",
       "       0.17669552, 0.72212032, 0.12313037, 0.3241326 , 0.72066281,\n",
       "       0.17711652, 0.32538513, 0.86460188, 0.1760122 , 0.30972411,\n",
       "       0.53749506, 0.44400608, 0.36489184, 0.62209392, 0.69880756,\n",
       "       0.16762511, 0.12589883, 0.17640283, 0.07819534, 0.76891447,\n",
       "       0.57058302, 0.433931  , 0.35087539, 0.07824433, 0.07287108,\n",
       "       0.1317991 , 0.43165827, 0.07691232, 0.65912221, 0.85046961,\n",
       "       0.63952348, 0.68823532, 0.27992758, 0.35252445, 0.29521947,\n",
       "       0.59834253, 0.4115365 , 0.14170977, 0.86611763, 0.67621348,\n",
       "       0.66514974, 0.54972772, 0.69615788, 0.5868733 , 0.73443679,\n",
       "       0.8918248 , 0.71199496, 0.39909186, 0.45747256, 0.77718372,\n",
       "       0.81361038, 0.31015774, 0.3279185 , 0.6145414 , 0.63201639,\n",
       "       0.42734034, 0.33012426, 0.46250673, 0.73282973, 0.67272855,\n",
       "       0.59776245, 0.53600428, 0.66292011, 0.86400194, 0.63424377,\n",
       "       0.21459022, 0.47584687, 0.35420958, 0.43801932, 0.39245935,\n",
       "       0.46388279, 0.32154989, 0.37634484, 0.18695722, 0.4554416 ,\n",
       "       0.2672801 , 0.39605634, 0.28827582, 0.25654946, 0.75270232,\n",
       "       0.52262324, 0.68232184, 0.29208341, 0.33931284, 0.81761433,\n",
       "       0.8459843 , 0.71878561, 0.09230529, 0.92702228, 0.8304441 ,\n",
       "       0.73746879, 0.22475501, 0.50298492, 0.43341359, 0.42581408,\n",
       "       0.76561903, 0.62673239, 0.26141056, 0.51745424, 0.37539952,\n",
       "       0.73482835, 0.31029988, 0.788174  , 0.27625135, 0.74563138,\n",
       "       0.73510578, 0.33275754, 0.42398163, 0.37370607, 0.10526804,\n",
       "       0.79033114, 0.78899469, 0.48553511, 0.13904069, 0.40207531,\n",
       "       0.28695942, 0.25243998, 0.54623787, 0.64928531, 0.6397698 ,\n",
       "       0.38943729, 0.41201551, 0.36602545, 0.77166757, 0.48866215,\n",
       "       0.70983257, 0.65630905, 0.66933508, 0.12658527, 0.68221838,\n",
       "       0.67379069, 0.55390084, 0.85193905, 0.38658439, 0.5566879 ,\n",
       "       0.09879905, 0.6931845 , 0.76189738, 0.54957431, 0.50229591,\n",
       "       0.41901905, 0.30928716, 0.53873149, 0.78916007, 0.80283995,\n",
       "       0.75035464, 0.80884286, 0.77305891, 0.50637265, 0.48821203,\n",
       "       0.40068883, 0.42597177, 0.70170406, 0.84559728, 0.46933745,\n",
       "       0.15054412, 0.54264198, 0.86197295, 0.73642877, 0.52857507,\n",
       "       0.62166472, 0.89313855, 0.43320599, 0.09993931, 0.47020077,\n",
       "       0.66670173, 0.61294261, 0.39647241, 0.53906316, 0.17591109,\n",
       "       0.12324942, 0.14595069, 0.76998083, 0.78084907, 0.17617685,\n",
       "       0.46154074, 0.58835359, 0.12108915, 0.14998589, 0.60491997,\n",
       "       0.22332538, 0.35676834, 0.32314437, 0.40541633, 0.43581643,\n",
       "       0.25500538, 0.56380639, 0.62556191, 0.65593274, 0.33538813,\n",
       "       0.42532167, 0.6282873 , 0.23045091, 0.52622553, 0.76904949,\n",
       "       0.62480125, 0.61269748, 0.86375362, 0.10422761, 0.70169516,\n",
       "       0.69638199, 0.54835794, 0.21901662, 0.14182486, 0.59843314,\n",
       "       0.67272851, 0.62883689, 0.72745773, 0.4716292 , 0.52382508,\n",
       "       0.54536297, 0.83658241, 0.23543035, 0.22137681, 0.52116147,\n",
       "       0.81736604, 0.53832998, 0.54801566, 0.36680362, 0.75450426,\n",
       "       0.33224645, 0.69438323, 0.24758719, 0.22392955, 0.40942207,\n",
       "       0.86695246, 0.37042429, 0.64012052, 0.60253725, 0.27799568,\n",
       "       0.68124899, 0.48934041, 0.75628502, 0.35744978, 0.21827362,\n",
       "       0.38186024, 0.04191588, 0.18927918, 0.66933499, 0.59757197,\n",
       "       0.63217303, 0.5196967 , 0.41248931, 0.43095281, 0.87110409,\n",
       "       0.58509705, 0.57591238, 0.91128786, 0.14835552, 0.71722156,\n",
       "       0.11220367, 0.26585152, 0.78031129, 0.63207248, 0.17824059,\n",
       "       0.22578531, 0.77593153, 0.34580696, 0.72694222, 0.12987114,\n",
       "       0.38941552, 0.7831916 , 0.43368623, 0.11165031, 0.49891776,\n",
       "       0.25954111, 0.14862686, 0.5610371 , 0.06529343, 0.23730243,\n",
       "       0.84444369, 0.81363053, 0.82548488, 0.6228503 , 0.48372169,\n",
       "       0.19297986, 0.23624537, 0.47976826, 0.40274591, 0.35523447,\n",
       "       0.37238034, 0.22074891, 0.26661917, 0.132852  , 0.56569362,\n",
       "       0.19025503, 0.28493058, 0.96939585, 0.48007301, 0.79585131,\n",
       "       0.47316706, 0.30429304, 0.32124823, 0.58082424, 0.76072131,\n",
       "       0.55435424, 0.43398086, 0.20176653, 0.73422709, 0.39622905,\n",
       "       0.48937634, 0.31831675, 0.62381835, 0.64969211, 0.47659338,\n",
       "       0.8432554 , 0.79990369, 0.27403277, 0.29268032, 0.6701089 ,\n",
       "       0.30097864, 0.57231073, 0.74859933, 0.74733115, 0.66691818])"
      ]
     },
     "execution_count": 68,
     "metadata": {},
     "output_type": "execute_result"
    }
   ],
   "source": [
    "# Probabiliad de que la salida sea 1 - Paga\n",
    "logreg.predict_proba(X_test)[:,1]"
   ]
  },
  {
   "cell_type": "markdown",
   "metadata": {},
   "source": [
    "## 🎯 Precisión del modelo"
   ]
  },
  {
   "cell_type": "code",
   "execution_count": 69,
   "metadata": {},
   "outputs": [
    {
     "name": "stdout",
     "output_type": "stream",
     "text": [
      "Puntaje de precisión del modelo: 0.6717\n"
     ]
    }
   ],
   "source": [
    "print('Puntaje de precisión del modelo: {0:0.4f}'. format(accuracy_score(y_test, y_pred_test)))"
   ]
  },
  {
   "cell_type": "markdown",
   "metadata": {},
   "source": [
    "Aquí, **y_test** son las etiquetas de clase verdaderas y **y_pred_test** son las etiquetas de clase previstas en el conjunto de pruebas."
   ]
  },
  {
   "cell_type": "markdown",
   "metadata": {},
   "source": [
    "### Comparación de la precisión de train y test"
   ]
  },
  {
   "cell_type": "code",
   "execution_count": 70,
   "metadata": {},
   "outputs": [
    {
     "data": {
      "text/plain": [
       "array([1, 1, 1, ..., 1, 1, 1])"
      ]
     },
     "execution_count": 70,
     "metadata": {},
     "output_type": "execute_result"
    }
   ],
   "source": [
    "y_pred_train = logreg.predict(X_train)\n",
    "y_pred_train"
   ]
  },
  {
   "cell_type": "code",
   "execution_count": 71,
   "metadata": {},
   "outputs": [
    {
     "name": "stdout",
     "output_type": "stream",
     "text": [
      "Precisión del modelo con el set de entrenamiento: 0.6933\n"
     ]
    }
   ],
   "source": [
    "print('Precisión del modelo con el set de entrenamiento: {0:0.4f}'. format(accuracy_score(y_train, y_pred_train)))"
   ]
  },
  {
   "cell_type": "markdown",
   "metadata": {},
   "source": [
    "### Revisar overfitting y underfitting"
   ]
  },
  {
   "cell_type": "code",
   "execution_count": 72,
   "metadata": {},
   "outputs": [
    {
     "name": "stdout",
     "output_type": "stream",
     "text": [
      "Puntaje set de train: 0.6933\n",
      "Puntaje set de test: 0.6717\n"
     ]
    }
   ],
   "source": [
    "# print the scores on training and test set\n",
    "\n",
    "print('Puntaje set de train: {:.4f}'.format(logreg.score(X_train, y_train)))\n",
    "print('Puntaje set de test: {:.4f}'.format(logreg.score(X_test, y_test)))"
   ]
  },
  {
   "cell_type": "markdown",
   "metadata": {},
   "source": [
    "La puntuación de precisión del conjunto de entrenamiento es 0.6933, mientras que la precisión del conjunto de prueba es 0.6717. Estos dos valores son bastante comparables. Por tanto, no se trata de un sobreajuste."
   ]
  },
  {
   "cell_type": "markdown",
   "metadata": {},
   "source": [
    "En regresión logística, utilizamos el valor predeterminado de C = 1. Proporciona un buen rendimiento con aproximadamente un 70 % de precisión tanto en el conjunto de entrenamiento como en el de prueba. Pero el rendimiento del modelo tanto en el conjunto de entrenamiento como en el de prueba es muy comparable. Probablemente se trate de un caso de underfitting.\n",
    "\n",
    "Aumentaré C y me adaptaré a un modelo más flexible."
   ]
  },
  {
   "cell_type": "code",
   "execution_count": 73,
   "metadata": {},
   "outputs": [
    {
     "data": {
      "text/html": [
       "<style>#sk-container-id-2 {color: black;}#sk-container-id-2 pre{padding: 0;}#sk-container-id-2 div.sk-toggleable {background-color: white;}#sk-container-id-2 label.sk-toggleable__label {cursor: pointer;display: block;width: 100%;margin-bottom: 0;padding: 0.3em;box-sizing: border-box;text-align: center;}#sk-container-id-2 label.sk-toggleable__label-arrow:before {content: \"▸\";float: left;margin-right: 0.25em;color: #696969;}#sk-container-id-2 label.sk-toggleable__label-arrow:hover:before {color: black;}#sk-container-id-2 div.sk-estimator:hover label.sk-toggleable__label-arrow:before {color: black;}#sk-container-id-2 div.sk-toggleable__content {max-height: 0;max-width: 0;overflow: hidden;text-align: left;background-color: #f0f8ff;}#sk-container-id-2 div.sk-toggleable__content pre {margin: 0.2em;color: black;border-radius: 0.25em;background-color: #f0f8ff;}#sk-container-id-2 input.sk-toggleable__control:checked~div.sk-toggleable__content {max-height: 200px;max-width: 100%;overflow: auto;}#sk-container-id-2 input.sk-toggleable__control:checked~label.sk-toggleable__label-arrow:before {content: \"▾\";}#sk-container-id-2 div.sk-estimator input.sk-toggleable__control:checked~label.sk-toggleable__label {background-color: #d4ebff;}#sk-container-id-2 div.sk-label input.sk-toggleable__control:checked~label.sk-toggleable__label {background-color: #d4ebff;}#sk-container-id-2 input.sk-hidden--visually {border: 0;clip: rect(1px 1px 1px 1px);clip: rect(1px, 1px, 1px, 1px);height: 1px;margin: -1px;overflow: hidden;padding: 0;position: absolute;width: 1px;}#sk-container-id-2 div.sk-estimator {font-family: monospace;background-color: #f0f8ff;border: 1px dotted black;border-radius: 0.25em;box-sizing: border-box;margin-bottom: 0.5em;}#sk-container-id-2 div.sk-estimator:hover {background-color: #d4ebff;}#sk-container-id-2 div.sk-parallel-item::after {content: \"\";width: 100%;border-bottom: 1px solid gray;flex-grow: 1;}#sk-container-id-2 div.sk-label:hover label.sk-toggleable__label {background-color: #d4ebff;}#sk-container-id-2 div.sk-serial::before {content: \"\";position: absolute;border-left: 1px solid gray;box-sizing: border-box;top: 0;bottom: 0;left: 50%;z-index: 0;}#sk-container-id-2 div.sk-serial {display: flex;flex-direction: column;align-items: center;background-color: white;padding-right: 0.2em;padding-left: 0.2em;position: relative;}#sk-container-id-2 div.sk-item {position: relative;z-index: 1;}#sk-container-id-2 div.sk-parallel {display: flex;align-items: stretch;justify-content: center;background-color: white;position: relative;}#sk-container-id-2 div.sk-item::before, #sk-container-id-2 div.sk-parallel-item::before {content: \"\";position: absolute;border-left: 1px solid gray;box-sizing: border-box;top: 0;bottom: 0;left: 50%;z-index: -1;}#sk-container-id-2 div.sk-parallel-item {display: flex;flex-direction: column;z-index: 1;position: relative;background-color: white;}#sk-container-id-2 div.sk-parallel-item:first-child::after {align-self: flex-end;width: 50%;}#sk-container-id-2 div.sk-parallel-item:last-child::after {align-self: flex-start;width: 50%;}#sk-container-id-2 div.sk-parallel-item:only-child::after {width: 0;}#sk-container-id-2 div.sk-dashed-wrapped {border: 1px dashed gray;margin: 0 0.4em 0.5em 0.4em;box-sizing: border-box;padding-bottom: 0.4em;background-color: white;}#sk-container-id-2 div.sk-label label {font-family: monospace;font-weight: bold;display: inline-block;line-height: 1.2em;}#sk-container-id-2 div.sk-label-container {text-align: center;}#sk-container-id-2 div.sk-container {/* jupyter's `normalize.less` sets `[hidden] { display: none; }` but bootstrap.min.css set `[hidden] { display: none !important; }` so we also need the `!important` here to be able to override the default hidden behavior on the sphinx rendered scikit-learn.org. See: https://github.com/scikit-learn/scikit-learn/issues/21755 */display: inline-block !important;position: relative;}#sk-container-id-2 div.sk-text-repr-fallback {display: none;}</style><div id=\"sk-container-id-2\" class=\"sk-top-container\"><div class=\"sk-text-repr-fallback\"><pre>LogisticRegression(C=100, random_state=0, solver=&#x27;liblinear&#x27;)</pre><b>In a Jupyter environment, please rerun this cell to show the HTML representation or trust the notebook. <br />On GitHub, the HTML representation is unable to render, please try loading this page with nbviewer.org.</b></div><div class=\"sk-container\" hidden><div class=\"sk-item\"><div class=\"sk-estimator sk-toggleable\"><input class=\"sk-toggleable__control sk-hidden--visually\" id=\"sk-estimator-id-2\" type=\"checkbox\" checked><label for=\"sk-estimator-id-2\" class=\"sk-toggleable__label sk-toggleable__label-arrow\">LogisticRegression</label><div class=\"sk-toggleable__content\"><pre>LogisticRegression(C=100, random_state=0, solver=&#x27;liblinear&#x27;)</pre></div></div></div></div></div>"
      ],
      "text/plain": [
       "LogisticRegression(C=100, random_state=0, solver='liblinear')"
      ]
     },
     "execution_count": 73,
     "metadata": {},
     "output_type": "execute_result"
    }
   ],
   "source": [
    "logreg100 = LogisticRegression(C=100, solver='liblinear', random_state=0)\n",
    "logreg100.fit(X_train, y_train)"
   ]
  },
  {
   "cell_type": "code",
   "execution_count": 74,
   "metadata": {},
   "outputs": [
    {
     "name": "stdout",
     "output_type": "stream",
     "text": [
      "Training set score: 0.6963\n",
      "Test set score: 0.6717\n"
     ]
    }
   ],
   "source": [
    "print('Training set score: {:.4f}'.format(logreg100.score(X_train, y_train)))\n",
    "print('Test set score: {:.4f}'.format(logreg100.score(X_test, y_test)))"
   ]
  },
  {
   "cell_type": "markdown",
   "metadata": {},
   "source": [
    "Podemos ver que C =100 resulta en un modelo con una precisión mayor.\n",
    "\n",
    "En regresión logística, el parámetro C es el inverso de la fuerza de regularización. Los valores más pequeños de C especifican una regularización más fuerte, lo que puede ayudar a prevenir el sobreajuste al penalizar los valores de coeficientes grandes. Por el contrario, valores más altos de C dan como resultado una regularización más débil, lo que permite que el modelo se ajuste más estrechamente a los datos de entrenamiento, lo que podría provocar un sobreajuste."
   ]
  },
  {
   "cell_type": "markdown",
   "metadata": {},
   "source": [
    "Por esto, podríamos pensar que un C menor podría tener una precisión mejor. Probemos:"
   ]
  },
  {
   "cell_type": "code",
   "execution_count": 75,
   "metadata": {},
   "outputs": [
    {
     "data": {
      "text/html": [
       "<style>#sk-container-id-3 {color: black;}#sk-container-id-3 pre{padding: 0;}#sk-container-id-3 div.sk-toggleable {background-color: white;}#sk-container-id-3 label.sk-toggleable__label {cursor: pointer;display: block;width: 100%;margin-bottom: 0;padding: 0.3em;box-sizing: border-box;text-align: center;}#sk-container-id-3 label.sk-toggleable__label-arrow:before {content: \"▸\";float: left;margin-right: 0.25em;color: #696969;}#sk-container-id-3 label.sk-toggleable__label-arrow:hover:before {color: black;}#sk-container-id-3 div.sk-estimator:hover label.sk-toggleable__label-arrow:before {color: black;}#sk-container-id-3 div.sk-toggleable__content {max-height: 0;max-width: 0;overflow: hidden;text-align: left;background-color: #f0f8ff;}#sk-container-id-3 div.sk-toggleable__content pre {margin: 0.2em;color: black;border-radius: 0.25em;background-color: #f0f8ff;}#sk-container-id-3 input.sk-toggleable__control:checked~div.sk-toggleable__content {max-height: 200px;max-width: 100%;overflow: auto;}#sk-container-id-3 input.sk-toggleable__control:checked~label.sk-toggleable__label-arrow:before {content: \"▾\";}#sk-container-id-3 div.sk-estimator input.sk-toggleable__control:checked~label.sk-toggleable__label {background-color: #d4ebff;}#sk-container-id-3 div.sk-label input.sk-toggleable__control:checked~label.sk-toggleable__label {background-color: #d4ebff;}#sk-container-id-3 input.sk-hidden--visually {border: 0;clip: rect(1px 1px 1px 1px);clip: rect(1px, 1px, 1px, 1px);height: 1px;margin: -1px;overflow: hidden;padding: 0;position: absolute;width: 1px;}#sk-container-id-3 div.sk-estimator {font-family: monospace;background-color: #f0f8ff;border: 1px dotted black;border-radius: 0.25em;box-sizing: border-box;margin-bottom: 0.5em;}#sk-container-id-3 div.sk-estimator:hover {background-color: #d4ebff;}#sk-container-id-3 div.sk-parallel-item::after {content: \"\";width: 100%;border-bottom: 1px solid gray;flex-grow: 1;}#sk-container-id-3 div.sk-label:hover label.sk-toggleable__label {background-color: #d4ebff;}#sk-container-id-3 div.sk-serial::before {content: \"\";position: absolute;border-left: 1px solid gray;box-sizing: border-box;top: 0;bottom: 0;left: 50%;z-index: 0;}#sk-container-id-3 div.sk-serial {display: flex;flex-direction: column;align-items: center;background-color: white;padding-right: 0.2em;padding-left: 0.2em;position: relative;}#sk-container-id-3 div.sk-item {position: relative;z-index: 1;}#sk-container-id-3 div.sk-parallel {display: flex;align-items: stretch;justify-content: center;background-color: white;position: relative;}#sk-container-id-3 div.sk-item::before, #sk-container-id-3 div.sk-parallel-item::before {content: \"\";position: absolute;border-left: 1px solid gray;box-sizing: border-box;top: 0;bottom: 0;left: 50%;z-index: -1;}#sk-container-id-3 div.sk-parallel-item {display: flex;flex-direction: column;z-index: 1;position: relative;background-color: white;}#sk-container-id-3 div.sk-parallel-item:first-child::after {align-self: flex-end;width: 50%;}#sk-container-id-3 div.sk-parallel-item:last-child::after {align-self: flex-start;width: 50%;}#sk-container-id-3 div.sk-parallel-item:only-child::after {width: 0;}#sk-container-id-3 div.sk-dashed-wrapped {border: 1px dashed gray;margin: 0 0.4em 0.5em 0.4em;box-sizing: border-box;padding-bottom: 0.4em;background-color: white;}#sk-container-id-3 div.sk-label label {font-family: monospace;font-weight: bold;display: inline-block;line-height: 1.2em;}#sk-container-id-3 div.sk-label-container {text-align: center;}#sk-container-id-3 div.sk-container {/* jupyter's `normalize.less` sets `[hidden] { display: none; }` but bootstrap.min.css set `[hidden] { display: none !important; }` so we also need the `!important` here to be able to override the default hidden behavior on the sphinx rendered scikit-learn.org. See: https://github.com/scikit-learn/scikit-learn/issues/21755 */display: inline-block !important;position: relative;}#sk-container-id-3 div.sk-text-repr-fallback {display: none;}</style><div id=\"sk-container-id-3\" class=\"sk-top-container\"><div class=\"sk-text-repr-fallback\"><pre>LogisticRegression(C=0.01, random_state=0, solver=&#x27;liblinear&#x27;)</pre><b>In a Jupyter environment, please rerun this cell to show the HTML representation or trust the notebook. <br />On GitHub, the HTML representation is unable to render, please try loading this page with nbviewer.org.</b></div><div class=\"sk-container\" hidden><div class=\"sk-item\"><div class=\"sk-estimator sk-toggleable\"><input class=\"sk-toggleable__control sk-hidden--visually\" id=\"sk-estimator-id-3\" type=\"checkbox\" checked><label for=\"sk-estimator-id-3\" class=\"sk-toggleable__label sk-toggleable__label-arrow\">LogisticRegression</label><div class=\"sk-toggleable__content\"><pre>LogisticRegression(C=0.01, random_state=0, solver=&#x27;liblinear&#x27;)</pre></div></div></div></div></div>"
      ],
      "text/plain": [
       "LogisticRegression(C=0.01, random_state=0, solver='liblinear')"
      ]
     },
     "execution_count": 75,
     "metadata": {},
     "output_type": "execute_result"
    }
   ],
   "source": [
    "logreg001 = LogisticRegression(C=0.01, solver='liblinear', random_state=0)\n",
    "logreg001.fit(X_train, y_train)\n"
   ]
  },
  {
   "cell_type": "code",
   "execution_count": 76,
   "metadata": {},
   "outputs": [
    {
     "name": "stdout",
     "output_type": "stream",
     "text": [
      "Training set score: 0.6671\n",
      "Test set score: 0.6683\n"
     ]
    }
   ],
   "source": [
    "print('Training set score: {:.4f}'.format(logreg001.score(X_train, y_train)))\n",
    "print('Test set score: {:.4f}'.format(logreg001.score(X_test, y_test)))"
   ]
  },
  {
   "cell_type": "markdown",
   "metadata": {},
   "source": [
    "Si utilizamos un modelo más regularizado, utilizando un C=0.01, tanto la precisión del set de entrenamiento y el conjunto de validación disminuye con respecto a los parámetros por defecto."
   ]
  },
  {
   "cell_type": "markdown",
   "metadata": {},
   "source": [
    "### Comparación de la precisión del modelo con la precisión nula"
   ]
  },
  {
   "cell_type": "markdown",
   "metadata": {},
   "source": [
    "El modeo tiene una precisión de 0.6933. Pero, aún no podemos afirmar que el modelo es realmente bueno. Debemos comparar su precisión con la **precisión nula**. Esta es la precisión que podria obtenerse si siempre se predice con la clase más frecuente."
   ]
  },
  {
   "cell_type": "markdown",
   "metadata": {},
   "source": [
    "Primero, debemos revisar la distribucuion de clases en el test de pruebas"
   ]
  },
  {
   "cell_type": "code",
   "execution_count": 77,
   "metadata": {},
   "outputs": [
    {
     "data": {
      "text/plain": [
       "gb\n",
       "0    311\n",
       "1    289\n",
       "Name: count, dtype: int64"
      ]
     },
     "execution_count": 77,
     "metadata": {},
     "output_type": "execute_result"
    }
   ],
   "source": [
    "class_distribution_test= y_test.value_counts()\n",
    "class_distribution_test"
   ]
  },
  {
   "cell_type": "markdown",
   "metadata": {},
   "source": [
    "Podemos ver que el número de ocurrencias de la clase más frecuente es 311. Por lo tanto, podemos calcular la precisión nula dividiendo 311 entre el número totoa de ocurrencias"
   ]
  },
  {
   "cell_type": "code",
   "execution_count": 78,
   "metadata": {},
   "outputs": [
    {
     "name": "stdout",
     "output_type": "stream",
     "text": [
      "Puntaje de precisión nula: 0.5183\n"
     ]
    }
   ],
   "source": [
    "null_accuracy = np.max(class_distribution_test)/(class_distribution_test[0]+class_distribution_test[1])\n",
    "print ('Puntaje de precisión nula: {0:0.4f}'.format(null_accuracy))"
   ]
  },
  {
   "cell_type": "markdown",
   "metadata": {},
   "source": [
    "Podemos ver que la percisión de nuestro modelo es de 0.6933, y la precisión nula es de 0.5183. Por tanto, podemos concluir que nuestro modelo de Regresión Logística esta haciendo un buen trabajo de predicción de etiquetas.\n",
    "\n",
    "Ahora, basándose en el análisis anterior, podemos concluir que la precisión de nuestro modelo de clasificación es muy buena.\n",
    "No obstante, esto no nos da idea sobre la distribución de valores. Tampoco sabemos el tipo de errores que el clasificador puede estar cometiendo. Para esto, utilizaremos otra herramienta llamada `Matriz de confusión`"
   ]
  },
  {
   "cell_type": "markdown",
   "metadata": {},
   "source": [
    "## 🧩 Matriz de confusión "
   ]
  },
  {
   "cell_type": "markdown",
   "metadata": {},
   "source": [
    "Una matriz de confusión es una herramienta para resumir el desempeño de un algoritmo de clasificación. Una matriz de confusión nos dará una imagen clara del rendimiento del modelo de clasificación y los tipos de errores producidos por el modelo. Nos da un resumen de predicciones correctas e incorrectas desglosadas por cada categoría. El resumen se presenta en forma de tabla.\n",
    "\n",
    "\n",
    "Son posibles cuatro tipos de resultados al evaluar el desempeño de un modelo de clasificación. Estos cuatro resultados se describen a continuación: -\n",
    "\n",
    "\n",
    "**Verdaderos positivos (TP)**: los verdaderos positivos ocurren cuando predecimos que una observación pertenece a una determinada clase y la observación en realidad pertenece a esa clase.\n",
    "\n",
    "\n",
    "**Verdaderos Negativos (TN)** – Los Verdaderos Negativos ocurren cuando predecimos que una observación no pertenece a una determinada clase y la observación en realidad no pertenece a esa clase.\n",
    "\n",
    "\n",
    "**Falsos positivos (FP)**: los falsos positivos ocurren cuando predecimos que una observación pertenece a una determinada clase, pero la observación en realidad no pertenece a esa clase. Este tipo de error se llama **Error tipo I.**\n",
    "\n",
    "\n",
    "\n",
    "**Falsos negativos (FN)**: los falsos negativos ocurren cuando predecimos que una observación no pertenece a una determinada clase, pero la observación en realidad pertenece a esa clase. Este es un error muy grave y se llama **Error de tipo II.**\n",
    "\n",
    "\n",
    "\n",
    "Estos cuatro resultados se resumen en una matriz de confusión que se proporciona a continuación."
   ]
  },
  {
   "cell_type": "code",
   "execution_count": 79,
   "metadata": {},
   "outputs": [
    {
     "name": "stdout",
     "output_type": "stream",
     "text": [
      "Matriz de confusión\n",
      "\n",
      " [[202 109]\n",
      " [ 88 201]]\n",
      "\n",
      "True Positives(TP) =  202\n",
      "\n",
      "True Negatives(TN) =  201\n",
      "\n",
      "False Positives(FP) =  109\n",
      "\n",
      "False Negatives(FN) =  88\n",
      "\n",
      "Predicciones correctas =  403\n",
      "\n",
      "Predicciones incorrectas =  197\n"
     ]
    }
   ],
   "source": [
    "cm = confusion_matrix(y_test, y_pred_test)\n",
    "\n",
    "print('Matriz de confusión\\n\\n', cm)\n",
    "\n",
    "print('\\nTrue Positives(TP) = ', cm[0,0])\n",
    "\n",
    "print('\\nTrue Negatives(TN) = ', cm[1,1])\n",
    "\n",
    "print('\\nFalse Positives(FP) = ', cm[0,1])\n",
    "\n",
    "print('\\nFalse Negatives(FN) = ', cm[1,0])\n",
    "\n",
    "print('\\nPredicciones correctas = ', cm[0,0]+cm[1,1])\n",
    "print('\\nPredicciones incorrectas = ', cm[0,1]+cm[1,0])"
   ]
  },
  {
   "cell_type": "markdown",
   "metadata": {},
   "source": [
    "La matriz de confusión muestra `403 predicciones correctas`, y `197 predicciones incorrectas`.\n",
    "En este caso, tenemos\n",
    "\n",
    "\n",
    "- `Positivos verdaderos` (Positivo real: 1 y Positivo predictivo: 1) - 202\n",
    "\n",
    "\n",
    "- `Verdaderos negativos` (negativo real: 0 y negativo previsto: 0) - 201\n",
    "\n",
    "\n",
    "- `Falsos positivos` (Negativo real: 0 pero Positivo previsto: 1) - 109 `(Error tipo I)`\n",
    "\n",
    "\n",
    "- `Falsos negativos` (Positivo real: 1 pero Predecir negativo: 0) - 88 `(Error tipo II)`"
   ]
  },
  {
   "cell_type": "code",
   "execution_count": 80,
   "metadata": {},
   "outputs": [
    {
     "data": {
      "text/plain": [
       "<Axes: >"
      ]
     },
     "execution_count": 80,
     "metadata": {},
     "output_type": "execute_result"
    },
    {
     "data": {
      "image/png": "[encoded data removed]",
      "text/plain": [
       "<Figure size 640x480 with 2 Axes>"
      ]
     },
     "metadata": {},
     "output_type": "display_data"
    }
   ],
   "source": [
    "cm_matrix = pd.DataFrame(data=cm, columns=['Positivos Verdaderos:1', 'Negativos Verdaderos:0'], \n",
    "                                 index=['Positivos Predecidos:1', 'Negativos Predecidos:0'])\n",
    "\n",
    "sns.heatmap(cm_matrix, annot=True, fmt='d', cmap='YlGnBu')"
   ]
  },
  {
   "cell_type": "markdown",
   "metadata": {},
   "source": [
    "En el contexto de nuestro problema, el error más grave que podría presentarse es el `error tipo II`, puesto que predecir 0 (que paga), cuando en realidad es 1 (no paga), podria implicar que se adjudiquen creditos a personas morosas. Sin embargo, este es el error menos frecuente en el modelo, por lo que se puede proseguir con este."
   ]
  },
  {
   "cell_type": "markdown",
   "metadata": {},
   "source": [
    "## 📉 Métricas de clasificación"
   ]
  },
  {
   "cell_type": "markdown",
   "metadata": {},
   "source": [
    "### Reporte de clasificación"
   ]
  },
  {
   "cell_type": "markdown",
   "metadata": {},
   "source": [
    "El **Reporte de clasificación** es otra forma de evaluar el rendimiento del modelo de clasificación. Muestra las puntuaciones de **precisión**, **recuperación**, **f1** y **soporte** para el modelo. He descrito estos términos más adelante.\n",
    "\n",
    "Podemos imprimir un informe de clasificación de la siguiente manera: -"
   ]
  },
  {
   "cell_type": "code",
   "execution_count": 81,
   "metadata": {},
   "outputs": [
    {
     "name": "stdout",
     "output_type": "stream",
     "text": [
      "              precision    recall  f1-score   support\n",
      "\n",
      "           0       0.70      0.65      0.67       311\n",
      "           1       0.65      0.70      0.67       289\n",
      "\n",
      "    accuracy                           0.67       600\n",
      "   macro avg       0.67      0.67      0.67       600\n",
      "weighted avg       0.67      0.67      0.67       600\n",
      "\n"
     ]
    }
   ],
   "source": [
    "print(classification_report(y_test, y_pred_test))"
   ]
  },
  {
   "cell_type": "markdown",
   "metadata": {},
   "source": [
    "### Precisión de la clasificación"
   ]
  },
  {
   "cell_type": "code",
   "execution_count": 82,
   "metadata": {},
   "outputs": [],
   "source": [
    "TP = cm[0,0]\n",
    "TN = cm[1,1]\n",
    "FP = cm[0,1]\n",
    "FN = cm[1,0]"
   ]
  },
  {
   "cell_type": "code",
   "execution_count": 83,
   "metadata": {},
   "outputs": [
    {
     "name": "stdout",
     "output_type": "stream",
     "text": [
      "Precisión de la clasificación : 0.6717\n"
     ]
    }
   ],
   "source": [
    "classification_accuracy = (TP + TN) / float(TP + TN + FP + FN)\n",
    "\n",
    "print('Precisión de la clasificación : {0:0.4f}'.format(classification_accuracy))"
   ]
  },
  {
   "cell_type": "markdown",
   "metadata": {},
   "source": [
    "### Error de la clasificación"
   ]
  },
  {
   "cell_type": "code",
   "execution_count": 84,
   "metadata": {},
   "outputs": [
    {
     "name": "stdout",
     "output_type": "stream",
     "text": [
      "Error de clasificación : 0.3283\n"
     ]
    }
   ],
   "source": [
    "classification_error = (FP + FN) / float(TP + TN + FP + FN)\n",
    "\n",
    "print('Error de clasificación : {0:0.4f}'.format(classification_error))"
   ]
  },
  {
   "cell_type": "markdown",
   "metadata": {},
   "source": [
    "### Precisión"
   ]
  },
  {
   "cell_type": "markdown",
   "metadata": {},
   "source": [
    "La **Precisión** se puede definir como el porcentaje de resultados positivos pronosticados correctamente entre todos los resultados positivos pronosticados. Puede expresarse como la relación entre los verdaderos positivos (TP) y la suma de los verdaderos y falsos positivos (TP + FP).\n",
    "\n",
    "\n",
    "Por lo tanto, la **Precisión** identifica la proporción de resultados positivos pronosticados correctamente. Está más preocupado por la clase positiva que por la clase negativa.\n",
    "\n",
    "\n",
    "Matemáticamente, la precisión se puede definir como la relación entre \"TP y (TP + FP)\"."
   ]
  },
  {
   "cell_type": "code",
   "execution_count": 85,
   "metadata": {},
   "outputs": [
    {
     "name": "stdout",
     "output_type": "stream",
     "text": [
      "Precisión : 0.6495\n"
     ]
    }
   ],
   "source": [
    "precision = TP / float(TP + FP)\n",
    "print('Precisión : {0:0.4f}'.format(precision))"
   ]
  },
  {
   "cell_type": "markdown",
   "metadata": {},
   "source": [
    "### Sensibilidad o radio de verdaderos positivos."
   ]
  },
  {
   "cell_type": "markdown",
   "metadata": {},
   "source": [
    "La sensibilidad se puede definir como el porcentaje de resultados positivos pronosticados correctamente entre todos los resultados positivos reales.\n",
    "Puede expresarse como la relación entre los verdaderos positivos (TP) y la suma de los verdaderos positivos y los falsos negativos (TP + FN).\n",
    "\n",
    "\n",
    "La **Sensibilidad** identifica la proporción de positivos reales pronosticados correctamente.\n",
    "\n",
    "\n",
    "Matemáticamente, la recuperación se puede expresar como la relación entre \"TP y (TP + FN)\"."
   ]
  },
  {
   "cell_type": "code",
   "execution_count": 86,
   "metadata": {},
   "outputs": [
    {
     "name": "stdout",
     "output_type": "stream",
     "text": [
      "Sensibilidad : 0.6966\n"
     ]
    }
   ],
   "source": [
    "sensitivity = TP / float(TP + FN)\n",
    "print('Sensibilidad : {0:0.4f}'.format(sensitivity))"
   ]
  },
  {
   "cell_type": "markdown",
   "metadata": {},
   "source": [
    "En el contexto actual, se produce un falso negativo cuando el modelo predice que un cliente no pagará (1), pero en realidad el cliente sí paga (0). Este escenario puede ser particularmente problemático a la hora de tomar decisiones, como otorgar el crédito.\n",
    "\n",
    "Es por esto que se prioriza la sensibilidad, puesto que esta mide la capacidad del modelo para identificar correctamente todas las instancias positivas (clientes que no pagan), minimizando el número de falsos negativos."
   ]
  },
  {
   "cell_type": "markdown",
   "metadata": {},
   "source": [
    "### Radio de falsos positivos"
   ]
  },
  {
   "cell_type": "code",
   "execution_count": 87,
   "metadata": {},
   "outputs": [
    {
     "name": "stdout",
     "output_type": "stream",
     "text": [
      "FPR : 0.3516\n"
     ]
    }
   ],
   "source": [
    "false_positive_rate = FP / float(FP + TN)\n",
    "print('FPR : {0:0.4f}'.format(false_positive_rate))"
   ]
  },
  {
   "cell_type": "markdown",
   "metadata": {},
   "source": [
    "### Especificidad del modelo"
   ]
  },
  {
   "cell_type": "code",
   "execution_count": 88,
   "metadata": {},
   "outputs": [
    {
     "name": "stdout",
     "output_type": "stream",
     "text": [
      "Especificidad : 0.6484\n"
     ]
    }
   ],
   "source": [
    "specificity = TN / (TN + FP)\n",
    "\n",
    "print('Especificidad : {0:0.4f}'.format(specificity))"
   ]
  },
  {
   "cell_type": "markdown",
   "metadata": {},
   "source": [
    "## 🎚️ Ajuste del modelo (umbral)"
   ]
  },
  {
   "cell_type": "code",
   "execution_count": 89,
   "metadata": {},
   "outputs": [
    {
     "data": {
      "text/plain": [
       "array([[0.12506475, 0.87493525],\n",
       "       [0.27439058, 0.72560942],\n",
       "       [0.58742727, 0.41257273],\n",
       "       [0.68604073, 0.31395927],\n",
       "       [0.5916687 , 0.4083313 ],\n",
       "       [0.57932581, 0.42067419],\n",
       "       [0.14050898, 0.85949102],\n",
       "       [0.29428719, 0.70571281],\n",
       "       [0.29559995, 0.70440005],\n",
       "       [0.78855148, 0.21144852]])"
      ]
     },
     "execution_count": 89,
     "metadata": {},
     "output_type": "execute_result"
    }
   ],
   "source": [
    "y_pred_prob = logreg.predict_proba(X_test)[0:10]\n",
    "\n",
    "y_pred_prob"
   ]
  },
  {
   "cell_type": "markdown",
   "metadata": {},
   "source": [
    "Observaciones:\n",
    "\n",
    "- En cada fila, los números suman 1.\n",
    "\n",
    "\n",
    "- Hay 2 columnas que corresponden a 2 clases: 0 y 1.\n",
    "\n",
    "     - Clase 0: probabilidad prevista de que cliente pague (Good)\n",
    "    \n",
    "     - Clase 1: probabilidad prevista de que el cliente _no_ pague (Bad)\n",
    "        \n",
    "    \n",
    "- Importancia de las probabilidades previstas\n",
    "\n",
    "     - Podemos clasificar cada cliente como moroso o no moroso.\n",
    "\n",
    "\n",
    "- proceso predict_proba\n",
    "\n",
    "     - Predice las probabilidades\n",
    "    \n",
    "     - Elige la clase con mayor probabilidad.\n",
    "    \n",
    "    \n",
    "- Nivel de umbral de clasificación\n",
    "\n",
    "     - Existe un nivel umbral de clasificación de 0,5.\n",
    "    \n",
    "     - Clase 1: se predice la probabilidad de que cliente no pague si la probabilidad es > 0,5.\n",
    "    \n",
    "     - Clase 0: se predice probabilidad de que el cliente pague si probabilidad < 0,5."
   ]
  },
  {
   "cell_type": "code",
   "execution_count": 90,
   "metadata": {},
   "outputs": [
    {
     "data": {
      "text/html": [
       "<div>\n",
       "<style scoped>\n",
       "    .dataframe tbody tr th:only-of-type {\n",
       "        vertical-align: middle;\n",
       "    }\n",
       "\n",
       "    .dataframe tbody tr th {\n",
       "        vertical-align: top;\n",
       "    }\n",
       "\n",
       "    .dataframe thead th {\n",
       "        text-align: right;\n",
       "    }\n",
       "</style>\n",
       "<table border=\"1\" class=\"dataframe\">\n",
       "  <thead>\n",
       "    <tr style=\"text-align: right;\">\n",
       "      <th></th>\n",
       "      <th>Prob of - Good (0)</th>\n",
       "      <th>Prob of - Bad (1)</th>\n",
       "    </tr>\n",
       "  </thead>\n",
       "  <tbody>\n",
       "    <tr>\n",
       "      <th>0</th>\n",
       "      <td>0.125065</td>\n",
       "      <td>0.874935</td>\n",
       "    </tr>\n",
       "    <tr>\n",
       "      <th>1</th>\n",
       "      <td>0.274391</td>\n",
       "      <td>0.725609</td>\n",
       "    </tr>\n",
       "    <tr>\n",
       "      <th>2</th>\n",
       "      <td>0.587427</td>\n",
       "      <td>0.412573</td>\n",
       "    </tr>\n",
       "    <tr>\n",
       "      <th>3</th>\n",
       "      <td>0.686041</td>\n",
       "      <td>0.313959</td>\n",
       "    </tr>\n",
       "    <tr>\n",
       "      <th>4</th>\n",
       "      <td>0.591669</td>\n",
       "      <td>0.408331</td>\n",
       "    </tr>\n",
       "    <tr>\n",
       "      <th>5</th>\n",
       "      <td>0.579326</td>\n",
       "      <td>0.420674</td>\n",
       "    </tr>\n",
       "    <tr>\n",
       "      <th>6</th>\n",
       "      <td>0.140509</td>\n",
       "      <td>0.859491</td>\n",
       "    </tr>\n",
       "    <tr>\n",
       "      <th>7</th>\n",
       "      <td>0.294287</td>\n",
       "      <td>0.705713</td>\n",
       "    </tr>\n",
       "    <tr>\n",
       "      <th>8</th>\n",
       "      <td>0.295600</td>\n",
       "      <td>0.704400</td>\n",
       "    </tr>\n",
       "    <tr>\n",
       "      <th>9</th>\n",
       "      <td>0.788551</td>\n",
       "      <td>0.211449</td>\n",
       "    </tr>\n",
       "  </tbody>\n",
       "</table>\n",
       "</div>"
      ],
      "text/plain": [
       "   Prob of - Good (0)  Prob of - Bad (1)\n",
       "0            0.125065           0.874935\n",
       "1            0.274391           0.725609\n",
       "2            0.587427           0.412573\n",
       "3            0.686041           0.313959\n",
       "4            0.591669           0.408331\n",
       "5            0.579326           0.420674\n",
       "6            0.140509           0.859491\n",
       "7            0.294287           0.705713\n",
       "8            0.295600           0.704400\n",
       "9            0.788551           0.211449"
      ]
     },
     "execution_count": 90,
     "metadata": {},
     "output_type": "execute_result"
    }
   ],
   "source": [
    "y_pred_prob_df = pd.DataFrame(data=y_pred_prob, columns=['Prob of - Good (0)', 'Prob of - Bad (1)'])\n",
    "\n",
    "y_pred_prob_df"
   ]
  },
  {
   "cell_type": "code",
   "execution_count": 91,
   "metadata": {},
   "outputs": [
    {
     "data": {
      "text/plain": [
       "array([0.87493525, 0.72560942, 0.41257273, 0.31395927, 0.4083313 ,\n",
       "       0.42067419, 0.85949102, 0.70571281, 0.70440005, 0.21144852])"
      ]
     },
     "execution_count": 91,
     "metadata": {},
     "output_type": "execute_result"
    }
   ],
   "source": [
    "logreg.predict_proba(X_test)[0:10, 1]"
   ]
  },
  {
   "cell_type": "code",
   "execution_count": 92,
   "metadata": {},
   "outputs": [],
   "source": [
    "y_pred1 = logreg.predict_proba(X_test)[:, 1]"
   ]
  },
  {
   "cell_type": "code",
   "execution_count": 93,
   "metadata": {},
   "outputs": [
    {
     "data": {
      "text/plain": [
       "Text(0, 0.5, 'Frecuencia')"
      ]
     },
     "execution_count": 93,
     "metadata": {},
     "output_type": "execute_result"
    },
    {
     "data": {
      "image/png": "[encoded data removed]",
      "text/plain": [
       "<Figure size 640x480 with 1 Axes>"
      ]
     },
     "metadata": {},
     "output_type": "display_data"
    }
   ],
   "source": [
    "# adjust the font size \n",
    "plt.rcParams['font.size'] = 12\n",
    "\n",
    "\n",
    "# plot histogram with 10 bins\n",
    "plt.hist(y_pred1, bins = 10)\n",
    "\n",
    "\n",
    "# set the title of predicted probabilities\n",
    "plt.title('Histograma de probabilidad predicha de morosidad')\n",
    "\n",
    "\n",
    "# set the x-axis limit\n",
    "plt.xlim(0,1)\n",
    "\n",
    "\n",
    "# set the title\n",
    "plt.xlabel('Probabilidad predicha de morosidad')\n",
    "plt.ylabel('Frecuencia')"
   ]
  },
  {
   "cell_type": "markdown",
   "metadata": {},
   "source": [
    "### Reducción del umbral"
   ]
  },
  {
   "cell_type": "code",
   "execution_count": 94,
   "metadata": {},
   "outputs": [
    {
     "name": "stdout",
     "output_type": "stream",
     "text": [
      "Con un umbral de 0.1 la Matriz de Confusión es  \n",
      "\n",
      " [[ 12 299]\n",
      " [  2 287]] \n",
      "\n",
      " con 299 predicciones correctas,  \n",
      "\n",
      " 299 Errores de Tipo I (Falsos Positivos),  \n",
      "\n",
      " 2 Errores de Tipo II (Falsos Negativos),  \n",
      "\n",
      " Puntuación de precisión:  0.49833333333333335 \n",
      "\n",
      " Sensibilidad:  0.9930795847750865 \n",
      "\n",
      " Especificidad:  0.03858520900321544 \n",
      "\n",
      " ==================================================== \n",
      "\n",
      "\n",
      "Con un umbral de 0.2 la Matriz de Confusión es  \n",
      "\n",
      " [[ 64 247]\n",
      " [ 12 277]] \n",
      "\n",
      " con 341 predicciones correctas,  \n",
      "\n",
      " 247 Errores de Tipo I (Falsos Positivos),  \n",
      "\n",
      " 12 Errores de Tipo II (Falsos Negativos),  \n",
      "\n",
      " Puntuación de precisión:  0.5683333333333334 \n",
      "\n",
      " Sensibilidad:  0.9584775086505191 \n",
      "\n",
      " Especificidad:  0.2057877813504823 \n",
      "\n",
      " ==================================================== \n",
      "\n",
      "\n",
      "Con un umbral de 0.3 la Matriz de Confusión es  \n",
      "\n",
      " [[108 203]\n",
      " [ 30 259]] \n",
      "\n",
      " con 367 predicciones correctas,  \n",
      "\n",
      " 203 Errores de Tipo I (Falsos Positivos),  \n",
      "\n",
      " 30 Errores de Tipo II (Falsos Negativos),  \n",
      "\n",
      " Puntuación de precisión:  0.6116666666666667 \n",
      "\n",
      " Sensibilidad:  0.8961937716262975 \n",
      "\n",
      " Especificidad:  0.34726688102893893 \n",
      "\n",
      " ==================================================== \n",
      "\n",
      "\n",
      "Con un umbral de 0.4 la Matriz de Confusión es  \n",
      "\n",
      " [[157 154]\n",
      " [ 59 230]] \n",
      "\n",
      " con 387 predicciones correctas,  \n",
      "\n",
      " 154 Errores de Tipo I (Falsos Positivos),  \n",
      "\n",
      " 59 Errores de Tipo II (Falsos Negativos),  \n",
      "\n",
      " Puntuación de precisión:  0.645 \n",
      "\n",
      " Sensibilidad:  0.7958477508650519 \n",
      "\n",
      " Especificidad:  0.5048231511254019 \n",
      "\n",
      " ==================================================== \n",
      "\n",
      "\n"
     ]
    }
   ],
   "source": [
    "for i in range(1, 5):\n",
    "    cm1 = 0\n",
    "    y_pred1 = logreg.predict_proba(X_test)[:, 1]\n",
    "    y_pred1 = y_pred1.reshape(-1, 1)\n",
    "    y_pred2 = binarize(y_pred1, threshold=i/10)\n",
    "    y_pred2 = np.where(y_pred2 == 1, 1, 0)  # Convert 'Sí' to 1 and 'No' to 0\n",
    "    cm1 = confusion_matrix(y_test, y_pred2)\n",
    "    print('Con un umbral de', i/10, 'la Matriz de Confusión es ', '\\n\\n', cm1, '\\n\\n',\n",
    "          'con', cm1[0, 0]+cm1[1, 1], 'predicciones correctas, ', '\\n\\n',\n",
    "          cm1[0, 1], 'Errores de Tipo I (Falsos Positivos), ', '\\n\\n',\n",
    "          cm1[1, 0], 'Errores de Tipo II (Falsos Negativos), ', '\\n\\n',\n",
    "          'Puntuación de precisión: ', (accuracy_score(y_test, y_pred2)), '\\n\\n',\n",
    "          'Sensibilidad: ', cm1[1, 1]/(float(cm1[1, 1]+cm1[1, 0])), '\\n\\n',\n",
    "          'Especificidad: ', cm1[0, 0]/(float(cm1[0, 0]+cm1[0, 1])), '\\n\\n',\n",
    "          '====================================================', '\\n\\n')\n"
   ]
  },
  {
   "cell_type": "markdown",
   "metadata": {},
   "source": [
    "#### Observaciones\n",
    "\n",
    "* En problemas binarios, el umbral utilizado por defecto para convertir probabilidades predichas en predicciones de clase es 0.5\n",
    "* Este umbral puede ser ajustado para aumentar la sensibilidad o la espcificidad.\n",
    "* La sensibiliad y la espeicificidad tienen una relacion inversamente proporcional.\n",
    "* Si bien el aumentar el nivel del umbral resulta en una sensibilidad mayor, también resulta en un modelo muchísimo menos preciso. \n",
    "* Ajustar este nivel es uno de los últimos pasos que se deben realizar en el proceso de construcción del modelo."
   ]
  },
  {
   "cell_type": "markdown",
   "metadata": {},
   "source": [
    "## 📈 ROC - AUC"
   ]
  },
  {
   "cell_type": "markdown",
   "metadata": {},
   "source": [
    "Otra herramienta para medir visualmente el rendimiento del modelo de clasificación es **Curva ROC**. Curva ROC significa **Curva característica de funcionamiento del receptor**. Una **Curva ROC** es un gráfico que muestra el rendimiento de un modelo de clasificación en varios\n",
    "niveles de umbral de clasificación.\n",
    "\n",
    "\n",
    "\n",
    "La **Curva ROC** traza la **Tasa de verdaderos positivos (TPR)** frente a la **Tasa de falsos positivos (FPR)** en varios niveles de umbral.\n",
    "\n",
    "\n",
    "\n",
    "La **Tasa de verdaderos positivos (TPR)** también se denomina **Retiro**. Se define como la relación entre \"TP y (TP + FN)\".\n",
    "\n",
    "\n",
    "\n",
    "**La tasa de falsos positivos (FPR)** se define como la relación entre \"FP y (FP + TN)\".\n",
    "\n",
    "\n",
    "\n",
    "En la curva ROC, nos centraremos en la TPR (tasa de verdaderos positivos) y la FPR (tasa de falsos positivos) de un solo punto. Esto nos dará el rendimiento general de la curva ROC, que consta de TPR y FPR en varios niveles de umbral. Entonces, una curva ROC traza TPR versus FPR en diferentes niveles de umbral de clasificación. Si reducimos los niveles de umbral, es posible que se clasifiquen más elementos como positivos. Aumentará tanto los Verdaderos Positivos (TP) como los Falsos Positivos (FP)."
   ]
  },
  {
   "cell_type": "code",
   "execution_count": 95,
   "metadata": {},
   "outputs": [
    {
     "data": {
      "image/png": "[encoded data removed]",
      "text/plain": [
       "<Figure size 600x400 with 1 Axes>"
      ]
     },
     "metadata": {},
     "output_type": "display_data"
    }
   ],
   "source": [
    "fpr, tpr, thresholds = roc_curve(y_test, y_pred1, pos_label=1)\n",
    "\n",
    "plt.figure(figsize=(6, 4))\n",
    "\n",
    "plt.plot(fpr, tpr, linewidth=2)\n",
    "\n",
    "plt.plot([0, 1], [0, 1], 'k--')\n",
    "\n",
    "plt.rcParams['font.size'] = 12\n",
    "\n",
    "plt.title('Curva ROC para el clasificador de GB')\n",
    "\n",
    "plt.xlabel('Tasa de Falsos Positivos (1 - Especificidad)')\n",
    "\n",
    "plt.ylabel('Tasa de Verdaderos Positivos (Sensibilidad)')\n",
    "\n",
    "plt.show()\n"
   ]
  },
  {
   "cell_type": "markdown",
   "metadata": {},
   "source": [
    "La curva ROC nos ayuda a elegir un nivel de umbral que equilibre la sensibilidad y la especificidad para un contexto particular."
   ]
  },
  {
   "cell_type": "markdown",
   "metadata": {},
   "source": [
    "**ROC AUC** significa **Característica operativa del receptor: área bajo la curva**. Es una técnica para comparar el rendimiento del clasificador. En esta técnica, medimos el \"área bajo la curva (AUC)\". Un clasificador perfecto tendrá un ROC AUC igual a 1, mientras que un clasificador puramente aleatorio tendrá un ROC AUC igual a 0,5.\n",
    "\n",
    "\n",
    "Entonces, **ROC AUC** es el porcentaje del gráfico ROC que está debajo de la curva."
   ]
  },
  {
   "cell_type": "code",
   "execution_count": 96,
   "metadata": {},
   "outputs": [
    {
     "name": "stdout",
     "output_type": "stream",
     "text": [
      "ROC AUC : 0.7197\n"
     ]
    }
   ],
   "source": [
    "ROC_AUC = roc_auc_score(y_test, y_pred1)\n",
    "\n",
    "print('ROC AUC : {:.4f}'.format(ROC_AUC))"
   ]
  },
  {
   "cell_type": "markdown",
   "metadata": {},
   "source": [
    "### Comentarios"
   ]
  },
  {
   "cell_type": "markdown",
   "metadata": {},
   "source": [
    "- ROC AUC es un resumen numérico único del rendimiento del clasificador. Cuanto mayor sea el valor, mejor será el clasificador.\n",
    "\n",
    "- El ROC AUC de nuestro modelo se acerca a 1. Por lo tanto, podemos concluir que nuestro clasificador hace un buen trabajo al predecir si un cliente será moroso o no."
   ]
  },
  {
   "cell_type": "code",
   "execution_count": 97,
   "metadata": {},
   "outputs": [
    {
     "name": "stdout",
     "output_type": "stream",
     "text": [
      "ROC AUC validado cruzado: 0.7414\n"
     ]
    }
   ],
   "source": [
    "Cross_validated_ROC_AUC = cross_val_score(logreg, X_train, y_train, cv=5, scoring='roc_auc').mean()\n",
    "print('ROC AUC validado cruzado: {:.4f}'.format(Cross_validated_ROC_AUC))"
   ]
  },
  {
   "cell_type": "markdown",
   "metadata": {},
   "source": [
    "## 🔀 Validación cruzada k-Fold"
   ]
  },
  {
   "cell_type": "code",
   "execution_count": 98,
   "metadata": {},
   "outputs": [
    {
     "name": "stdout",
     "output_type": "stream",
     "text": [
      "Puntuaciones de validación cruzada: [0.6625     0.68958333 0.66875    0.64375    0.68125   ]\n"
     ]
    }
   ],
   "source": [
    "scores = cross_val_score(logreg, X_train, y_train, cv=5, scoring='accuracy')\n",
    "\n",
    "print('Puntuaciones de validación cruzada: {}'.format(scores))"
   ]
  },
  {
   "cell_type": "markdown",
   "metadata": {},
   "source": [
    "Podemos resumir la precisión de la validación cruzada calculando su media"
   ]
  },
  {
   "cell_type": "code",
   "execution_count": 99,
   "metadata": {},
   "outputs": [
    {
     "name": "stdout",
     "output_type": "stream",
     "text": [
      "Puntuación promedio de validación cruzada: 0.6692\n"
     ]
    }
   ],
   "source": [
    "print('Puntuación promedio de validación cruzada: {:.4f}'.format(scores.mean()))"
   ]
  },
  {
   "cell_type": "markdown",
   "metadata": {},
   "source": [
    "Nuestro modelo original tenia una puntuación de 0.6933. El puntaje promedio de validación cruzada es de 0.6692. Por tanto, podemos concluir que la validación cruzada no resulta en una mejora de rendimiento."
   ]
  },
  {
   "cell_type": "markdown",
   "metadata": {},
   "source": [
    "## 🔍 Optimización de híperparametros usando GridSearch CV"
   ]
  },
  {
   "cell_type": "code",
   "execution_count": 100,
   "metadata": {},
   "outputs": [
    {
     "data": {
      "text/html": [
       "<style>#sk-container-id-4 {color: black;}#sk-container-id-4 pre{padding: 0;}#sk-container-id-4 div.sk-toggleable {background-color: white;}#sk-container-id-4 label.sk-toggleable__label {cursor: pointer;display: block;width: 100%;margin-bottom: 0;padding: 0.3em;box-sizing: border-box;text-align: center;}#sk-container-id-4 label.sk-toggleable__label-arrow:before {content: \"▸\";float: left;margin-right: 0.25em;color: #696969;}#sk-container-id-4 label.sk-toggleable__label-arrow:hover:before {color: black;}#sk-container-id-4 div.sk-estimator:hover label.sk-toggleable__label-arrow:before {color: black;}#sk-container-id-4 div.sk-toggleable__content {max-height: 0;max-width: 0;overflow: hidden;text-align: left;background-color: #f0f8ff;}#sk-container-id-4 div.sk-toggleable__content pre {margin: 0.2em;color: black;border-radius: 0.25em;background-color: #f0f8ff;}#sk-container-id-4 input.sk-toggleable__control:checked~div.sk-toggleable__content {max-height: 200px;max-width: 100%;overflow: auto;}#sk-container-id-4 input.sk-toggleable__control:checked~label.sk-toggleable__label-arrow:before {content: \"▾\";}#sk-container-id-4 div.sk-estimator input.sk-toggleable__control:checked~label.sk-toggleable__label {background-color: #d4ebff;}#sk-container-id-4 div.sk-label input.sk-toggleable__control:checked~label.sk-toggleable__label {background-color: #d4ebff;}#sk-container-id-4 input.sk-hidden--visually {border: 0;clip: rect(1px 1px 1px 1px);clip: rect(1px, 1px, 1px, 1px);height: 1px;margin: -1px;overflow: hidden;padding: 0;position: absolute;width: 1px;}#sk-container-id-4 div.sk-estimator {font-family: monospace;background-color: #f0f8ff;border: 1px dotted black;border-radius: 0.25em;box-sizing: border-box;margin-bottom: 0.5em;}#sk-container-id-4 div.sk-estimator:hover {background-color: #d4ebff;}#sk-container-id-4 div.sk-parallel-item::after {content: \"\";width: 100%;border-bottom: 1px solid gray;flex-grow: 1;}#sk-container-id-4 div.sk-label:hover label.sk-toggleable__label {background-color: #d4ebff;}#sk-container-id-4 div.sk-serial::before {content: \"\";position: absolute;border-left: 1px solid gray;box-sizing: border-box;top: 0;bottom: 0;left: 50%;z-index: 0;}#sk-container-id-4 div.sk-serial {display: flex;flex-direction: column;align-items: center;background-color: white;padding-right: 0.2em;padding-left: 0.2em;position: relative;}#sk-container-id-4 div.sk-item {position: relative;z-index: 1;}#sk-container-id-4 div.sk-parallel {display: flex;align-items: stretch;justify-content: center;background-color: white;position: relative;}#sk-container-id-4 div.sk-item::before, #sk-container-id-4 div.sk-parallel-item::before {content: \"\";position: absolute;border-left: 1px solid gray;box-sizing: border-box;top: 0;bottom: 0;left: 50%;z-index: -1;}#sk-container-id-4 div.sk-parallel-item {display: flex;flex-direction: column;z-index: 1;position: relative;background-color: white;}#sk-container-id-4 div.sk-parallel-item:first-child::after {align-self: flex-end;width: 50%;}#sk-container-id-4 div.sk-parallel-item:last-child::after {align-self: flex-start;width: 50%;}#sk-container-id-4 div.sk-parallel-item:only-child::after {width: 0;}#sk-container-id-4 div.sk-dashed-wrapped {border: 1px dashed gray;margin: 0 0.4em 0.5em 0.4em;box-sizing: border-box;padding-bottom: 0.4em;background-color: white;}#sk-container-id-4 div.sk-label label {font-family: monospace;font-weight: bold;display: inline-block;line-height: 1.2em;}#sk-container-id-4 div.sk-label-container {text-align: center;}#sk-container-id-4 div.sk-container {/* jupyter's `normalize.less` sets `[hidden] { display: none; }` but bootstrap.min.css set `[hidden] { display: none !important; }` so we also need the `!important` here to be able to override the default hidden behavior on the sphinx rendered scikit-learn.org. See: https://github.com/scikit-learn/scikit-learn/issues/21755 */display: inline-block !important;position: relative;}#sk-container-id-4 div.sk-text-repr-fallback {display: none;}</style><div id=\"sk-container-id-4\" class=\"sk-top-container\"><div class=\"sk-text-repr-fallback\"><pre>GridSearchCV(cv=5,\n",
       "             estimator=LogisticRegression(random_state=0, solver=&#x27;liblinear&#x27;),\n",
       "             param_grid=[{&#x27;penalty&#x27;: [&#x27;l1&#x27;, &#x27;l2&#x27;]}, {&#x27;C&#x27;: [1, 10, 100, 1000]}],\n",
       "             scoring=&#x27;accuracy&#x27;)</pre><b>In a Jupyter environment, please rerun this cell to show the HTML representation or trust the notebook. <br />On GitHub, the HTML representation is unable to render, please try loading this page with nbviewer.org.</b></div><div class=\"sk-container\" hidden><div class=\"sk-item sk-dashed-wrapped\"><div class=\"sk-label-container\"><div class=\"sk-label sk-toggleable\"><input class=\"sk-toggleable__control sk-hidden--visually\" id=\"sk-estimator-id-4\" type=\"checkbox\" ><label for=\"sk-estimator-id-4\" class=\"sk-toggleable__label sk-toggleable__label-arrow\">GridSearchCV</label><div class=\"sk-toggleable__content\"><pre>GridSearchCV(cv=5,\n",
       "             estimator=LogisticRegression(random_state=0, solver=&#x27;liblinear&#x27;),\n",
       "             param_grid=[{&#x27;penalty&#x27;: [&#x27;l1&#x27;, &#x27;l2&#x27;]}, {&#x27;C&#x27;: [1, 10, 100, 1000]}],\n",
       "             scoring=&#x27;accuracy&#x27;)</pre></div></div></div><div class=\"sk-parallel\"><div class=\"sk-parallel-item\"><div class=\"sk-item\"><div class=\"sk-label-container\"><div class=\"sk-label sk-toggleable\"><input class=\"sk-toggleable__control sk-hidden--visually\" id=\"sk-estimator-id-5\" type=\"checkbox\" ><label for=\"sk-estimator-id-5\" class=\"sk-toggleable__label sk-toggleable__label-arrow\">estimator: LogisticRegression</label><div class=\"sk-toggleable__content\"><pre>LogisticRegression(random_state=0, solver=&#x27;liblinear&#x27;)</pre></div></div></div><div class=\"sk-serial\"><div class=\"sk-item\"><div class=\"sk-estimator sk-toggleable\"><input class=\"sk-toggleable__control sk-hidden--visually\" id=\"sk-estimator-id-6\" type=\"checkbox\" ><label for=\"sk-estimator-id-6\" class=\"sk-toggleable__label sk-toggleable__label-arrow\">LogisticRegression</label><div class=\"sk-toggleable__content\"><pre>LogisticRegression(random_state=0, solver=&#x27;liblinear&#x27;)</pre></div></div></div></div></div></div></div></div></div></div>"
      ],
      "text/plain": [
       "GridSearchCV(cv=5,\n",
       "             estimator=LogisticRegression(random_state=0, solver='liblinear'),\n",
       "             param_grid=[{'penalty': ['l1', 'l2']}, {'C': [1, 10, 100, 1000]}],\n",
       "             scoring='accuracy')"
      ]
     },
     "execution_count": 100,
     "metadata": {},
     "output_type": "execute_result"
    }
   ],
   "source": [
    "parameters = [{'penalty':['l1','l2']}, \n",
    "              {'C':[1, 10, 100, 1000]}]\n",
    "\n",
    "\n",
    "\n",
    "grid_search = GridSearchCV(estimator = logreg,  \n",
    "                           param_grid = parameters,\n",
    "                           scoring = 'accuracy',\n",
    "                           cv = 5,\n",
    "                           verbose=0)\n",
    "\n",
    "\n",
    "grid_search.fit(X_train, y_train)\n"
   ]
  },
  {
   "cell_type": "code",
   "execution_count": 101,
   "metadata": {},
   "outputs": [
    {
     "name": "stdout",
     "output_type": "stream",
     "text": [
      "Mejor puntuación del GridSearch CV: 0.6738\n",
      "\n",
      "\n",
      "Parámetros que dan los mejores resultados: \n",
      "\n",
      " {'penalty': 'l1'}\n",
      "\n",
      "\n",
      "Estimador que fue elegido por la búsqueda: \n",
      "\n",
      " LogisticRegression(penalty='l1', random_state=0, solver='liblinear')\n"
     ]
    }
   ],
   "source": [
    "# examinar el mejor modelo\n",
    "\n",
    "# mejor puntuación alcanzada durante el GridSearchCV\n",
    "print('Mejor puntuación del GridSearch CV: {:.4f}\\n\\n'.format(grid_search.best_score_))\n",
    "\n",
    "# imprimir parámetros que dan los mejores resultados\n",
    "print('Parámetros que dan los mejores resultados:','\\n\\n', (grid_search.best_params_))\n",
    "\n",
    "# imprimir estimador que fue elegido por el GridSearch\n",
    "print('\\n\\nEstimador que fue elegido por la búsqueda:','\\n\\n', (grid_search.best_estimator_))\n"
   ]
  },
  {
   "cell_type": "code",
   "execution_count": 102,
   "metadata": {},
   "outputs": [
    {
     "name": "stdout",
     "output_type": "stream",
     "text": [
      "Puntuación del GridSearch CV en el conjunto de prueba: 0.6767\n"
     ]
    }
   ],
   "source": [
    "print('Puntuación del GridSearch CV en el conjunto de prueba: {0:0.4f}'.format(grid_search.score(X_test, y_test)))"
   ]
  },
  {
   "cell_type": "markdown",
   "metadata": {},
   "source": [
    "### Observaciones:\n",
    "\n",
    "* El puntaje original de nuestro modelo es de 0.6933, mientras que el puntajde GridSearchCV es de 0.6767\n",
    "* Podemos ver que GridSearchCV no mejora el rendimiento de este modelo en particular"
   ]
  },
  {
   "cell_type": "markdown",
   "metadata": {},
   "source": [
    "##  📈 Análisis lift"
   ]
  },
  {
   "cell_type": "code",
   "execution_count": 103,
   "metadata": {},
   "outputs": [],
   "source": [
    "def classification_lift_at_percentile(y_true, y_pred, percentile):\n",
    "    \"\"\"\n",
    "    Calcular el lift para clasificación en un percentil específico de las predicciones.\n",
    "    \n",
    "    :param y_true: Similar a una matriz, etiquetas binarias verdaderas (0 o 1).\n",
    "    :param y_pred: Similar a una matriz, probabilidades predichas.\n",
    "    :param percentile: Valor del percentil (entre 0 y 100).\n",
    "    :return: Valor de lift en el percentil especificado.\n",
    "    \"\"\"\n",
    "    # Ordenar las predicciones en orden descendente\n",
    "    y_true = np.array(y_true)\n",
    "    y_pred = np.array(y_pred)\n",
    "    sorted_indices = np.argsort(y_pred)[::-1]\n",
    "    n = len(y_pred)\n",
    "    k = min(int(percentile / 100 * n), n - 1)  # Asegurar que no seleccionemos más observaciones de las que tenemos\n",
    "    \n",
    "    # Obtener los índices de las k observaciones superiores\n",
    "    top_indices = sorted_indices[:k]\n",
    "    \n",
    "    # Calcular el valor de lift en el conjunto de datos reducido a las k observaciones\n",
    "    baseline = np.mean(y_true)\n",
    "    model_success_rate = np.mean(y_true[top_indices])\n",
    "    \n",
    "    return model_success_rate / baseline"
   ]
  },
  {
   "cell_type": "code",
   "execution_count": 104,
   "metadata": {},
   "outputs": [
    {
     "name": "stdout",
     "output_type": "stream",
     "text": [
      "Lift en el centil 5: 1.5916955017301038\n"
     ]
    }
   ],
   "source": [
    "y_proba = logreg.predict_proba(X_test)[:,1]\n",
    "lift_at_5th_percentile = classification_lift_at_percentile(y_test, y_proba, 5)\n",
    "print(\"Lift en el centil 5:\", lift_at_5th_percentile)"
   ]
  },
  {
   "cell_type": "markdown",
   "metadata": {},
   "source": [
    "# Inferencia de rechazo"
   ]
  },
  {
   "cell_type": "markdown",
   "metadata": {},
   "source": [
    "## Preprocessing rechazados."
   ]
  },
  {
   "cell_type": "code",
   "execution_count": 106,
   "metadata": {},
   "outputs": [],
   "source": [
    "rechazados = pd.read_csv('../data/rechazados.csv')\n",
    "rechazados.columns = rechazados.columns.str.lower()"
   ]
  },
  {
   "cell_type": "code",
   "execution_count": 107,
   "metadata": {},
   "outputs": [],
   "source": [
    "columns = ['tel', 'nmbloan', 'ec_card', 'inc1']\n",
    "for c in columns:\n",
    "    rechazados[c] = rechazados[c]*100"
   ]
  },
  {
   "cell_type": "code",
   "execution_count": 108,
   "metadata": {},
   "outputs": [
    {
     "data": {
      "text/plain": [
       "title        object\n",
       "children      int64\n",
       "pers_h        int64\n",
       "age           int64\n",
       "tmadd       float64\n",
       "tmjob1      float64\n",
       "tel         float64\n",
       "nmbloan     float64\n",
       "finloan     float64\n",
       "income      float64\n",
       "ec_card     float64\n",
       "inc         float64\n",
       "inc1        float64\n",
       "status       object\n",
       "bureau      float64\n",
       "location    float64\n",
       "loans         int64\n",
       "regn          int64\n",
       "div         float64\n",
       "cash        float64\n",
       "product      object\n",
       "resid        object\n",
       "nat          object\n",
       "prof         object\n",
       "car          object\n",
       "cards        object\n",
       "dtype: object"
      ]
     },
     "execution_count": 108,
     "metadata": {},
     "output_type": "execute_result"
    }
   ],
   "source": [
    "rechazados.dtypes"
   ]
  },
  {
   "cell_type": "code",
   "execution_count": 109,
   "metadata": {},
   "outputs": [],
   "source": [
    "def comparar_datasets(dataset_principal, dataset_rechazados):\n",
    "    # Crea una copia del dataset de rechazados\n",
    "    rechazados_actualizado = dataset_rechazados.copy()\n",
    "\n",
    "    # Elimina las columnas en rechazados que no están en el dataset principal\n",
    "    columnas_a_eliminar = set(rechazados_actualizado.columns) - set(dataset_principal.columns)\n",
    "    rechazados_actualizado.drop(columns=columnas_a_eliminar, inplace=True)\n",
    "\n",
    "    return rechazados_actualizado"
   ]
  },
  {
   "cell_type": "code",
   "execution_count": 110,
   "metadata": {},
   "outputs": [],
   "source": [
    "df_rechazados = comparar_datasets(X_copy, rechazados)\n"
   ]
  },
  {
   "cell_type": "code",
   "execution_count": 113,
   "metadata": {},
   "outputs": [],
   "source": [
    "df_rechazados = df_rechazados.astype({'title': 'object', 'status': 'object', 'product': 'object', \n",
    "                'regn': 'object', 'nat': 'object', 'prof': 'object', \n",
    "                'car': 'object', 'cards': 'object', 'bureau': 'object', 'tel': 'object', \n",
    "                'ec_card': 'object', 'div': 'object',\n",
    "                'nmbloan' : 'object', 'finloan' : 'object'\n",
    "                })"
   ]
  },
  {
   "cell_type": "code",
   "execution_count": 114,
   "metadata": {},
   "outputs": [
    {
     "name": "stdout",
     "output_type": "stream",
     "text": [
      "<class 'pandas.core.frame.DataFrame'>\n",
      "RangeIndex: 1500 entries, 0 to 1499\n",
      "Data columns (total 24 columns):\n",
      " #   Column    Non-Null Count  Dtype  \n",
      "---  ------    --------------  -----  \n",
      " 0   title     1500 non-null   object \n",
      " 1   children  1500 non-null   int64  \n",
      " 2   pers_h    1500 non-null   int64  \n",
      " 3   age       1500 non-null   int64  \n",
      " 4   tmadd     1500 non-null   float64\n",
      " 5   tmjob1    1500 non-null   float64\n",
      " 6   tel       1500 non-null   object \n",
      " 7   nmbloan   1500 non-null   object \n",
      " 8   finloan   1500 non-null   object \n",
      " 9   income    1500 non-null   float64\n",
      " 10  ec_card   1500 non-null   object \n",
      " 11  inc       1500 non-null   float64\n",
      " 12  inc1      1500 non-null   float64\n",
      " 13  status    1500 non-null   object \n",
      " 14  bureau    1500 non-null   object \n",
      " 15  loans     1500 non-null   int64  \n",
      " 16  regn      1500 non-null   object \n",
      " 17  div       1500 non-null   object \n",
      " 18  cash      1500 non-null   float64\n",
      " 19  product   1494 non-null   object \n",
      " 20  nat       1500 non-null   object \n",
      " 21  prof      1500 non-null   object \n",
      " 22  car       1500 non-null   object \n",
      " 23  cards     1500 non-null   object \n",
      "dtypes: float64(6), int64(4), object(14)\n",
      "memory usage: 281.4+ KB\n"
     ]
    }
   ],
   "source": [
    "df_rechazados.info()"
   ]
  },
  {
   "cell_type": "code",
   "execution_count": 116,
   "metadata": {},
   "outputs": [],
   "source": [
    "for df2 in [df_rechazados]:\n",
    "    df2['product'].fillna(df_rechazados['product'].mode()[0], inplace=True)"
   ]
  },
  {
   "cell_type": "code",
   "execution_count": 118,
   "metadata": {},
   "outputs": [
    {
     "data": {
      "text/plain": [
       "title       0\n",
       "children    0\n",
       "pers_h      0\n",
       "age         0\n",
       "tmadd       0\n",
       "tmjob1      0\n",
       "tel         0\n",
       "nmbloan     0\n",
       "finloan     0\n",
       "income      0\n",
       "ec_card     0\n",
       "inc         0\n",
       "inc1        0\n",
       "status      0\n",
       "bureau      0\n",
       "loans       0\n",
       "regn        0\n",
       "div         0\n",
       "cash        0\n",
       "product     0\n",
       "nat         0\n",
       "prof        0\n",
       "car         0\n",
       "cards       0\n",
       "dtype: int64"
      ]
     },
     "execution_count": 118,
     "metadata": {},
     "output_type": "execute_result"
    }
   ],
   "source": [
    "df_rechazados.isnull().sum()"
   ]
  },
  {
   "cell_type": "code",
   "execution_count": 120,
   "metadata": {},
   "outputs": [
    {
     "data": {
      "image/png": "[encoded data removed]",
      "text/plain": [
       "<Figure size 1500x2500 with 10 Axes>"
      ]
     },
     "metadata": {},
     "output_type": "display_data"
    }
   ],
   "source": [
    "create_boxplots(df_rechazados, numerical)"
   ]
  },
  {
   "cell_type": "code",
   "execution_count": 119,
   "metadata": {},
   "outputs": [
    {
     "name": "stdout",
     "output_type": "stream",
     "text": [
      "['children', 'pers_h', 'age', 'tmadd', 'tmjob1', 'income', 'loans', 'cash']\n"
     ]
    }
   ],
   "source": [
    "print(outliers)"
   ]
  },
  {
   "cell_type": "code",
   "execution_count": 121,
   "metadata": {},
   "outputs": [
    {
     "name": "stdout",
     "output_type": "stream",
     "text": [
      "Los valores outliers de la variable children son > 4.0\n",
      "Los valores outliers de la variable pers_h son > 9.0\n",
      "Los valores outliers de la variable age son > 83.0\n",
      "Los valores outliers de la variable tmadd son > 444.0\n",
      "Los valores outliers de la variable tmjob1 son > 228.0\n",
      "Los valores outliers de la variable income son > 5900.0\n",
      "Los valores outliers de la variable loans son > 8.0\n",
      "Los valores outliers de la variable cash son > 13000.0\n"
     ]
    }
   ],
   "source": [
    "for c in outliers:\n",
    "    lower_fence, upper_fence = find_outliers_IQR(df_rechazados, c)\n",
    "    if df_rechazados[c].min() < lower_fence:\n",
    "        print(f'Los valores outliers de la variable {c} son < {lower_fence} o > {upper_fence}')\n",
    "    else:\n",
    "        print(f'Los valores outliers de la variable {c} son > {upper_fence}')\n"
   ]
  },
  {
   "cell_type": "code",
   "execution_count": 122,
   "metadata": {},
   "outputs": [],
   "source": [
    "for df3 in [df_rechazados]:\n",
    "    for c in outliers:\n",
    "        lower_fence, upper_fence = find_outliers_IQR(df_rechazados, c)\n",
    "        df3[c] = max_value(df3, c, upper_fence)"
   ]
  },
  {
   "cell_type": "code",
   "execution_count": 123,
   "metadata": {},
   "outputs": [
    {
     "name": "stdout",
     "output_type": "stream",
     "text": [
      "children: (4.0)\n",
      "pers_h: (9.0)\n",
      "age: (80.0)\n",
      "tmadd: (444.0)\n",
      "tmjob1: (228.0)\n",
      "income: (5900.0)\n",
      "loans: (8.0)\n",
      "cash: (13000.0)\n"
     ]
    }
   ],
   "source": [
    "for c in outliers:\n",
    "    print(f'{c}: ({df_rechazados[c].max()})')"
   ]
  },
  {
   "cell_type": "code",
   "execution_count": 124,
   "metadata": {},
   "outputs": [
    {
     "data": {
      "text/html": [
       "<div>\n",
       "<style scoped>\n",
       "    .dataframe tbody tr th:only-of-type {\n",
       "        vertical-align: middle;\n",
       "    }\n",
       "\n",
       "    .dataframe tbody tr th {\n",
       "        vertical-align: top;\n",
       "    }\n",
       "\n",
       "    .dataframe thead th {\n",
       "        text-align: right;\n",
       "    }\n",
       "</style>\n",
       "<table border=\"1\" class=\"dataframe\">\n",
       "  <thead>\n",
       "    <tr style=\"text-align: right;\">\n",
       "      <th></th>\n",
       "      <th>children</th>\n",
       "      <th>pers_h</th>\n",
       "      <th>age</th>\n",
       "      <th>tmadd</th>\n",
       "      <th>tmjob1</th>\n",
       "      <th>income</th>\n",
       "      <th>inc</th>\n",
       "      <th>inc1</th>\n",
       "      <th>loans</th>\n",
       "      <th>cash</th>\n",
       "    </tr>\n",
       "  </thead>\n",
       "  <tbody>\n",
       "    <tr>\n",
       "      <th>count</th>\n",
       "      <td>1500.000000</td>\n",
       "      <td>1500.000000</td>\n",
       "      <td>1500.000000</td>\n",
       "      <td>1500.000000</td>\n",
       "      <td>1500.000000</td>\n",
       "      <td>1500.000000</td>\n",
       "      <td>1500.00000</td>\n",
       "      <td>1500.000000</td>\n",
       "      <td>1500.000000</td>\n",
       "      <td>1500.000000</td>\n",
       "    </tr>\n",
       "    <tr>\n",
       "      <th>mean</th>\n",
       "      <td>0.712667</td>\n",
       "      <td>2.211333</td>\n",
       "      <td>31.985333</td>\n",
       "      <td>83.838000</td>\n",
       "      <td>52.384000</td>\n",
       "      <td>2022.933333</td>\n",
       "      <td>26850.00000</td>\n",
       "      <td>242.000000</td>\n",
       "      <td>1.073333</td>\n",
       "      <td>3124.000000</td>\n",
       "    </tr>\n",
       "    <tr>\n",
       "      <th>std</th>\n",
       "      <td>0.994702</td>\n",
       "      <td>1.315989</td>\n",
       "      <td>11.537845</td>\n",
       "      <td>100.005916</td>\n",
       "      <td>61.435631</td>\n",
       "      <td>1095.789471</td>\n",
       "      <td>42554.78555</td>\n",
       "      <td>104.642088</td>\n",
       "      <td>1.293988</td>\n",
       "      <td>3389.488126</td>\n",
       "    </tr>\n",
       "    <tr>\n",
       "      <th>min</th>\n",
       "      <td>0.000000</td>\n",
       "      <td>1.000000</td>\n",
       "      <td>18.000000</td>\n",
       "      <td>0.000000</td>\n",
       "      <td>0.000000</td>\n",
       "      <td>0.000000</td>\n",
       "      <td>0.00000</td>\n",
       "      <td>0.000000</td>\n",
       "      <td>0.000000</td>\n",
       "      <td>0.000000</td>\n",
       "    </tr>\n",
       "    <tr>\n",
       "      <th>25%</th>\n",
       "      <td>0.000000</td>\n",
       "      <td>1.000000</td>\n",
       "      <td>23.000000</td>\n",
       "      <td>12.000000</td>\n",
       "      <td>12.000000</td>\n",
       "      <td>1500.000000</td>\n",
       "      <td>2500.00000</td>\n",
       "      <td>200.000000</td>\n",
       "      <td>0.000000</td>\n",
       "      <td>1000.000000</td>\n",
       "    </tr>\n",
       "    <tr>\n",
       "      <th>50%</th>\n",
       "      <td>0.000000</td>\n",
       "      <td>2.000000</td>\n",
       "      <td>29.000000</td>\n",
       "      <td>42.000000</td>\n",
       "      <td>27.000000</td>\n",
       "      <td>2000.000000</td>\n",
       "      <td>2500.00000</td>\n",
       "      <td>200.000000</td>\n",
       "      <td>1.000000</td>\n",
       "      <td>1700.000000</td>\n",
       "    </tr>\n",
       "    <tr>\n",
       "      <th>75%</th>\n",
       "      <td>1.000000</td>\n",
       "      <td>3.000000</td>\n",
       "      <td>38.000000</td>\n",
       "      <td>120.000000</td>\n",
       "      <td>66.000000</td>\n",
       "      <td>2600.000000</td>\n",
       "      <td>100000.00000</td>\n",
       "      <td>400.000000</td>\n",
       "      <td>2.000000</td>\n",
       "      <td>4000.000000</td>\n",
       "    </tr>\n",
       "    <tr>\n",
       "      <th>max</th>\n",
       "      <td>4.000000</td>\n",
       "      <td>9.000000</td>\n",
       "      <td>80.000000</td>\n",
       "      <td>444.000000</td>\n",
       "      <td>228.000000</td>\n",
       "      <td>5900.000000</td>\n",
       "      <td>100000.00000</td>\n",
       "      <td>500.000000</td>\n",
       "      <td>8.000000</td>\n",
       "      <td>13000.000000</td>\n",
       "    </tr>\n",
       "  </tbody>\n",
       "</table>\n",
       "</div>"
      ],
      "text/plain": [
       "          children       pers_h          age        tmadd       tmjob1  \\\n",
       "count  1500.000000  1500.000000  1500.000000  1500.000000  1500.000000   \n",
       "mean      0.712667     2.211333    31.985333    83.838000    52.384000   \n",
       "std       0.994702     1.315989    11.537845   100.005916    61.435631   \n",
       "min       0.000000     1.000000    18.000000     0.000000     0.000000   \n",
       "25%       0.000000     1.000000    23.000000    12.000000    12.000000   \n",
       "50%       0.000000     2.000000    29.000000    42.000000    27.000000   \n",
       "75%       1.000000     3.000000    38.000000   120.000000    66.000000   \n",
       "max       4.000000     9.000000    80.000000   444.000000   228.000000   \n",
       "\n",
       "            income           inc         inc1        loans          cash  \n",
       "count  1500.000000    1500.00000  1500.000000  1500.000000   1500.000000  \n",
       "mean   2022.933333   26850.00000   242.000000     1.073333   3124.000000  \n",
       "std    1095.789471   42554.78555   104.642088     1.293988   3389.488126  \n",
       "min       0.000000       0.00000     0.000000     0.000000      0.000000  \n",
       "25%    1500.000000    2500.00000   200.000000     0.000000   1000.000000  \n",
       "50%    2000.000000    2500.00000   200.000000     1.000000   1700.000000  \n",
       "75%    2600.000000  100000.00000   400.000000     2.000000   4000.000000  \n",
       "max    5900.000000  100000.00000   500.000000     8.000000  13000.000000  "
      ]
     },
     "execution_count": 124,
     "metadata": {},
     "output_type": "execute_result"
    }
   ],
   "source": [
    "df_rechazados[numerical].describe()"
   ]
  },
  {
   "cell_type": "markdown",
   "metadata": {},
   "source": [
    "## Codificación de rechazados"
   ]
  },
  {
   "cell_type": "code",
   "execution_count": 125,
   "metadata": {},
   "outputs": [],
   "source": [
    "df_rechazados_cod = encoder.fit_transform(df_rechazados)"
   ]
  },
  {
   "cell_type": "code",
   "execution_count": 126,
   "metadata": {},
   "outputs": [
    {
     "data": {
      "text/html": [
       "<div>\n",
       "<style scoped>\n",
       "    .dataframe tbody tr th:only-of-type {\n",
       "        vertical-align: middle;\n",
       "    }\n",
       "\n",
       "    .dataframe tbody tr th {\n",
       "        vertical-align: top;\n",
       "    }\n",
       "\n",
       "    .dataframe thead th {\n",
       "        text-align: right;\n",
       "    }\n",
       "</style>\n",
       "<table border=\"1\" class=\"dataframe\">\n",
       "  <thead>\n",
       "    <tr style=\"text-align: right;\">\n",
       "      <th></th>\n",
       "      <th>title</th>\n",
       "      <th>children</th>\n",
       "      <th>pers_h</th>\n",
       "      <th>age</th>\n",
       "      <th>tmadd</th>\n",
       "      <th>tmjob1</th>\n",
       "      <th>tel</th>\n",
       "      <th>nmbloan</th>\n",
       "      <th>finloan_0</th>\n",
       "      <th>finloan_1</th>\n",
       "      <th>...</th>\n",
       "      <th>loans</th>\n",
       "      <th>regn</th>\n",
       "      <th>div_0</th>\n",
       "      <th>div_1</th>\n",
       "      <th>cash</th>\n",
       "      <th>product</th>\n",
       "      <th>nat</th>\n",
       "      <th>prof</th>\n",
       "      <th>car</th>\n",
       "      <th>cards</th>\n",
       "    </tr>\n",
       "  </thead>\n",
       "  <tbody>\n",
       "    <tr>\n",
       "      <th>0</th>\n",
       "      <td>H</td>\n",
       "      <td>0.0</td>\n",
       "      <td>1.0</td>\n",
       "      <td>24.0</td>\n",
       "      <td>6.0</td>\n",
       "      <td>18.0</td>\n",
       "      <td>100.0</td>\n",
       "      <td>0.0</td>\n",
       "      <td>0</td>\n",
       "      <td>1</td>\n",
       "      <td>...</td>\n",
       "      <td>0.0</td>\n",
       "      <td>0</td>\n",
       "      <td>0</td>\n",
       "      <td>1</td>\n",
       "      <td>500.0</td>\n",
       "      <td>Dept. Store,Mail</td>\n",
       "      <td>East Germany</td>\n",
       "      <td>Others</td>\n",
       "      <td>Car</td>\n",
       "      <td>Cheque card</td>\n",
       "    </tr>\n",
       "    <tr>\n",
       "      <th>1</th>\n",
       "      <td>H</td>\n",
       "      <td>1.0</td>\n",
       "      <td>2.0</td>\n",
       "      <td>35.0</td>\n",
       "      <td>84.0</td>\n",
       "      <td>54.0</td>\n",
       "      <td>100.0</td>\n",
       "      <td>0.0</td>\n",
       "      <td>0</td>\n",
       "      <td>1</td>\n",
       "      <td>...</td>\n",
       "      <td>0.0</td>\n",
       "      <td>3</td>\n",
       "      <td>1</td>\n",
       "      <td>0</td>\n",
       "      <td>1700.0</td>\n",
       "      <td>Furniture,Carpet</td>\n",
       "      <td>East Germany</td>\n",
       "      <td>Food,Building,Ca</td>\n",
       "      <td>Without Vehicle</td>\n",
       "      <td>no credit cards</td>\n",
       "    </tr>\n",
       "    <tr>\n",
       "      <th>2</th>\n",
       "      <td>H</td>\n",
       "      <td>1.0</td>\n",
       "      <td>3.0</td>\n",
       "      <td>26.0</td>\n",
       "      <td>36.0</td>\n",
       "      <td>108.0</td>\n",
       "      <td>200.0</td>\n",
       "      <td>0.0</td>\n",
       "      <td>1</td>\n",
       "      <td>0</td>\n",
       "      <td>...</td>\n",
       "      <td>2.0</td>\n",
       "      <td>0</td>\n",
       "      <td>0</td>\n",
       "      <td>1</td>\n",
       "      <td>900.0</td>\n",
       "      <td>Radio, TV, Hifi</td>\n",
       "      <td>East Germany</td>\n",
       "      <td>Others</td>\n",
       "      <td>Car</td>\n",
       "      <td>no credit cards</td>\n",
       "    </tr>\n",
       "    <tr>\n",
       "      <th>3</th>\n",
       "      <td>R</td>\n",
       "      <td>2.0</td>\n",
       "      <td>3.0</td>\n",
       "      <td>35.0</td>\n",
       "      <td>168.0</td>\n",
       "      <td>15.0</td>\n",
       "      <td>100.0</td>\n",
       "      <td>0.0</td>\n",
       "      <td>0</td>\n",
       "      <td>1</td>\n",
       "      <td>...</td>\n",
       "      <td>0.0</td>\n",
       "      <td>0</td>\n",
       "      <td>0</td>\n",
       "      <td>1</td>\n",
       "      <td>1200.0</td>\n",
       "      <td>Radio, TV, Hifi</td>\n",
       "      <td>East Germany</td>\n",
       "      <td>Others</td>\n",
       "      <td>Without Vehicle</td>\n",
       "      <td>no credit cards</td>\n",
       "    </tr>\n",
       "    <tr>\n",
       "      <th>4</th>\n",
       "      <td>R</td>\n",
       "      <td>0.0</td>\n",
       "      <td>1.0</td>\n",
       "      <td>20.0</td>\n",
       "      <td>240.0</td>\n",
       "      <td>9.0</td>\n",
       "      <td>200.0</td>\n",
       "      <td>0.0</td>\n",
       "      <td>0</td>\n",
       "      <td>1</td>\n",
       "      <td>...</td>\n",
       "      <td>0.0</td>\n",
       "      <td>0</td>\n",
       "      <td>0</td>\n",
       "      <td>1</td>\n",
       "      <td>4000.0</td>\n",
       "      <td>Furniture,Carpet</td>\n",
       "      <td>East Germany</td>\n",
       "      <td>Others</td>\n",
       "      <td>Without Vehicle</td>\n",
       "      <td>Cheque card</td>\n",
       "    </tr>\n",
       "  </tbody>\n",
       "</table>\n",
       "<p>5 rows × 27 columns</p>\n",
       "</div>"
      ],
      "text/plain": [
       "  title  children  pers_h   age  tmadd  tmjob1    tel nmbloan  finloan_0  \\\n",
       "0     H       0.0     1.0  24.0    6.0    18.0  100.0     0.0          0   \n",
       "1     H       1.0     2.0  35.0   84.0    54.0  100.0     0.0          0   \n",
       "2     H       1.0     3.0  26.0   36.0   108.0  200.0     0.0          1   \n",
       "3     R       2.0     3.0  35.0  168.0    15.0  100.0     0.0          0   \n",
       "4     R       0.0     1.0  20.0  240.0     9.0  200.0     0.0          0   \n",
       "\n",
       "   finloan_1  ...  loans  regn  div_0  div_1    cash           product  \\\n",
       "0          1  ...    0.0     0      0      1   500.0  Dept. Store,Mail   \n",
       "1          1  ...    0.0     3      1      0  1700.0  Furniture,Carpet   \n",
       "2          0  ...    2.0     0      0      1   900.0   Radio, TV, Hifi   \n",
       "3          1  ...    0.0     0      0      1  1200.0   Radio, TV, Hifi   \n",
       "4          1  ...    0.0     0      0      1  4000.0  Furniture,Carpet   \n",
       "\n",
       "            nat              prof              car            cards  \n",
       "0  East Germany            Others              Car      Cheque card  \n",
       "1  East Germany  Food,Building,Ca  Without Vehicle  no credit cards  \n",
       "2  East Germany            Others              Car  no credit cards  \n",
       "3  East Germany            Others  Without Vehicle  no credit cards  \n",
       "4  East Germany            Others  Without Vehicle      Cheque card  \n",
       "\n",
       "[5 rows x 27 columns]"
      ]
     },
     "execution_count": 126,
     "metadata": {},
     "output_type": "execute_result"
    }
   ],
   "source": [
    "df_rechazados_cod.head()"
   ]
  },
  {
   "cell_type": "code",
   "execution_count": 127,
   "metadata": {},
   "outputs": [],
   "source": [
    "X_rechazados = pd.concat([df_rechazados_cod[numerical], df_rechazados_cod[['finloan_0', 'finloan_1', 'div_0', 'div_1', 'ec_card_0', 'ec_card_1']], \n",
    "                    pd.get_dummies(df_rechazados_cod['title'], dtype=int),\n",
    "                    pd.get_dummies(df_rechazados_cod['tel'], dtype=int),\n",
    "                    pd.get_dummies(df_rechazados_cod['nmbloan'], dtype=int),\n",
    "                    pd.get_dummies(df_rechazados_cod['status'], dtype=int),\n",
    "                    pd.get_dummies(df_rechazados_cod['bureau'], dtype=int),\n",
    "                    pd.get_dummies(df_rechazados_cod['regn'], dtype=int),\n",
    "                    pd.get_dummies(df_rechazados_cod['product'], dtype=int),\n",
    "                    pd.get_dummies(df_rechazados_cod['nat'], dtype=int),\n",
    "                    pd.get_dummies(df_rechazados_cod['prof'], dtype=int),\n",
    "                    pd.get_dummies(df_rechazados_cod['car'], dtype=int),\n",
    "                    pd.get_dummies(df_rechazados_cod['cards'], dtype=int)], axis=1)"
   ]
  },
  {
   "cell_type": "code",
   "execution_count": 128,
   "metadata": {},
   "outputs": [
    {
     "data": {
      "text/html": [
       "<div>\n",
       "<style scoped>\n",
       "    .dataframe tbody tr th:only-of-type {\n",
       "        vertical-align: middle;\n",
       "    }\n",
       "\n",
       "    .dataframe tbody tr th {\n",
       "        vertical-align: top;\n",
       "    }\n",
       "\n",
       "    .dataframe thead th {\n",
       "        text-align: right;\n",
       "    }\n",
       "</style>\n",
       "<table border=\"1\" class=\"dataframe\">\n",
       "  <thead>\n",
       "    <tr style=\"text-align: right;\">\n",
       "      <th></th>\n",
       "      <th>children</th>\n",
       "      <th>pers_h</th>\n",
       "      <th>age</th>\n",
       "      <th>tmadd</th>\n",
       "      <th>tmjob1</th>\n",
       "      <th>income</th>\n",
       "      <th>inc</th>\n",
       "      <th>inc1</th>\n",
       "      <th>loans</th>\n",
       "      <th>cash</th>\n",
       "      <th>...</th>\n",
       "      <th>Car</th>\n",
       "      <th>Car and Motor bi</th>\n",
       "      <th>Motorbike</th>\n",
       "      <th>Without Vehicle</th>\n",
       "      <th>Cheque card</th>\n",
       "      <th>Mastercard/Euroc</th>\n",
       "      <th>Other credit car</th>\n",
       "      <th>VISA Citibank</th>\n",
       "      <th>VISA Others</th>\n",
       "      <th>no credit cards</th>\n",
       "    </tr>\n",
       "  </thead>\n",
       "  <tbody>\n",
       "    <tr>\n",
       "      <th>0</th>\n",
       "      <td>0.0</td>\n",
       "      <td>1.0</td>\n",
       "      <td>24.0</td>\n",
       "      <td>6.0</td>\n",
       "      <td>18.0</td>\n",
       "      <td>0.0</td>\n",
       "      <td>0.0</td>\n",
       "      <td>100.0</td>\n",
       "      <td>0.0</td>\n",
       "      <td>500.0</td>\n",
       "      <td>...</td>\n",
       "      <td>1</td>\n",
       "      <td>0</td>\n",
       "      <td>0</td>\n",
       "      <td>0</td>\n",
       "      <td>1</td>\n",
       "      <td>0</td>\n",
       "      <td>0</td>\n",
       "      <td>0</td>\n",
       "      <td>0</td>\n",
       "      <td>0</td>\n",
       "    </tr>\n",
       "    <tr>\n",
       "      <th>1</th>\n",
       "      <td>1.0</td>\n",
       "      <td>2.0</td>\n",
       "      <td>35.0</td>\n",
       "      <td>84.0</td>\n",
       "      <td>54.0</td>\n",
       "      <td>2500.0</td>\n",
       "      <td>2500.0</td>\n",
       "      <td>200.0</td>\n",
       "      <td>0.0</td>\n",
       "      <td>1700.0</td>\n",
       "      <td>...</td>\n",
       "      <td>0</td>\n",
       "      <td>0</td>\n",
       "      <td>0</td>\n",
       "      <td>1</td>\n",
       "      <td>0</td>\n",
       "      <td>0</td>\n",
       "      <td>0</td>\n",
       "      <td>0</td>\n",
       "      <td>0</td>\n",
       "      <td>1</td>\n",
       "    </tr>\n",
       "    <tr>\n",
       "      <th>2</th>\n",
       "      <td>1.0</td>\n",
       "      <td>3.0</td>\n",
       "      <td>26.0</td>\n",
       "      <td>36.0</td>\n",
       "      <td>108.0</td>\n",
       "      <td>2600.0</td>\n",
       "      <td>100000.0</td>\n",
       "      <td>400.0</td>\n",
       "      <td>2.0</td>\n",
       "      <td>900.0</td>\n",
       "      <td>...</td>\n",
       "      <td>1</td>\n",
       "      <td>0</td>\n",
       "      <td>0</td>\n",
       "      <td>0</td>\n",
       "      <td>0</td>\n",
       "      <td>0</td>\n",
       "      <td>0</td>\n",
       "      <td>0</td>\n",
       "      <td>0</td>\n",
       "      <td>1</td>\n",
       "    </tr>\n",
       "    <tr>\n",
       "      <th>3</th>\n",
       "      <td>2.0</td>\n",
       "      <td>3.0</td>\n",
       "      <td>35.0</td>\n",
       "      <td>168.0</td>\n",
       "      <td>15.0</td>\n",
       "      <td>1600.0</td>\n",
       "      <td>2500.0</td>\n",
       "      <td>200.0</td>\n",
       "      <td>0.0</td>\n",
       "      <td>1200.0</td>\n",
       "      <td>...</td>\n",
       "      <td>0</td>\n",
       "      <td>0</td>\n",
       "      <td>0</td>\n",
       "      <td>1</td>\n",
       "      <td>0</td>\n",
       "      <td>0</td>\n",
       "      <td>0</td>\n",
       "      <td>0</td>\n",
       "      <td>0</td>\n",
       "      <td>1</td>\n",
       "    </tr>\n",
       "    <tr>\n",
       "      <th>4</th>\n",
       "      <td>0.0</td>\n",
       "      <td>1.0</td>\n",
       "      <td>20.0</td>\n",
       "      <td>240.0</td>\n",
       "      <td>9.0</td>\n",
       "      <td>0.0</td>\n",
       "      <td>0.0</td>\n",
       "      <td>100.0</td>\n",
       "      <td>0.0</td>\n",
       "      <td>4000.0</td>\n",
       "      <td>...</td>\n",
       "      <td>0</td>\n",
       "      <td>0</td>\n",
       "      <td>0</td>\n",
       "      <td>1</td>\n",
       "      <td>1</td>\n",
       "      <td>0</td>\n",
       "      <td>0</td>\n",
       "      <td>0</td>\n",
       "      <td>0</td>\n",
       "      <td>0</td>\n",
       "    </tr>\n",
       "  </tbody>\n",
       "</table>\n",
       "<p>5 rows × 75 columns</p>\n",
       "</div>"
      ],
      "text/plain": [
       "   children  pers_h   age  tmadd  tmjob1  income       inc   inc1  loans  \\\n",
       "0       0.0     1.0  24.0    6.0    18.0     0.0       0.0  100.0    0.0   \n",
       "1       1.0     2.0  35.0   84.0    54.0  2500.0    2500.0  200.0    0.0   \n",
       "2       1.0     3.0  26.0   36.0   108.0  2600.0  100000.0  400.0    2.0   \n",
       "3       2.0     3.0  35.0  168.0    15.0  1600.0    2500.0  200.0    0.0   \n",
       "4       0.0     1.0  20.0  240.0     9.0     0.0       0.0  100.0    0.0   \n",
       "\n",
       "     cash  ...  Car  Car and Motor bi  Motorbike  Without Vehicle  \\\n",
       "0   500.0  ...    1                 0          0                0   \n",
       "1  1700.0  ...    0                 0          0                1   \n",
       "2   900.0  ...    1                 0          0                0   \n",
       "3  1200.0  ...    0                 0          0                1   \n",
       "4  4000.0  ...    0                 0          0                1   \n",
       "\n",
       "   Cheque card  Mastercard/Euroc  Other credit car  VISA Citibank  \\\n",
       "0            1                 0                 0              0   \n",
       "1            0                 0                 0              0   \n",
       "2            0                 0                 0              0   \n",
       "3            0                 0                 0              0   \n",
       "4            1                 0                 0              0   \n",
       "\n",
       "   VISA Others  no credit cards  \n",
       "0            0                0  \n",
       "1            0                1  \n",
       "2            0                1  \n",
       "3            0                1  \n",
       "4            0                0  \n",
       "\n",
       "[5 rows x 75 columns]"
      ]
     },
     "execution_count": 128,
     "metadata": {},
     "output_type": "execute_result"
    }
   ],
   "source": [
    "X_rechazados.head()"
   ]
  },
  {
   "cell_type": "markdown",
   "metadata": {},
   "source": [
    "## Inferencia difusa de GB en rechazados"
   ]
  }
 ],
 "metadata": {
  "kernelspec": {
   "display_name": "Python 3",
   "language": "python",
   "name": "python3"
  },
  "language_info": {
   "codemirror_mode": {
    "name": "ipython",
    "version": 3
   },
   "file_extension": ".py",
   "mimetype": "text/x-python",
   "name": "python",
   "nbconvert_exporter": "python",
   "pygments_lexer": "ipython3",
   "version": "3.12.0"
  }
 },
 "nbformat": 4,
 "nbformat_minor": 2
}
